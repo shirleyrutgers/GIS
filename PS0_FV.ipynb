{
  "nbformat": 4,
  "nbformat_minor": 0,
  "metadata": {
    "colab": {
      "provenance": [],
      "toc_visible": true,
      "authorship_tag": "ABX9TyOUyM/oUrFE8Qyqx8KjPw+s",
      "include_colab_link": true
    },
    "kernelspec": {
      "name": "python3",
      "display_name": "Python 3"
    },
    "language_info": {
      "name": "python"
    }
  },
  "cells": [
    {
      "cell_type": "markdown",
      "metadata": {
        "id": "view-in-github",
        "colab_type": "text"
      },
      "source": [
        "<a href=\"https://colab.research.google.com/github/shirleyrutgers/GIS/blob/main/PS0_FV.ipynb\" target=\"_parent\"><img src=\"https://colab.research.google.com/assets/colab-badge.svg\" alt=\"Open In Colab\"/></a>"
      ]
    },
    {
      "cell_type": "markdown",
      "source": [
        "#PS0"
      ],
      "metadata": {
        "id": "VETSGsPJrngG"
      }
    },
    {
      "cell_type": "markdown",
      "source": [
        "#ps0:\n",
        "think about data to answer your questions; make 1st map; due sep11\n",
        " [version: Friday 5th September, 2025 09:09]\n",
        " [upto 3 points of extra credit]\n",
        " getting to know your data takes time! value your time! and gure out data youll use in this class asap !!! producing maps is fast; but\n",
        " data management is 20-80% of time !!!\n",
        " 1. think hard about data (and U/A or level of analysis) youll use in your career otherwise youll waste 50+ hours!! and write\n",
        " couple sentences/paragraphs about the data and variables you want to use to answer your research questions\n",
        " 2. get your own GIS data (shape le); if you do not have dataset, search on the internet for a shape le, say for NJ counties: NJ\n",
        " counties, shape le and/or email listserv for help\n",
        " 3. load the data into python, and produce a map (and submit ps as per directions below)\n",
        "\n",
        " Professor's comments for PS0 and my responses inline>\n",
        "\n"
      ],
      "metadata": {
        "id": "z0QOgzfhhCYB"
      }
    },
    {
      "cell_type": "markdown",
      "source": [
        "#Continuation of PS5 Data Visualization\n",
        "https://github.com/shirleyrutgers/DataVis/blob/main/PS5.ipynb\n",
        "\n",
        "##Research Topic, Research Question, Hypothesis and Variables\n",
        "\n",
        "###Research Topic:\n",
        "The Relationship Between County GDP, Industry Structure, and Business Formation in New Jersey, using Location Quotients (LQ)\n",
        "\n",
        "###Research Question:\n",
        "Do counties in New Jersey with higher GDP levels and stronger private industry presence show greater levels of business formation?\n",
        "\n",
        "###Hypothesis:\n",
        "Counties with higher GDP and stronger concentrations of private-sector employment—measured by Location Quotients (LQ)—will have a higher number of business applications. Additionally, areas with stronger performance in key sectors like education and health services may also support more entrepreneurship, while counties with lower private-sector presence may benefit from targeted support.\n",
        "\n",
        "###Key Variables:\n",
        "\n",
        "- Business Applications (BA2023): Dependent variable – represents entrepreneurship activity\n",
        "- Gross Domestic Product (GDP): Independent variable – shows overall economic strength\n",
        "- GDP per Capita: Economic capacity per person\n",
        "- Unemployment Rate: Indicator of economic stress\n",
        "- Median Income: Control for income levels\n",
        "- Location Quotient – Total Private Industry (LQ): Measures private-sector concentration vs. national average\n",
        "- Location Quotient – Education & Health Services: Shows specialization in a key industry with potential for business growth\n",
        "\n",
        "This study uses multiple datasets to explore how economic conditions, sector strength, and income levels influence business formation, helping identify counties that could benefit most from entrepreneurship support programs.\n",
        "\n",
        "Unit of Analysis (U/A): The counties of New Jersey are the primary unit of analysis for this study.\n",
        "\n",
        "Level of Analysis: The research is conducted at the county level, which allows for consistent comparisons across economic indicators.\n",
        "\n",
        "Justification: The county level was chosen because data is readily available, comparable, and relevant for analyzing regional economic development and entrepreneurship patterns. It also aligns with policy considerations that often target counties as administrative and planning units.\n",
        "\n",
        "The analysis focuses on 2023\n",
        "\n",
        "##References\n",
        "Acs, Z. J., Desai, S., & Hessels, J. (2008). *Entrepreneurship, economic development and institutions*. Small Business Economics, 31(3), 219–234.\n",
        "\n",
        "Glaeser, E. L., Kerr, W. R., & Kerr, S. P. (2010). *What makes a city entrepreneurial?*. Journal of Urban Economics, 67(1), 90–108.\n",
        "\n",
        "Federal Reserve Bank of St. Louis. (2012). *The relationships among changes in GDP, employment, and unemployment: This time it’s different*.\n",
        "\n",
        "New Jersey Small Business Development Center (NJSBDC). (n.d.). *Annual Reports*.\n",
        "\n",
        "New Jersey Department of Labor and Workforce Development. (n.d.). *SkillUp NJ*.\n",
        "\n",
        "APEX Accelerator Program – New Jersey Institute of Technology. (n.d.). *PTAC Services*.\n",
        "\n",
        "U.S. Census Bureau. (2025). *Business Formation Statistics – County Data*.\n",
        "\n",
        "New Jersey Economic Development Authority. (2025). *NJCountyData.xlsx*.\n",
        "\n",
        "Google Sheets (User Upload). (2025). *NJ GDP, population, and business data*.\n",
        "\n",
        "New Jersey Labor Market Information. (2025). *Quarterly Census of Employment and Wages*."
      ],
      "metadata": {
        "id": "QZv-NtBViAwG"
      }
    },
    {
      "cell_type": "markdown",
      "source": [
        "#Section I. Instalations"
      ],
      "metadata": {
        "id": "FP29Pq4FVJTF"
      }
    },
    {
      "cell_type": "code",
      "execution_count": 2,
      "metadata": {
        "id": "1tGijNo2UWgJ"
      },
      "outputs": [],
      "source": [
        "%%capture\n",
        "#!pip install geopandas #==1.0.1\n",
        "!pip install mapclassify #sometimes have to install library which you get from https://pypi.org/\n"
      ]
    },
    {
      "cell_type": "code",
      "source": [
        "import os, zipfile #basics\n",
        "import pandas as pd #data management\n",
        "import matplotlib.pyplot as plt #vis\n",
        "\n",
        "import geopandas as gpd #gis/maps: a sister of pandas; does the job;\n",
        "#tho not as fancy-interactive as folium or leafmap https://geopandas.org/\n",
        "\n",
        "import mapclassify #need for thematic map classification\n",
        "\n",
        "import seaborn as sns\n",
        "\n",
        "#will display all output not just last command\n",
        "from IPython.core.interactiveshell import InteractiveShell\n",
        "InteractiveShell.ast_node_interactivity = \"all\"\n",
        "\n",
        "from google.colab import files #to download from colab onto hd\n",
        "\n",
        "#from google.colab import data_table\n",
        "#data_table.enable_dataframe_formatter() #this enables spreadsheet view upon calling dataframe (without() )\n",
        "from google.colab.data_table import DataTable\n",
        "DataTable.max_columns = 250"
      ],
      "metadata": {
        "id": "7QGRCHCEU2nD"
      },
      "execution_count": 3,
      "outputs": []
    },
    {
      "cell_type": "code",
      "source": [
        "#!python --version\n",
        "gpd.__version__"
      ],
      "metadata": {
        "colab": {
          "base_uri": "https://localhost:8080/",
          "height": 35
        },
        "id": "EJUmLbC3U73h",
        "outputId": "c2d5da78-2f07-4966-aa27-32b0837f61eb"
      },
      "execution_count": 4,
      "outputs": [
        {
          "output_type": "execute_result",
          "data": {
            "text/plain": [
              "'1.1.1'"
            ],
            "application/vnd.google.colaboratory.intrinsic+json": {
              "type": "string"
            }
          },
          "metadata": {},
          "execution_count": 4
        }
      ]
    },
    {
      "cell_type": "markdown",
      "source": [
        "#Section II. Map area of Interest"
      ],
      "metadata": {
        "id": "0GSuBt7FVDhD"
      }
    },
    {
      "cell_type": "code",
      "source": [
        "#link from drive, I have here the NJ shapefile zip> https://drive.google.com/file/d/166bfglrBJcu79edOYl56OQyOdLcb63IU/view?usp=sharing\n",
        "#Link of my drive> https://drive.google.com/file/d/166bfglrBJcu79edOYl56OQyOdLcb63IU/view?usp=drive_link\n",
        "#Hint> drive link has long format (https://drive.google.com/file/d/.../view). I have to change into this this format:\n",
        "#https://docs.google.com/uc?id=ID_DEL_ARCHIVO&export=download\n",
        "# El ID_DEL_ARCHIVO está en la URL de Drive después de file/d/ y antes de /view.\n",
        "#My updated link https://docs.google.com/uc?id=166bfglrBJcu79edOYl56OQyOdLcb63IU&export=download\n",
        "\n",
        "#Example from Professor code> nj-counties.zip https://docs.google.com/uc?id=1xJDhcRCkgv7k4tNCa72Oog5bohV6dTB2&export=download\n",
        "#Ref.> replicating the AOK code.\n",
        "#Also read this how to upload a file into drive> https://theaok.github.io/generic/howToPutDataOnline.html\n",
        "\n",
        "! wget -q -O nj-counties.zip https://docs.google.com/uc?id=166bfglrBJcu79edOYl56OQyOdLcb63IU&export=download #link from drive\n",
        "# ! = run terminal command; wget = download; -q = quiet; -O = output name; saves file as nj-counties.zip; URL = direct download link\n",
        "\n",
        "zip_ref = zipfile.ZipFile('nj-counties.zip', 'r'); # open the zip file in read mode\n",
        "zip_ref.extractall(); # extract all files into current folder\n",
        "zip_ref.close() #just unzipping # close the zip file (good practice)\n",
        "nj=gpd.read_file('nj_counties.shp') #load the shapefile with gpd as njC # read shapefile into GeoDataFrame; use exact shapefile name"
      ],
      "metadata": {
        "id": "gXirYpHzWQqn"
      },
      "execution_count": 10,
      "outputs": []
    },
    {
      "cell_type": "code",
      "source": [
        "#make the map\n",
        "nj.plot()"
      ],
      "metadata": {
        "colab": {
          "base_uri": "https://localhost:8080/",
          "height": 447
        },
        "id": "hducL8fDXapR",
        "outputId": "03ff572d-5c41-4339-a811-d5710f55cdb8"
      },
      "execution_count": 11,
      "outputs": [
        {
          "output_type": "execute_result",
          "data": {
            "text/plain": [
              "<Axes: >"
            ]
          },
          "metadata": {},
          "execution_count": 11
        },
        {
          "output_type": "display_data",
          "data": {
            "text/plain": [
              "<Figure size 640x480 with 1 Axes>"
            ],
            "image/png": "[encoded data removed]"
          },
          "metadata": {}
        }
      ]
    },
    {
      "cell_type": "code",
      "source": [
        "# Ver las primeras filas de la tabla de atributos\n",
        "nj.head()\n",
        "\n",
        "# Ver solo los nombres de las columnas\n",
        "nj.columns\n",
        "\n",
        "# Si querés ver valores únicos de una columna que podría ser el nombre del county\n",
        "nj[\"ACRES\"].unique()\n"
      ],
      "metadata": {
        "id": "XA9t7ke6riYz",
        "outputId": "31bfa9db-52fc-4d86-d3b7-84eed87aa1d1",
        "colab": {
          "base_uri": "https://localhost:8080/",
          "height": 793
        }
      },
      "execution_count": 12,
      "outputs": [
        {
          "output_type": "execute_result",
          "data": {
            "text/plain": [
              "       COUNTY         COUNTY_LAB   CO             GNIS_NAME    GNIS FIPSSTCO  \\\n",
              "0    ATLANTIC    Atlantic County  ATL    County of Atlantic  882270    34001   \n",
              "1      BERGEN      Bergen County  BER      County of Bergen  882271    34003   \n",
              "2  BURLINGTON  Burlington County  BUR  County of Burlington  882272    34005   \n",
              "3      CAMDEN      Camden County  CAM      County of Camden  882273    34007   \n",
              "4    CAPE MAY    Cape May County  CAP    County of Cape May  882274    34009   \n",
              "\n",
              "  FIPSCO          ACRES    SQ_MILES  POP2010  ...  POP1990  POP1980  \\\n",
              "0      1  390815.404215  610.649069   274549  ...   275372   204615   \n",
              "1      3  153490.275182  239.828555   905116  ...   829592   849843   \n",
              "2      5  525002.683590  820.316693   448734  ...   395066   362542   \n",
              "3      7  145650.507808  227.578918   513657  ...   532498   471650   \n",
              "4      9  183126.574240  286.135272    97265  ...    95089    82266   \n",
              "\n",
              "   POPDEN2010  POPDEN2000  POPDEN1990  POPDEN1980        REGION  \\\n",
              "0         450         414         451         335       COASTAL   \n",
              "1        3774        3686        3459        3544  NORTHEASTERN   \n",
              "2         547         516         482         442      SOUTHERN   \n",
              "3        2257        2236        2340        2073      SOUTHERN   \n",
              "4         340         358         332         288       COASTAL   \n",
              "\n",
              "      Shape_Leng    Shape_Area  \\\n",
              "0  650228.153906  1.702385e+10   \n",
              "1  443326.122021  6.686010e+09   \n",
              "2  788906.717476  2.286903e+10   \n",
              "3  495010.034901  6.344511e+09   \n",
              "4  514564.858771  7.976962e+09   \n",
              "\n",
              "                                            geometry  \n",
              "0  POLYGON ((443056.01 311529.77, 443068.44 31152...  \n",
              "1  POLYGON ((656200.963 783614.366, 656141.127 78...  \n",
              "2  POLYGON ((436626.69 491361.78, 436701.19 49135...  \n",
              "3  POLYGON ((342763.99 423475.83, 342804.1 423429...  \n",
              "4  POLYGON ((390389.73 177065.13, 390410.17 17705...  \n",
              "\n",
              "[5 rows x 21 columns]"
            ],
            "text/html": [
              "\n",
              "  <div id=\"df-e5eb4b3c-d379-4c2c-b864-53a96ed32762\" class=\"colab-df-container\">\n",
              "    <div>\n",
              "<style scoped>\n",
              "    .dataframe tbody tr th:only-of-type {\n",
              "        vertical-align: middle;\n",
              "    }\n",
              "\n",
              "    .dataframe tbody tr th {\n",
              "        vertical-align: top;\n",
              "    }\n",
              "\n",
              "    .dataframe thead th {\n",
              "        text-align: right;\n",
              "    }\n",
              "</style>\n",
              "<table border=\"1\" class=\"dataframe\">\n",
              "  <thead>\n",
              "    <tr style=\"text-align: right;\">\n",
              "      <th></th>\n",
              "      <th>COUNTY</th>\n",
              "      <th>COUNTY_LAB</th>\n",
              "      <th>CO</th>\n",
              "      <th>GNIS_NAME</th>\n",
              "      <th>GNIS</th>\n",
              "      <th>FIPSSTCO</th>\n",
              "      <th>FIPSCO</th>\n",
              "      <th>ACRES</th>\n",
              "      <th>SQ_MILES</th>\n",
              "      <th>POP2010</th>\n",
              "      <th>...</th>\n",
              "      <th>POP1990</th>\n",
              "      <th>POP1980</th>\n",
              "      <th>POPDEN2010</th>\n",
              "      <th>POPDEN2000</th>\n",
              "      <th>POPDEN1990</th>\n",
              "      <th>POPDEN1980</th>\n",
              "      <th>REGION</th>\n",
              "      <th>Shape_Leng</th>\n",
              "      <th>Shape_Area</th>\n",
              "      <th>geometry</th>\n",
              "    </tr>\n",
              "  </thead>\n",
              "  <tbody>\n",
              "    <tr>\n",
              "      <th>0</th>\n",
              "      <td>ATLANTIC</td>\n",
              "      <td>Atlantic County</td>\n",
              "      <td>ATL</td>\n",
              "      <td>County of Atlantic</td>\n",
              "      <td>882270</td>\n",
              "      <td>34001</td>\n",
              "      <td>1</td>\n",
              "      <td>390815.404215</td>\n",
              "      <td>610.649069</td>\n",
              "      <td>274549</td>\n",
              "      <td>...</td>\n",
              "      <td>275372</td>\n",
              "      <td>204615</td>\n",
              "      <td>450</td>\n",
              "      <td>414</td>\n",
              "      <td>451</td>\n",
              "      <td>335</td>\n",
              "      <td>COASTAL</td>\n",
              "      <td>650228.153906</td>\n",
              "      <td>1.702385e+10</td>\n",
              "      <td>POLYGON ((443056.01 311529.77, 443068.44 31152...</td>\n",
              "    </tr>\n",
              "    <tr>\n",
              "      <th>1</th>\n",
              "      <td>BERGEN</td>\n",
              "      <td>Bergen County</td>\n",
              "      <td>BER</td>\n",
              "      <td>County of Bergen</td>\n",
              "      <td>882271</td>\n",
              "      <td>34003</td>\n",
              "      <td>3</td>\n",
              "      <td>153490.275182</td>\n",
              "      <td>239.828555</td>\n",
              "      <td>905116</td>\n",
              "      <td>...</td>\n",
              "      <td>829592</td>\n",
              "      <td>849843</td>\n",
              "      <td>3774</td>\n",
              "      <td>3686</td>\n",
              "      <td>3459</td>\n",
              "      <td>3544</td>\n",
              "      <td>NORTHEASTERN</td>\n",
              "      <td>443326.122021</td>\n",
              "      <td>6.686010e+09</td>\n",
              "      <td>POLYGON ((656200.963 783614.366, 656141.127 78...</td>\n",
              "    </tr>\n",
              "    <tr>\n",
              "      <th>2</th>\n",
              "      <td>BURLINGTON</td>\n",
              "      <td>Burlington County</td>\n",
              "      <td>BUR</td>\n",
              "      <td>County of Burlington</td>\n",
              "      <td>882272</td>\n",
              "      <td>34005</td>\n",
              "      <td>5</td>\n",
              "      <td>525002.683590</td>\n",
              "      <td>820.316693</td>\n",
              "      <td>448734</td>\n",
              "      <td>...</td>\n",
              "      <td>395066</td>\n",
              "      <td>362542</td>\n",
              "      <td>547</td>\n",
              "      <td>516</td>\n",
              "      <td>482</td>\n",
              "      <td>442</td>\n",
              "      <td>SOUTHERN</td>\n",
              "      <td>788906.717476</td>\n",
              "      <td>2.286903e+10</td>\n",
              "      <td>POLYGON ((436626.69 491361.78, 436701.19 49135...</td>\n",
              "    </tr>\n",
              "    <tr>\n",
              "      <th>3</th>\n",
              "      <td>CAMDEN</td>\n",
              "      <td>Camden County</td>\n",
              "      <td>CAM</td>\n",
              "      <td>County of Camden</td>\n",
              "      <td>882273</td>\n",
              "      <td>34007</td>\n",
              "      <td>7</td>\n",
              "      <td>145650.507808</td>\n",
              "      <td>227.578918</td>\n",
              "      <td>513657</td>\n",
              "      <td>...</td>\n",
              "      <td>532498</td>\n",
              "      <td>471650</td>\n",
              "      <td>2257</td>\n",
              "      <td>2236</td>\n",
              "      <td>2340</td>\n",
              "      <td>2073</td>\n",
              "      <td>SOUTHERN</td>\n",
              "      <td>495010.034901</td>\n",
              "      <td>6.344511e+09</td>\n",
              "      <td>POLYGON ((342763.99 423475.83, 342804.1 423429...</td>\n",
              "    </tr>\n",
              "    <tr>\n",
              "      <th>4</th>\n",
              "      <td>CAPE MAY</td>\n",
              "      <td>Cape May County</td>\n",
              "      <td>CAP</td>\n",
              "      <td>County of Cape May</td>\n",
              "      <td>882274</td>\n",
              "      <td>34009</td>\n",
              "      <td>9</td>\n",
              "      <td>183126.574240</td>\n",
              "      <td>286.135272</td>\n",
              "      <td>97265</td>\n",
              "      <td>...</td>\n",
              "      <td>95089</td>\n",
              "      <td>82266</td>\n",
              "      <td>340</td>\n",
              "      <td>358</td>\n",
              "      <td>332</td>\n",
              "      <td>288</td>\n",
              "      <td>COASTAL</td>\n",
              "      <td>514564.858771</td>\n",
              "      <td>7.976962e+09</td>\n",
              "      <td>POLYGON ((390389.73 177065.13, 390410.17 17705...</td>\n",
              "    </tr>\n",
              "  </tbody>\n",
              "</table>\n",
              "<p>5 rows × 21 columns</p>\n",
              "</div>\n",
              "    <div class=\"colab-df-buttons\">\n",
              "\n",
              "  <div class=\"colab-df-container\">\n",
              "    <button class=\"colab-df-convert\" onclick=\"convertToInteractive('df-e5eb4b3c-d379-4c2c-b864-53a96ed32762')\"\n",
              "            title=\"Convert this dataframe to an interactive table.\"\n",
              "            style=\"display:none;\">\n",
              "\n",
              "  <svg xmlns=\"http://www.w3.org/2000/svg\" height=\"24px\" viewBox=\"0 -960 960 960\">\n",
              "    <path d=\"M120-120v-720h720v720H120Zm60-500h600v-160H180v160Zm220 220h160v-160H400v160Zm0 220h160v-160H400v160ZM180-400h160v-160H180v160Zm440 0h160v-160H620v160ZM180-180h160v-160H180v160Zm440 0h160v-160H620v160Z\"/>\n",
              "  </svg>\n",
              "    </button>\n",
              "\n",
              "  <style>\n",
              "    .colab-df-container {\n",
              "      display:flex;\n",
              "      gap: 12px;\n",
              "    }\n",
              "\n",
              "    .colab-df-convert {\n",
              "      background-color: #E8F0FE;\n",
              "      border: none;\n",
              "      border-radius: 50%;\n",
              "      cursor: pointer;\n",
              "      display: none;\n",
              "      fill: #1967D2;\n",
              "      height: 32px;\n",
              "      padding: 0 0 0 0;\n",
              "      width: 32px;\n",
              "    }\n",
              "\n",
              "    .colab-df-convert:hover {\n",
              "      background-color: #E2EBFA;\n",
              "      box-shadow: 0px 1px 2px rgba(60, 64, 67, 0.3), 0px 1px 3px 1px rgba(60, 64, 67, 0.15);\n",
              "      fill: #174EA6;\n",
              "    }\n",
              "\n",
              "    .colab-df-buttons div {\n",
              "      margin-bottom: 4px;\n",
              "    }\n",
              "\n",
              "    [theme=dark] .colab-df-convert {\n",
              "      background-color: #3B4455;\n",
              "      fill: #D2E3FC;\n",
              "    }\n",
              "\n",
              "    [theme=dark] .colab-df-convert:hover {\n",
              "      background-color: #434B5C;\n",
              "      box-shadow: 0px 1px 3px 1px rgba(0, 0, 0, 0.15);\n",
              "      filter: drop-shadow(0px 1px 2px rgba(0, 0, 0, 0.3));\n",
              "      fill: #FFFFFF;\n",
              "    }\n",
              "  </style>\n",
              "\n",
              "    <script>\n",
              "      const buttonEl =\n",
              "        document.querySelector('#df-e5eb4b3c-d379-4c2c-b864-53a96ed32762 button.colab-df-convert');\n",
              "      buttonEl.style.display =\n",
              "        google.colab.kernel.accessAllowed ? 'block' : 'none';\n",
              "\n",
              "      async function convertToInteractive(key) {\n",
              "        const element = document.querySelector('#df-e5eb4b3c-d379-4c2c-b864-53a96ed32762');\n",
              "        const dataTable =\n",
              "          await google.colab.kernel.invokeFunction('convertToInteractive',\n",
              "                                                    [key], {});\n",
              "        if (!dataTable) return;\n",
              "\n",
              "        const docLinkHtml = 'Like what you see? Visit the ' +\n",
              "          '<a target=\"_blank\" href=https://colab.research.google.com/notebooks/data_table.ipynb>data table notebook</a>'\n",
              "          + ' to learn more about interactive tables.';\n",
              "        element.innerHTML = '';\n",
              "        dataTable['output_type'] = 'display_data';\n",
              "        await google.colab.output.renderOutput(dataTable, element);\n",
              "        const docLink = document.createElement('div');\n",
              "        docLink.innerHTML = docLinkHtml;\n",
              "        element.appendChild(docLink);\n",
              "      }\n",
              "    </script>\n",
              "  </div>\n",
              "\n",
              "\n",
              "    <div id=\"df-278f95cd-60e7-4345-a589-4ce03b6bf073\">\n",
              "      <button class=\"colab-df-quickchart\" onclick=\"quickchart('df-278f95cd-60e7-4345-a589-4ce03b6bf073')\"\n",
              "                title=\"Suggest charts\"\n",
              "                style=\"display:none;\">\n",
              "\n",
              "<svg xmlns=\"http://www.w3.org/2000/svg\" height=\"24px\"viewBox=\"0 0 24 24\"\n",
              "     width=\"24px\">\n",
              "    <g>\n",
              "        <path d=\"M19 3H5c-1.1 0-2 .9-2 2v14c0 1.1.9 2 2 2h14c1.1 0 2-.9 2-2V5c0-1.1-.9-2-2-2zM9 17H7v-7h2v7zm4 0h-2V7h2v10zm4 0h-2v-4h2v4z\"/>\n",
              "    </g>\n",
              "</svg>\n",
              "      </button>\n",
              "\n",
              "<style>\n",
              "  .colab-df-quickchart {\n",
              "      --bg-color: #E8F0FE;\n",
              "      --fill-color: #1967D2;\n",
              "      --hover-bg-color: #E2EBFA;\n",
              "      --hover-fill-color: #174EA6;\n",
              "      --disabled-fill-color: #AAA;\n",
              "      --disabled-bg-color: #DDD;\n",
              "  }\n",
              "\n",
              "  [theme=dark] .colab-df-quickchart {\n",
              "      --bg-color: #3B4455;\n",
              "      --fill-color: #D2E3FC;\n",
              "      --hover-bg-color: #434B5C;\n",
              "      --hover-fill-color: #FFFFFF;\n",
              "      --disabled-bg-color: #3B4455;\n",
              "      --disabled-fill-color: #666;\n",
              "  }\n",
              "\n",
              "  .colab-df-quickchart {\n",
              "    background-color: var(--bg-color);\n",
              "    border: none;\n",
              "    border-radius: 50%;\n",
              "    cursor: pointer;\n",
              "    display: none;\n",
              "    fill: var(--fill-color);\n",
              "    height: 32px;\n",
              "    padding: 0;\n",
              "    width: 32px;\n",
              "  }\n",
              "\n",
              "  .colab-df-quickchart:hover {\n",
              "    background-color: var(--hover-bg-color);\n",
              "    box-shadow: 0 1px 2px rgba(60, 64, 67, 0.3), 0 1px 3px 1px rgba(60, 64, 67, 0.15);\n",
              "    fill: var(--button-hover-fill-color);\n",
              "  }\n",
              "\n",
              "  .colab-df-quickchart-complete:disabled,\n",
              "  .colab-df-quickchart-complete:disabled:hover {\n",
              "    background-color: var(--disabled-bg-color);\n",
              "    fill: var(--disabled-fill-color);\n",
              "    box-shadow: none;\n",
              "  }\n",
              "\n",
              "  .colab-df-spinner {\n",
              "    border: 2px solid var(--fill-color);\n",
              "    border-color: transparent;\n",
              "    border-bottom-color: var(--fill-color);\n",
              "    animation:\n",
              "      spin 1s steps(1) infinite;\n",
              "  }\n",
              "\n",
              "  @keyframes spin {\n",
              "    0% {\n",
              "      border-color: transparent;\n",
              "      border-bottom-color: var(--fill-color);\n",
              "      border-left-color: var(--fill-color);\n",
              "    }\n",
              "    20% {\n",
              "      border-color: transparent;\n",
              "      border-left-color: var(--fill-color);\n",
              "      border-top-color: var(--fill-color);\n",
              "    }\n",
              "    30% {\n",
              "      border-color: transparent;\n",
              "      border-left-color: var(--fill-color);\n",
              "      border-top-color: var(--fill-color);\n",
              "      border-right-color: var(--fill-color);\n",
              "    }\n",
              "    40% {\n",
              "      border-color: transparent;\n",
              "      border-right-color: var(--fill-color);\n",
              "      border-top-color: var(--fill-color);\n",
              "    }\n",
              "    60% {\n",
              "      border-color: transparent;\n",
              "      border-right-color: var(--fill-color);\n",
              "    }\n",
              "    80% {\n",
              "      border-color: transparent;\n",
              "      border-right-color: var(--fill-color);\n",
              "      border-bottom-color: var(--fill-color);\n",
              "    }\n",
              "    90% {\n",
              "      border-color: transparent;\n",
              "      border-bottom-color: var(--fill-color);\n",
              "    }\n",
              "  }\n",
              "</style>\n",
              "\n",
              "      <script>\n",
              "        async function quickchart(key) {\n",
              "          const quickchartButtonEl =\n",
              "            document.querySelector('#' + key + ' button');\n",
              "          quickchartButtonEl.disabled = true;  // To prevent multiple clicks.\n",
              "          quickchartButtonEl.classList.add('colab-df-spinner');\n",
              "          try {\n",
              "            const charts = await google.colab.kernel.invokeFunction(\n",
              "                'suggestCharts', [key], {});\n",
              "          } catch (error) {\n",
              "            console.error('Error during call to suggestCharts:', error);\n",
              "          }\n",
              "          quickchartButtonEl.classList.remove('colab-df-spinner');\n",
              "          quickchartButtonEl.classList.add('colab-df-quickchart-complete');\n",
              "        }\n",
              "        (() => {\n",
              "          let quickchartButtonEl =\n",
              "            document.querySelector('#df-278f95cd-60e7-4345-a589-4ce03b6bf073 button');\n",
              "          quickchartButtonEl.style.display =\n",
              "            google.colab.kernel.accessAllowed ? 'block' : 'none';\n",
              "        })();\n",
              "      </script>\n",
              "    </div>\n",
              "\n",
              "    </div>\n",
              "  </div>\n"
            ],
            "application/vnd.google.colaboratory.intrinsic+json": {
              "type": "dataframe"
            }
          },
          "metadata": {},
          "execution_count": 12
        },
        {
          "output_type": "execute_result",
          "data": {
            "text/plain": [
              "Index(['COUNTY', 'COUNTY_LAB', 'CO', 'GNIS_NAME', 'GNIS', 'FIPSSTCO', 'FIPSCO',\n",
              "       'ACRES', 'SQ_MILES', 'POP2010', 'POP2000', 'POP1990', 'POP1980',\n",
              "       'POPDEN2010', 'POPDEN2000', 'POPDEN1990', 'POPDEN1980', 'REGION',\n",
              "       'Shape_Leng', 'Shape_Area', 'geometry'],\n",
              "      dtype='object')"
            ]
          },
          "metadata": {},
          "execution_count": 12
        },
        {
          "output_type": "execute_result",
          "data": {
            "text/plain": [
              "array([390815.404215 , 153490.275182 , 525002.68359  , 145650.507808 ,\n",
              "       183126.57424  , 321150.321572 ,  83034.8594887, 215166.893094 ,\n",
              "        32982.4007942, 279885.206384 , 146431.864374 , 310834.264884 ,\n",
              "       485078.440831 , 126926.846048 , 222158.656047 , 195127.363184 ,\n",
              "       342730.853674 ,  67438.5925946, 232061.359022 , 308084.429543 ,\n",
              "       202859.561527 ])"
            ]
          },
          "metadata": {},
          "execution_count": 12
        }
      ]
    },
    {
      "cell_type": "code",
      "source": [
        "# I want to show the map with the County' names\n",
        "fig, ax = plt.subplots(figsize=(10,10))\n",
        "\n",
        "# show the map\n",
        "nj.plot(ax=ax, edgecolor=\"black\", facecolor=\"lightgray\")\n",
        "\n",
        "# to add county' names (COUNTY)\n",
        "for idx, row in nj.iterrows():\n",
        "    plt.annotate(\n",
        "        text=row[\"COUNTY\"],              # nombre del county\n",
        "        xy=(row.geometry.centroid.x, row.geometry.centroid.y),  # coordenadas del centroide\n",
        "        ha=\"center\", fontsize=8, color=\"blue\"\n",
        "    )\n",
        "\n",
        "plt.title(\"New Jersey Counties with Labels MAP\")\n",
        "plt.axis(\"off\")\n",
        "plt.show()"
      ],
      "metadata": {
        "id": "conhxnWFswvv",
        "outputId": "3a722f93-6f07-45ba-8374-c8cd4f511b37",
        "colab": {
          "base_uri": "https://localhost:8080/",
          "height": 1000
        }
      },
      "execution_count": 13,
      "outputs": [
        {
          "output_type": "execute_result",
          "data": {
            "text/plain": [
              "<Axes: >"
            ]
          },
          "metadata": {},
          "execution_count": 13
        },
        {
          "output_type": "execute_result",
          "data": {
            "text/plain": [
              "Text(446845.6710119825, 234718.67854471222, 'ATLANTIC')"
            ]
          },
          "metadata": {},
          "execution_count": 13
        },
        {
          "output_type": "execute_result",
          "data": {
            "text/plain": [
              "Text(608674.9722903798, 775344.9010704905, 'BERGEN')"
            ]
          },
          "metadata": {},
          "execution_count": 13
        },
        {
          "output_type": "execute_result",
          "data": {
            "text/plain": [
              "Text(445015.10017129, 380378.9908087645, 'BURLINGTON')"
            ]
          },
          "metadata": {},
          "execution_count": 13
        },
        {
          "output_type": "execute_result",
          "data": {
            "text/plain": [
              "Text(362977.140254135, 353705.812773536, 'CAMDEN')"
            ]
          },
          "metadata": {},
          "execution_count": 13
        },
        {
          "output_type": "execute_result",
          "data": {
            "text/plain": [
              "Text(407013.1101691078, 114992.23820242906, 'CAPE MAY')"
            ]
          },
          "metadata": {},
          "execution_count": 13
        },
        {
          "output_type": "execute_result",
          "data": {
            "text/plain": [
              "Text(319542.7506195572, 197359.46040186452, 'CUMBERLAND')"
            ]
          },
          "metadata": {},
          "execution_count": 13
        },
        {
          "output_type": "execute_result",
          "data": {
            "text/plain": [
              "Text(562253.4894992855, 711675.2449585614, 'ESSEX')"
            ]
          },
          "metadata": {},
          "execution_count": 13
        },
        {
          "output_type": "execute_result",
          "data": {
            "text/plain": [
              "Text(311851.0044582621, 322497.09146205307, 'GLOUCESTER')"
            ]
          },
          "metadata": {},
          "execution_count": 13
        },
        {
          "output_type": "execute_result",
          "data": {
            "text/plain": [
              "Text(608428.8356149012, 694107.9908801537, 'HUDSON')"
            ]
          },
          "metadata": {},
          "execution_count": 13
        },
        {
          "output_type": "execute_result",
          "data": {
            "text/plain": [
              "Text(377593.6983420124, 631791.0280015195, 'HUNTERDON')"
            ]
          },
          "metadata": {},
          "execution_count": 13
        },
        {
          "output_type": "execute_result",
          "data": {
            "text/plain": [
              "Text(435852.78759398806, 528228.3056099586, 'MERCER')"
            ]
          },
          "metadata": {},
          "execution_count": 13
        },
        {
          "output_type": "execute_result",
          "data": {
            "text/plain": [
              "Text(569736.7056196635, 519774.2489392377, 'MONMOUTH')"
            ]
          },
          "metadata": {},
          "execution_count": 13
        },
        {
          "output_type": "execute_result",
          "data": {
            "text/plain": [
              "Text(553566.9451515801, 382793.6503082437, 'OCEAN')"
            ]
          },
          "metadata": {},
          "execution_count": 13
        },
        {
          "output_type": "execute_result",
          "data": {
            "text/plain": [
              "Text(547142.4144700206, 801720.2266180195, 'PASSAIC')"
            ]
          },
          "metadata": {},
          "execution_count": 13
        },
        {
          "output_type": "execute_result",
          "data": {
            "text/plain": [
              "Text(253014.767951469, 275761.56707926694, 'SALEM')"
            ]
          },
          "metadata": {},
          "execution_count": 13
        },
        {
          "output_type": "execute_result",
          "data": {
            "text/plain": [
              "Text(459788.98517990607, 630164.5125108969, 'SOMERSET')"
            ]
          },
          "metadata": {},
          "execution_count": 13
        },
        {
          "output_type": "execute_result",
          "data": {
            "text/plain": [
              "Text(439541.23874521523, 839964.6338105244, 'SUSSEX')"
            ]
          },
          "metadata": {},
          "execution_count": 13
        },
        {
          "output_type": "execute_result",
          "data": {
            "text/plain": [
              "Text(545391.2858900087, 665430.0582508749, 'UNION')"
            ]
          },
          "metadata": {},
          "execution_count": 13
        },
        {
          "output_type": "execute_result",
          "data": {
            "text/plain": [
              "Text(354515.98946147866, 737506.369618912, 'WARREN')"
            ]
          },
          "metadata": {},
          "execution_count": 13
        },
        {
          "output_type": "execute_result",
          "data": {
            "text/plain": [
              "Text(479789.7234039994, 738913.4075906109, 'MORRIS')"
            ]
          },
          "metadata": {},
          "execution_count": 13
        },
        {
          "output_type": "execute_result",
          "data": {
            "text/plain": [
              "Text(516625.77448488685, 584830.6357102671, 'MIDDLESEX')"
            ]
          },
          "metadata": {},
          "execution_count": 13
        },
        {
          "output_type": "execute_result",
          "data": {
            "text/plain": [
              "Text(0.5, 1.0, 'New Jersey Counties with Labels MAP')"
            ]
          },
          "metadata": {},
          "execution_count": 13
        },
        {
          "output_type": "execute_result",
          "data": {
            "text/plain": [
              "(np.float64(170515.9983667597),\n",
              " np.float64(680228.4248388171),\n",
              " np.float64(-9284.43030238487),\n",
              " np.float64(963779.6277322728))"
            ]
          },
          "metadata": {},
          "execution_count": 13
        },
        {
          "output_type": "display_data",
          "data": {
            "text/plain": [
              "<Figure size 1000x1000 with 1 Axes>"
            ],
            "image/png": "[encoded data removed]"
          },
          "metadata": {}
        }
      ]
    }
  ]
}