{
  "nbformat": 4,
  "nbformat_minor": 0,
  "metadata": {
    "colab": {
      "provenance": [],
      "authorship_tag": "ABX9TyOf9cXR53jZ8+MDJb31hFBp",
      "include_colab_link": true
    },
    "kernelspec": {
      "name": "python3",
      "display_name": "Python 3"
    },
    "language_info": {
      "name": "python"
    }
  },
  "cells": [
    {
      "cell_type": "markdown",
      "metadata": {
        "id": "view-in-github",
        "colab_type": "text"
      },
      "source": [
        "<a href=\"https://colab.research.google.com/github/shirleyrutgers/GIS/blob/main/PS0_FV.ipynb\" target=\"_parent\"><img src=\"https://colab.research.google.com/assets/colab-badge.svg\" alt=\"Open In Colab\"/></a>"
      ]
    },
    {
      "cell_type": "markdown",
      "source": [
        "ps0: think about data to answer your questions; make 1st map; due sep11\n",
        " [version: Friday 5th September, 2025 09:09]\n",
        " [upto 3 points of extra credit]\n",
        " getting to know your data takes time! value your time! and gure out data youll use in this class asap !!! producing maps is fast; but\n",
        " data management is 20-80% of time !!!\n",
        " 1. think hard about data (and U/A or level of analysis) youll use in your career otherwise youll waste 50+ hours!! and write\n",
        " couple sentences/paragraphs about the data and variables you want to use to answer your research questions\n",
        " 2. get your own GIS data (shape le); if you do not have dataset, search on the internet for a shape le, say for NJ counties: NJ\n",
        " counties, shape le and/or email listserv for help\n",
        " 3. load the data into python, and produce a map (and submit ps as per directions below)\n",
        "\n",
        " Professor's comments for PS0 and my responses inline>\n",
        "\n"
      ],
      "metadata": {
        "id": "z0QOgzfhhCYB"
      }
    },
    {
      "cell_type": "markdown",
      "source": [
        "#Continuation of PS5 Data Visualization\n",
        "https://github.com/shirleyrutgers/DataVis/blob/main/PS5.ipynb\n",
        "\n",
        "##Research Topic, Research Question, Hypothesis and Variables\n",
        "\n",
        "###Research Topic:\n",
        "The Relationship Between County GDP, Industry Structure, and Business Formation in New Jersey\n",
        "\n",
        "###Research Question:\n",
        "Do counties in New Jersey with higher GDP levels and stronger private industry presence show greater levels of business formation?\n",
        "\n",
        "###Hypothesis:\n",
        "Counties with higher GDP and stronger concentrations of private-sector employment—measured by Location Quotients (LQ)—will have a higher number of business applications. Additionally, areas with stronger performance in key sectors like education and health services may also support more entrepreneurship, while counties with lower private-sector presence may benefit from targeted support.\n",
        "\n",
        "###Key Variables:\n",
        "\n",
        "- Business Applications (BA2023): Dependent variable – represents entrepreneurship activity\n",
        "- Gross Domestic Product (GDP): Independent variable – shows overall economic strength\n",
        "- GDP per Capita: Economic capacity per person\n",
        "- Unemployment Rate: Indicator of economic stress\n",
        "- Median Income: Control for income levels\n",
        "- Location Quotient – Total Private Industry (LQ): Measures private-sector concentration vs. national average\n",
        "- Location Quotient – Education & Health Services: Shows specialization in a key industry with potential for business growth\n",
        "\n",
        "This study uses multiple datasets to explore how economic conditions, sector strength, and income levels influence business formation, helping identify counties that could benefit most from entrepreneurship support programs."
      ],
      "metadata": {
        "id": "QZv-NtBViAwG"
      }
    },
    {
      "cell_type": "markdown",
      "source": [
        "#Section I. Instalations"
      ],
      "metadata": {
        "id": "FP29Pq4FVJTF"
      }
    },
    {
      "cell_type": "code",
      "execution_count": null,
      "metadata": {
        "id": "1tGijNo2UWgJ"
      },
      "outputs": [],
      "source": [
        "%%capture\n",
        "#!pip install geopandas #==1.0.1\n",
        "!pip install mapclassify #sometimes have to install library which you get from https://pypi.org/\n"
      ]
    },
    {
      "cell_type": "code",
      "source": [
        "import os, zipfile #basics\n",
        "import pandas as pd #data management\n",
        "import matplotlib.pyplot as plt #vis\n",
        "\n",
        "import geopandas as gpd #gis/maps: a sister of pandas; does the job;\n",
        "#tho not as fancy-interactive as folium or leafmap https://geopandas.org/\n",
        "\n",
        "import mapclassify #need for thematic map classification\n",
        "\n",
        "import seaborn as sns\n",
        "\n",
        "#will display all output not just last command\n",
        "from IPython.core.interactiveshell import InteractiveShell\n",
        "InteractiveShell.ast_node_interactivity = \"all\"\n",
        "\n",
        "from google.colab import files #to download from colab onto hd\n",
        "\n",
        "#from google.colab import data_table\n",
        "#data_table.enable_dataframe_formatter() #this enables spreadsheet view upon calling dataframe (without() )\n",
        "from google.colab.data_table import DataTable\n",
        "DataTable.max_columns = 250"
      ],
      "metadata": {
        "id": "7QGRCHCEU2nD"
      },
      "execution_count": null,
      "outputs": []
    },
    {
      "cell_type": "code",
      "source": [
        "#!python --version\n",
        "gpd.__version__"
      ],
      "metadata": {
        "colab": {
          "base_uri": "https://localhost:8080/",
          "height": 35
        },
        "id": "EJUmLbC3U73h",
        "outputId": "8f6e9b4d-f65d-4dd5-8af3-056631e53de7"
      },
      "execution_count": null,
      "outputs": [
        {
          "output_type": "execute_result",
          "data": {
            "text/plain": [
              "'1.1.1'"
            ],
            "application/vnd.google.colaboratory.intrinsic+json": {
              "type": "string"
            }
          },
          "metadata": {},
          "execution_count": 13
        }
      ]
    },
    {
      "cell_type": "markdown",
      "source": [
        "#Section II. Map area of Interest"
      ],
      "metadata": {
        "id": "0GSuBt7FVDhD"
      }
    },
    {
      "cell_type": "code",
      "source": [
        "#link from drive, I have here the NJ shapefile zip> https://drive.google.com/file/d/166bfglrBJcu79edOYl56OQyOdLcb63IU/view?usp=sharing\n",
        "#Link of my drive> https://drive.google.com/file/d/166bfglrBJcu79edOYl56OQyOdLcb63IU/view?usp=drive_link\n",
        "#Hint> drive link has long format (https://drive.google.com/file/d/.../view). I have to change into this this format:\n",
        "#https://docs.google.com/uc?id=ID_DEL_ARCHIVO&export=download\n",
        "# El ID_DEL_ARCHIVO está en la URL de Drive después de file/d/ y antes de /view.\n",
        "#My updated link https://docs.google.com/uc?id=166bfglrBJcu79edOYl56OQyOdLcb63IU&export=download\n",
        "\n",
        "#Example from Professor code> nj-counties.zip https://docs.google.com/uc?id=1xJDhcRCkgv7k4tNCa72Oog5bohV6dTB2&export=download\n",
        "#Ref.> replicating the AOK code.\n",
        "#Also read this how to upload a file into drive> https://theaok.github.io/generic/howToPutDataOnline.html\n",
        "\n",
        "! wget -q -O nj-counties.zip https://docs.google.com/uc?id=166bfglrBJcu79edOYl56OQyOdLcb63IU&export=download #link from drive\n",
        "# ! = run terminal command; wget = download; -q = quiet; -O = output name; saves file as nj-counties.zip; URL = direct download link\n",
        "\n",
        "zip_ref = zipfile.ZipFile('nj-counties.zip', 'r'); # open the zip file in read mode\n",
        "zip_ref.extractall(); # extract all files into current folder\n",
        "zip_ref.close() #just unzipping # close the zip file (good practice)\n",
        "njC0=gpd.read_file('nj_counties.shp') #load the shapefile with gpd as njC # read shapefile into GeoDataFrame; use exact shapefile name"
      ],
      "metadata": {
        "id": "gXirYpHzWQqn"
      },
      "execution_count": null,
      "outputs": []
    },
    {
      "cell_type": "code",
      "source": [
        "#make the map\n",
        "njC0.plot()"
      ],
      "metadata": {
        "colab": {
          "base_uri": "https://localhost:8080/",
          "height": 447
        },
        "id": "hducL8fDXapR",
        "outputId": "a701d190-e690-48b9-d96c-a05472319af0"
      },
      "execution_count": null,
      "outputs": [
        {
          "output_type": "execute_result",
          "data": {
            "text/plain": [
              "<Axes: >"
            ]
          },
          "metadata": {},
          "execution_count": 10
        },
        {
          "output_type": "display_data",
          "data": {
            "text/plain": [
              "<Figure size 640x480 with 1 Axes>"
            ],
            "image/png": "[encoded data removed]"
          },
          "metadata": {}
        }
      ]
    }
  ]
}