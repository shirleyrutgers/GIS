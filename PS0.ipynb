{
  "nbformat": 4,
  "nbformat_minor": 0,
  "metadata": {
    "colab": {
      "provenance": [],
      "authorship_tag": "ABX9TyPtDqHwn7oajZY7cQpDAMO1",
      "include_colab_link": true
    },
    "kernelspec": {
      "name": "python3",
      "display_name": "Python 3"
    },
    "language_info": {
      "name": "python"
    }
  },
  "cells": [
    {
      "cell_type": "markdown",
      "metadata": {
        "id": "view-in-github",
        "colab_type": "text"
      },
      "source": [
        "<a href=\"https://colab.research.google.com/github/shirleyrutgers/GIS/blob/main/PS0.ipynb\" target=\"_parent\"><img src=\"https://colab.research.google.com/assets/colab-badge.svg\" alt=\"Open In Colab\"/></a>"
      ]
    },
    {
      "cell_type": "markdown",
      "source": [
        "##Happiness and Green area in Denmark 2015-2024\n",
        "##Data>\n",
        "Denmark green areas, happiness rate.\n",
        "Happiness\n",
        "Denmark Happiness index - data, chart | TheGlobalEconomy.com\n",
        "Other> WVS Database\n",
        "\n",
        "Forest area\n",
        "Denmark Forest area, percent - data, chart | TheGlobalEconomy.com\n",
        "Denmark Forest area, sq.km - data, chart | TheGlobalEconomy.com\n",
        "Human Development\n",
        "Denmark Human development - data, chart | TheGlobalEconomy.com\n",
        "\n",
        "##Research Question>\n",
        "Does the green area have a correlation between the happiness level in Denmark from the period 2015 2024?"
      ],
      "metadata": {
        "id": "goecjpS7MVCs"
      }
    },
    {
      "cell_type": "code",
      "execution_count": 1,
      "metadata": {
        "id": "Zs3y4kMRMDUO"
      },
      "outputs": [],
      "source": [
        "%%capture\n",
        "#!pip install geopandas #==1.0.1\n",
        "!pip install mapclassify #sometimes have to install library which you get from https://pypi.org/"
      ]
    }
  ]
}