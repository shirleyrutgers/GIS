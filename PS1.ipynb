{
  "nbformat": 4,
  "nbformat_minor": 0,
  "metadata": {
    "colab": {
      "provenance": [],
      "authorship_tag": "ABX9TyPlBGvRufLe43q5sz3xa6OT",
      "include_colab_link": true
    },
    "kernelspec": {
      "name": "python3",
      "display_name": "Python 3"
    },
    "language_info": {
      "name": "python"
    }
  },
  "cells": [
    {
      "cell_type": "markdown",
      "metadata": {
        "id": "view-in-github",
        "colab_type": "text"
      },
      "source": [
        "<a href=\"https://colab.research.google.com/github/shirleyrutgers/GIS/blob/main/PS1.ipynb\" target=\"_parent\"><img src=\"https://colab.research.google.com/assets/colab-badge.svg\" alt=\"Open In Colab\"/></a>"
      ]
    },
    {
      "cell_type": "markdown",
      "source": [
        "#PS1"
      ],
      "metadata": {
        "id": "VETSGsPJrngG"
      }
    },
    {
      "cell_type": "markdown",
      "source": [
        "#ps0:\n",
        "think about data to answer your questions; make 1st map; due sep11\n",
        " [version: Friday 5th September, 2025 09:09]\n",
        " [upto 3 points of extra credit]\n",
        " getting to know your data takes time! value your time! and gure out data youll use in this class asap !!! producing maps is fast; but\n",
        " data management is 20-80% of time !!!\n",
        " 1. think hard about data (and U/A or level of analysis) youll use in your career otherwise youll waste 50+ hours!! and write\n",
        " couple sentences/paragraphs about the data and variables you want to use to answer your research questions\n",
        " 2. get your own GIS data (shape le); if you do not have dataset, search on the internet for a shape le, say for NJ counties: NJ\n",
        " counties, shape le and/or email listserv for help\n",
        " 3. load the data into python, and produce a map (and submit ps as per directions below)\n",
        "\n",
        " Professor's comments for PS0 and my responses inline>\n",
        "Professor's comments for PS0 and my responses inline> comments on research ideas from first class A: Professor Adam S: Shirley\n",
        "\n",
        "A: possible to continue with and make maps from: https://github.com/shirleyrutgers/DataVis/blob/main/PS5.ipynb or do green areas; or ideally both! in this class you can do 2 (or more) unrelated projects!\n",
        "\n",
        "S: For now I prefer to continue with my research about LQ\n",
        "\n",
        "A: green areas and happiness there are super interesting neighborhood level data: https://mdi.georgetown.edu/pbi/greenspace/ and then can merge or join that with brfss 500 cities \"places\" dataset: https://www.cdc.gov/places/index.html and it has at least 2 wellbeing indicators: mental health and social support or maybe just follow this and use similar data sources at least for green areas https://www.sciencedirect.com/science/article/pii/S0169204623001305\n",
        "\n",
        "these green areas data may be useful too: https://data.unhabitat.org/pages/open-spaces-and-green-areas\n",
        "\n",
        "S: Thank you for the dataset, I think this one from UNHABITAD is very powerfull, but as I said I already have my dataset cleanned from VIS Class and still need to continue with that research topic.\n",
        "\n",
        "A: otherwise there is a lot of natural science datasources, but they may be mostly raster or picture and very large and difficult to handle: there are land use data that cover whole earth, only download small size, like a state or region within a country\n",
        "\n",
        "https://esa-worldcover.org/en/data-access and this tool looks useful incl download: https://viewer.esa-worldcover.org/worldcover/\n",
        "\n",
        "https://www.usgs.gov/faqs/where-can-i-get-global-land-cover-data has a bunch of datasets\n",
        "\n",
        "https://glad.earthengine.app/view/glcluc-2000-2020 maybe https://www.earthenv.org/landcover bunch of raster data\n",
        "\n",
        "S:I checked all of them. Some use other formats to read, not just CSV. I am familiar with CSV when using Python. And they are US datasets. I was searching for datasets of green areas from the last 30 years in Denmark by regions. I explored all of them and found there is no time series data covering all regions as an appropriate dataset (example: only in specific years like 1995, 2000, 2010, 2020). So, I prefer to continue working with LQ in NJ. My first idea was to integrate both classes GIS and Happiness> maps and quantitative analysis between Happiness and Green areas in Denmark, but until now I am having trouble with the dataset, so until I clarify this issue, I prefer to continue with LQ in NJ.\n"
      ],
      "metadata": {
        "id": "z0QOgzfhhCYB"
      }
    },
    {
      "cell_type": "markdown",
      "source": [
        "#Continuation of PS5 Data Visualization\n",
        "https://github.com/shirleyrutgers/DataVis/blob/main/PS5.ipynb\n",
        "\n",
        "##Research Topic, Research Question, Hypothesis and Variables\n",
        "\n",
        "###Research Topic:\n",
        "The Relationship Between County GDP, Industry Structure, and Business Formation in New Jersey, using Location Quotients (LQ)\n",
        "\n",
        "###Research Question:\n",
        "Do counties in New Jersey with higher GDP levels and stronger private industry presence show greater levels of business formation?\n",
        "\n",
        "###Hypothesis:\n",
        "Counties with higher GDP and stronger concentrations of private-sector employment—measured by Location Quotients (LQ)—will have a higher number of business applications. Additionally, areas with stronger performance in key sectors like education and health services may also support more entrepreneurship, while counties with lower private-sector presence may benefit from targeted support.\n",
        "\n",
        "###Key Variables:\n",
        "\n",
        "- Business Applications (BA2023): Dependent variable – represents entrepreneurship activity\n",
        "- Gross Domestic Product (GDP): Independent variable – shows overall economic strength\n",
        "- GDP per Capita: Economic capacity per person\n",
        "- Unemployment Rate: Indicator of economic stress\n",
        "- Median Income: Control for income levels\n",
        "- Location Quotient – Total Private Industry (LQ): Measures private-sector concentration vs. national average\n",
        "- Location Quotient – Education & Health Services: Shows specialization in a key industry with potential for business growth\n",
        "\n",
        "This study uses multiple datasets to explore how economic conditions, sector strength, and income levels influence business formation, helping identify counties that could benefit most from entrepreneurship support programs.\n",
        "\n",
        "Unit of Analysis (U/A): The counties of New Jersey are the primary unit of analysis for this study.\n",
        "\n",
        "Level of Analysis: The research is conducted at the county level, which allows for consistent comparisons across economic indicators.\n",
        "\n",
        "Justification: The county level was chosen because data is readily available, comparable, and relevant for analyzing regional economic development and entrepreneurship patterns. It also aligns with policy considerations that often target counties as administrative and planning units.\n",
        "\n",
        "The analysis focuses on 2023\n",
        "\n",
        "##References\n",
        "Acs, Z. J., Desai, S., & Hessels, J. (2008). *Entrepreneurship, economic development and institutions*. Small Business Economics, 31(3), 219–234.\n",
        "\n",
        "Glaeser, E. L., Kerr, W. R., & Kerr, S. P. (2010). *What makes a city entrepreneurial?*. Journal of Urban Economics, 67(1), 90–108.\n",
        "\n",
        "Federal Reserve Bank of St. Louis. (2012). *The relationships among changes in GDP, employment, and unemployment: This time it’s different*.\n",
        "\n",
        "New Jersey Small Business Development Center (NJSBDC). (n.d.). *Annual Reports*.\n",
        "\n",
        "New Jersey Department of Labor and Workforce Development. (n.d.). *SkillUp NJ*.\n",
        "\n",
        "APEX Accelerator Program – New Jersey Institute of Technology. (n.d.). *PTAC Services*.\n",
        "\n",
        "U.S. Census Bureau. (2025). *Business Formation Statistics – County Data*.\n",
        "\n",
        "New Jersey Economic Development Authority. (2025). *NJCountyData.xlsx*.\n",
        "\n",
        "Google Sheets (User Upload). (2025). *NJ GDP, population, and business data*.\n",
        "\n",
        "New Jersey Labor Market Information. (2025). *Quarterly Census of Employment and Wages*."
      ],
      "metadata": {
        "id": "QZv-NtBViAwG"
      }
    },
    {
      "cell_type": "markdown",
      "source": [
        "#Section I. Instalations"
      ],
      "metadata": {
        "id": "FP29Pq4FVJTF"
      }
    },
    {
      "cell_type": "code",
      "execution_count": null,
      "metadata": {
        "id": "1tGijNo2UWgJ"
      },
      "outputs": [],
      "source": [
        "%%capture\n",
        "#!pip install geopandas #==1.0.1\n",
        "!pip install mapclassify #sometimes have to install library which you get from https://pypi.org/\n"
      ]
    },
    {
      "cell_type": "code",
      "source": [
        "import os, zipfile #basics\n",
        "import pandas as pd #data management\n",
        "import matplotlib.pyplot as plt #vis\n",
        "\n",
        "import geopandas as gpd #gis/maps: a sister of pandas; does the job;\n",
        "#tho not as fancy-interactive as folium or leafmap https://geopandas.org/\n",
        "\n",
        "import mapclassify #need for thematic map classification\n",
        "\n",
        "import seaborn as sns\n",
        "\n",
        "#will display all output not just last command\n",
        "from IPython.core.interactiveshell import InteractiveShell\n",
        "InteractiveShell.ast_node_interactivity = \"all\"\n",
        "\n",
        "from google.colab import files #to download from colab onto hd\n",
        "\n",
        "#from google.colab import data_table\n",
        "#data_table.enable_dataframe_formatter() #this enables spreadsheet view upon calling dataframe (without() )\n",
        "from google.colab.data_table import DataTable\n",
        "DataTable.max_columns = 250"
      ],
      "metadata": {
        "id": "7QGRCHCEU2nD"
      },
      "execution_count": null,
      "outputs": []
    },
    {
      "cell_type": "code",
      "source": [
        "#!python --version\n",
        "gpd.__version__"
      ],
      "metadata": {
        "colab": {
          "base_uri": "https://localhost:8080/",
          "height": 35
        },
        "id": "EJUmLbC3U73h",
        "outputId": "85e2145d-4b9a-40cf-dff9-a162c9f01831"
      },
      "execution_count": null,
      "outputs": [
        {
          "output_type": "execute_result",
          "data": {
            "text/plain": [
              "'1.1.1'"
            ],
            "application/vnd.google.colaboratory.intrinsic+json": {
              "type": "string"
            }
          },
          "metadata": {},
          "execution_count": 3
        }
      ]
    },
    {
      "cell_type": "markdown",
      "source": [
        "#Section II. Map area of Interest"
      ],
      "metadata": {
        "id": "0GSuBt7FVDhD"
      }
    },
    {
      "cell_type": "code",
      "source": [
        "#link from drive, I have here the NJ shapefile zip> https://drive.google.com/file/d/166bfglrBJcu79edOYl56OQyOdLcb63IU/view?usp=sharing\n",
        "#Link of my drive> https://drive.google.com/file/d/166bfglrBJcu79edOYl56OQyOdLcb63IU/view?usp=drive_link\n",
        "#Hint> drive link has long format (https://drive.google.com/file/d/.../view). I have to change into this this format:\n",
        "#https://docs.google.com/uc?id=ID_DEL_ARCHIVO&export=download\n",
        "# El ID_DEL_ARCHIVO está en la URL de Drive después de file/d/ y antes de /view.\n",
        "#My updated link https://docs.google.com/uc?id=166bfglrBJcu79edOYl56OQyOdLcb63IU&export=download\n",
        "\n",
        "#Example from Professor code> nj-counties.zip https://docs.google.com/uc?id=1xJDhcRCkgv7k4tNCa72Oog5bohV6dTB2&export=download\n",
        "#Ref.> replicating the AOK code.\n",
        "#Also read this how to upload a file into drive> https://theaok.github.io/generic/howToPutDataOnline.html\n",
        "\n",
        "! wget -q -O nj-counties.zip https://docs.google.com/uc?id=166bfglrBJcu79edOYl56OQyOdLcb63IU&export=download #link from drive\n",
        "# ! = run terminal command; wget = download; -q = quiet; -O = output name; saves file as nj-counties.zip; URL = direct download link\n",
        "\n",
        "zip_ref = zipfile.ZipFile('nj-counties.zip', 'r'); # open the zip file in read mode\n",
        "zip_ref.extractall(); # extract all files into current folder\n",
        "zip_ref.close() #just unzipping # close the zip file (good practice)\n",
        "nj=gpd.read_file('nj_counties.shp') #load the shapefile with gpd as njC # read shapefile into GeoDataFrame; use exact shapefile name"
      ],
      "metadata": {
        "id": "gXirYpHzWQqn"
      },
      "execution_count": null,
      "outputs": []
    },
    {
      "cell_type": "code",
      "source": [
        "#make the map\n",
        "nj.plot()"
      ],
      "metadata": {
        "colab": {
          "base_uri": "https://localhost:8080/",
          "height": 447
        },
        "id": "hducL8fDXapR",
        "outputId": "3873bd82-8cd5-4d2b-94fa-e60774616d93"
      },
      "execution_count": null,
      "outputs": [
        {
          "output_type": "execute_result",
          "data": {
            "text/plain": [
              "<Axes: >"
            ]
          },
          "metadata": {},
          "execution_count": 5
        },
        {
          "output_type": "display_data",
          "data": {
            "text/plain": [
              "<Figure size 640x480 with 1 Axes>"
            ],
            "image/png": "[encoded data removed]"
          },
          "metadata": {}
        }
      ]
    },
    {
      "cell_type": "code",
      "source": [
        "# Ver las primeras filas de la tabla de atributos\n",
        "nj.head()\n",
        "\n",
        "# Ver solo los nombres de las columnas\n",
        "nj.columns\n",
        "\n",
        "# Si querés ver valores únicos de una columna que podría ser el nombre del county\n",
        "nj[\"ACRES\"].unique()\n"
      ],
      "metadata": {
        "colab": {
          "base_uri": "https://localhost:8080/",
          "height": 793
        },
        "id": "XA9t7ke6riYz",
        "outputId": "0a8163e9-9388-4641-afa8-7a39589dce02"
      },
      "execution_count": null,
      "outputs": [
        {
          "output_type": "execute_result",
          "data": {
            "text/plain": [
              "       COUNTY         COUNTY_LAB   CO             GNIS_NAME    GNIS FIPSSTCO  \\\n",
              "0    ATLANTIC    Atlantic County  ATL    County of Atlantic  882270    34001   \n",
              "1      BERGEN      Bergen County  BER      County of Bergen  882271    34003   \n",
              "2  BURLINGTON  Burlington County  BUR  County of Burlington  882272    34005   \n",
              "3      CAMDEN      Camden County  CAM      County of Camden  882273    34007   \n",
              "4    CAPE MAY    Cape May County  CAP    County of Cape May  882274    34009   \n",
              "\n",
              "  FIPSCO          ACRES    SQ_MILES  POP2010  ...  POP1990  POP1980  \\\n",
              "0      1  390815.404215  610.649069   274549  ...   275372   204615   \n",
              "1      3  153490.275182  239.828555   905116  ...   829592   849843   \n",
              "2      5  525002.683590  820.316693   448734  ...   395066   362542   \n",
              "3      7  145650.507808  227.578918   513657  ...   532498   471650   \n",
              "4      9  183126.574240  286.135272    97265  ...    95089    82266   \n",
              "\n",
              "   POPDEN2010  POPDEN2000  POPDEN1990  POPDEN1980        REGION  \\\n",
              "0         450         414         451         335       COASTAL   \n",
              "1        3774        3686        3459        3544  NORTHEASTERN   \n",
              "2         547         516         482         442      SOUTHERN   \n",
              "3        2257        2236        2340        2073      SOUTHERN   \n",
              "4         340         358         332         288       COASTAL   \n",
              "\n",
              "      Shape_Leng    Shape_Area  \\\n",
              "0  650228.153906  1.702385e+10   \n",
              "1  443326.122021  6.686010e+09   \n",
              "2  788906.717476  2.286903e+10   \n",
              "3  495010.034901  6.344511e+09   \n",
              "4  514564.858771  7.976962e+09   \n",
              "\n",
              "                                            geometry  \n",
              "0  POLYGON ((443056.01 311529.77, 443068.44 31152...  \n",
              "1  POLYGON ((656200.963 783614.366, 656141.127 78...  \n",
              "2  POLYGON ((436626.69 491361.78, 436701.19 49135...  \n",
              "3  POLYGON ((342763.99 423475.83, 342804.1 423429...  \n",
              "4  POLYGON ((390389.73 177065.13, 390410.17 17705...  \n",
              "\n",
              "[5 rows x 21 columns]"
            ],
            "text/html": [
              "\n",
              "  <div id=\"df-3ded1bd2-b065-4384-9d46-57933c2036c0\" class=\"colab-df-container\">\n",
              "    <div>\n",
              "<style scoped>\n",
              "    .dataframe tbody tr th:only-of-type {\n",
              "        vertical-align: middle;\n",
              "    }\n",
              "\n",
              "    .dataframe tbody tr th {\n",
              "        vertical-align: top;\n",
              "    }\n",
              "\n",
              "    .dataframe thead th {\n",
              "        text-align: right;\n",
              "    }\n",
              "</style>\n",
              "<table border=\"1\" class=\"dataframe\">\n",
              "  <thead>\n",
              "    <tr style=\"text-align: right;\">\n",
              "      <th></th>\n",
              "      <th>COUNTY</th>\n",
              "      <th>COUNTY_LAB</th>\n",
              "      <th>CO</th>\n",
              "      <th>GNIS_NAME</th>\n",
              "      <th>GNIS</th>\n",
              "      <th>FIPSSTCO</th>\n",
              "      <th>FIPSCO</th>\n",
              "      <th>ACRES</th>\n",
              "      <th>SQ_MILES</th>\n",
              "      <th>POP2010</th>\n",
              "      <th>...</th>\n",
              "      <th>POP1990</th>\n",
              "      <th>POP1980</th>\n",
              "      <th>POPDEN2010</th>\n",
              "      <th>POPDEN2000</th>\n",
              "      <th>POPDEN1990</th>\n",
              "      <th>POPDEN1980</th>\n",
              "      <th>REGION</th>\n",
              "      <th>Shape_Leng</th>\n",
              "      <th>Shape_Area</th>\n",
              "      <th>geometry</th>\n",
              "    </tr>\n",
              "  </thead>\n",
              "  <tbody>\n",
              "    <tr>\n",
              "      <th>0</th>\n",
              "      <td>ATLANTIC</td>\n",
              "      <td>Atlantic County</td>\n",
              "      <td>ATL</td>\n",
              "      <td>County of Atlantic</td>\n",
              "      <td>882270</td>\n",
              "      <td>34001</td>\n",
              "      <td>1</td>\n",
              "      <td>390815.404215</td>\n",
              "      <td>610.649069</td>\n",
              "      <td>274549</td>\n",
              "      <td>...</td>\n",
              "      <td>275372</td>\n",
              "      <td>204615</td>\n",
              "      <td>450</td>\n",
              "      <td>414</td>\n",
              "      <td>451</td>\n",
              "      <td>335</td>\n",
              "      <td>COASTAL</td>\n",
              "      <td>650228.153906</td>\n",
              "      <td>1.702385e+10</td>\n",
              "      <td>POLYGON ((443056.01 311529.77, 443068.44 31152...</td>\n",
              "    </tr>\n",
              "    <tr>\n",
              "      <th>1</th>\n",
              "      <td>BERGEN</td>\n",
              "      <td>Bergen County</td>\n",
              "      <td>BER</td>\n",
              "      <td>County of Bergen</td>\n",
              "      <td>882271</td>\n",
              "      <td>34003</td>\n",
              "      <td>3</td>\n",
              "      <td>153490.275182</td>\n",
              "      <td>239.828555</td>\n",
              "      <td>905116</td>\n",
              "      <td>...</td>\n",
              "      <td>829592</td>\n",
              "      <td>849843</td>\n",
              "      <td>3774</td>\n",
              "      <td>3686</td>\n",
              "      <td>3459</td>\n",
              "      <td>3544</td>\n",
              "      <td>NORTHEASTERN</td>\n",
              "      <td>443326.122021</td>\n",
              "      <td>6.686010e+09</td>\n",
              "      <td>POLYGON ((656200.963 783614.366, 656141.127 78...</td>\n",
              "    </tr>\n",
              "    <tr>\n",
              "      <th>2</th>\n",
              "      <td>BURLINGTON</td>\n",
              "      <td>Burlington County</td>\n",
              "      <td>BUR</td>\n",
              "      <td>County of Burlington</td>\n",
              "      <td>882272</td>\n",
              "      <td>34005</td>\n",
              "      <td>5</td>\n",
              "      <td>525002.683590</td>\n",
              "      <td>820.316693</td>\n",
              "      <td>448734</td>\n",
              "      <td>...</td>\n",
              "      <td>395066</td>\n",
              "      <td>362542</td>\n",
              "      <td>547</td>\n",
              "      <td>516</td>\n",
              "      <td>482</td>\n",
              "      <td>442</td>\n",
              "      <td>SOUTHERN</td>\n",
              "      <td>788906.717476</td>\n",
              "      <td>2.286903e+10</td>\n",
              "      <td>POLYGON ((436626.69 491361.78, 436701.19 49135...</td>\n",
              "    </tr>\n",
              "    <tr>\n",
              "      <th>3</th>\n",
              "      <td>CAMDEN</td>\n",
              "      <td>Camden County</td>\n",
              "      <td>CAM</td>\n",
              "      <td>County of Camden</td>\n",
              "      <td>882273</td>\n",
              "      <td>34007</td>\n",
              "      <td>7</td>\n",
              "      <td>145650.507808</td>\n",
              "      <td>227.578918</td>\n",
              "      <td>513657</td>\n",
              "      <td>...</td>\n",
              "      <td>532498</td>\n",
              "      <td>471650</td>\n",
              "      <td>2257</td>\n",
              "      <td>2236</td>\n",
              "      <td>2340</td>\n",
              "      <td>2073</td>\n",
              "      <td>SOUTHERN</td>\n",
              "      <td>495010.034901</td>\n",
              "      <td>6.344511e+09</td>\n",
              "      <td>POLYGON ((342763.99 423475.83, 342804.1 423429...</td>\n",
              "    </tr>\n",
              "    <tr>\n",
              "      <th>4</th>\n",
              "      <td>CAPE MAY</td>\n",
              "      <td>Cape May County</td>\n",
              "      <td>CAP</td>\n",
              "      <td>County of Cape May</td>\n",
              "      <td>882274</td>\n",
              "      <td>34009</td>\n",
              "      <td>9</td>\n",
              "      <td>183126.574240</td>\n",
              "      <td>286.135272</td>\n",
              "      <td>97265</td>\n",
              "      <td>...</td>\n",
              "      <td>95089</td>\n",
              "      <td>82266</td>\n",
              "      <td>340</td>\n",
              "      <td>358</td>\n",
              "      <td>332</td>\n",
              "      <td>288</td>\n",
              "      <td>COASTAL</td>\n",
              "      <td>514564.858771</td>\n",
              "      <td>7.976962e+09</td>\n",
              "      <td>POLYGON ((390389.73 177065.13, 390410.17 17705...</td>\n",
              "    </tr>\n",
              "  </tbody>\n",
              "</table>\n",
              "<p>5 rows × 21 columns</p>\n",
              "</div>\n",
              "    <div class=\"colab-df-buttons\">\n",
              "\n",
              "  <div class=\"colab-df-container\">\n",
              "    <button class=\"colab-df-convert\" onclick=\"convertToInteractive('df-3ded1bd2-b065-4384-9d46-57933c2036c0')\"\n",
              "            title=\"Convert this dataframe to an interactive table.\"\n",
              "            style=\"display:none;\">\n",
              "\n",
              "  <svg xmlns=\"http://www.w3.org/2000/svg\" height=\"24px\" viewBox=\"0 -960 960 960\">\n",
              "    <path d=\"M120-120v-720h720v720H120Zm60-500h600v-160H180v160Zm220 220h160v-160H400v160Zm0 220h160v-160H400v160ZM180-400h160v-160H180v160Zm440 0h160v-160H620v160ZM180-180h160v-160H180v160Zm440 0h160v-160H620v160Z\"/>\n",
              "  </svg>\n",
              "    </button>\n",
              "\n",
              "  <style>\n",
              "    .colab-df-container {\n",
              "      display:flex;\n",
              "      gap: 12px;\n",
              "    }\n",
              "\n",
              "    .colab-df-convert {\n",
              "      background-color: #E8F0FE;\n",
              "      border: none;\n",
              "      border-radius: 50%;\n",
              "      cursor: pointer;\n",
              "      display: none;\n",
              "      fill: #1967D2;\n",
              "      height: 32px;\n",
              "      padding: 0 0 0 0;\n",
              "      width: 32px;\n",
              "    }\n",
              "\n",
              "    .colab-df-convert:hover {\n",
              "      background-color: #E2EBFA;\n",
              "      box-shadow: 0px 1px 2px rgba(60, 64, 67, 0.3), 0px 1px 3px 1px rgba(60, 64, 67, 0.15);\n",
              "      fill: #174EA6;\n",
              "    }\n",
              "\n",
              "    .colab-df-buttons div {\n",
              "      margin-bottom: 4px;\n",
              "    }\n",
              "\n",
              "    [theme=dark] .colab-df-convert {\n",
              "      background-color: #3B4455;\n",
              "      fill: #D2E3FC;\n",
              "    }\n",
              "\n",
              "    [theme=dark] .colab-df-convert:hover {\n",
              "      background-color: #434B5C;\n",
              "      box-shadow: 0px 1px 3px 1px rgba(0, 0, 0, 0.15);\n",
              "      filter: drop-shadow(0px 1px 2px rgba(0, 0, 0, 0.3));\n",
              "      fill: #FFFFFF;\n",
              "    }\n",
              "  </style>\n",
              "\n",
              "    <script>\n",
              "      const buttonEl =\n",
              "        document.querySelector('#df-3ded1bd2-b065-4384-9d46-57933c2036c0 button.colab-df-convert');\n",
              "      buttonEl.style.display =\n",
              "        google.colab.kernel.accessAllowed ? 'block' : 'none';\n",
              "\n",
              "      async function convertToInteractive(key) {\n",
              "        const element = document.querySelector('#df-3ded1bd2-b065-4384-9d46-57933c2036c0');\n",
              "        const dataTable =\n",
              "          await google.colab.kernel.invokeFunction('convertToInteractive',\n",
              "                                                    [key], {});\n",
              "        if (!dataTable) return;\n",
              "\n",
              "        const docLinkHtml = 'Like what you see? Visit the ' +\n",
              "          '<a target=\"_blank\" href=https://colab.research.google.com/notebooks/data_table.ipynb>data table notebook</a>'\n",
              "          + ' to learn more about interactive tables.';\n",
              "        element.innerHTML = '';\n",
              "        dataTable['output_type'] = 'display_data';\n",
              "        await google.colab.output.renderOutput(dataTable, element);\n",
              "        const docLink = document.createElement('div');\n",
              "        docLink.innerHTML = docLinkHtml;\n",
              "        element.appendChild(docLink);\n",
              "      }\n",
              "    </script>\n",
              "  </div>\n",
              "\n",
              "\n",
              "    <div id=\"df-98d0c1f9-1eb8-4d08-a217-bd9bc14edaf5\">\n",
              "      <button class=\"colab-df-quickchart\" onclick=\"quickchart('df-98d0c1f9-1eb8-4d08-a217-bd9bc14edaf5')\"\n",
              "                title=\"Suggest charts\"\n",
              "                style=\"display:none;\">\n",
              "\n",
              "<svg xmlns=\"http://www.w3.org/2000/svg\" height=\"24px\"viewBox=\"0 0 24 24\"\n",
              "     width=\"24px\">\n",
              "    <g>\n",
              "        <path d=\"M19 3H5c-1.1 0-2 .9-2 2v14c0 1.1.9 2 2 2h14c1.1 0 2-.9 2-2V5c0-1.1-.9-2-2-2zM9 17H7v-7h2v7zm4 0h-2V7h2v10zm4 0h-2v-4h2v4z\"/>\n",
              "    </g>\n",
              "</svg>\n",
              "      </button>\n",
              "\n",
              "<style>\n",
              "  .colab-df-quickchart {\n",
              "      --bg-color: #E8F0FE;\n",
              "      --fill-color: #1967D2;\n",
              "      --hover-bg-color: #E2EBFA;\n",
              "      --hover-fill-color: #174EA6;\n",
              "      --disabled-fill-color: #AAA;\n",
              "      --disabled-bg-color: #DDD;\n",
              "  }\n",
              "\n",
              "  [theme=dark] .colab-df-quickchart {\n",
              "      --bg-color: #3B4455;\n",
              "      --fill-color: #D2E3FC;\n",
              "      --hover-bg-color: #434B5C;\n",
              "      --hover-fill-color: #FFFFFF;\n",
              "      --disabled-bg-color: #3B4455;\n",
              "      --disabled-fill-color: #666;\n",
              "  }\n",
              "\n",
              "  .colab-df-quickchart {\n",
              "    background-color: var(--bg-color);\n",
              "    border: none;\n",
              "    border-radius: 50%;\n",
              "    cursor: pointer;\n",
              "    display: none;\n",
              "    fill: var(--fill-color);\n",
              "    height: 32px;\n",
              "    padding: 0;\n",
              "    width: 32px;\n",
              "  }\n",
              "\n",
              "  .colab-df-quickchart:hover {\n",
              "    background-color: var(--hover-bg-color);\n",
              "    box-shadow: 0 1px 2px rgba(60, 64, 67, 0.3), 0 1px 3px 1px rgba(60, 64, 67, 0.15);\n",
              "    fill: var(--button-hover-fill-color);\n",
              "  }\n",
              "\n",
              "  .colab-df-quickchart-complete:disabled,\n",
              "  .colab-df-quickchart-complete:disabled:hover {\n",
              "    background-color: var(--disabled-bg-color);\n",
              "    fill: var(--disabled-fill-color);\n",
              "    box-shadow: none;\n",
              "  }\n",
              "\n",
              "  .colab-df-spinner {\n",
              "    border: 2px solid var(--fill-color);\n",
              "    border-color: transparent;\n",
              "    border-bottom-color: var(--fill-color);\n",
              "    animation:\n",
              "      spin 1s steps(1) infinite;\n",
              "  }\n",
              "\n",
              "  @keyframes spin {\n",
              "    0% {\n",
              "      border-color: transparent;\n",
              "      border-bottom-color: var(--fill-color);\n",
              "      border-left-color: var(--fill-color);\n",
              "    }\n",
              "    20% {\n",
              "      border-color: transparent;\n",
              "      border-left-color: var(--fill-color);\n",
              "      border-top-color: var(--fill-color);\n",
              "    }\n",
              "    30% {\n",
              "      border-color: transparent;\n",
              "      border-left-color: var(--fill-color);\n",
              "      border-top-color: var(--fill-color);\n",
              "      border-right-color: var(--fill-color);\n",
              "    }\n",
              "    40% {\n",
              "      border-color: transparent;\n",
              "      border-right-color: var(--fill-color);\n",
              "      border-top-color: var(--fill-color);\n",
              "    }\n",
              "    60% {\n",
              "      border-color: transparent;\n",
              "      border-right-color: var(--fill-color);\n",
              "    }\n",
              "    80% {\n",
              "      border-color: transparent;\n",
              "      border-right-color: var(--fill-color);\n",
              "      border-bottom-color: var(--fill-color);\n",
              "    }\n",
              "    90% {\n",
              "      border-color: transparent;\n",
              "      border-bottom-color: var(--fill-color);\n",
              "    }\n",
              "  }\n",
              "</style>\n",
              "\n",
              "      <script>\n",
              "        async function quickchart(key) {\n",
              "          const quickchartButtonEl =\n",
              "            document.querySelector('#' + key + ' button');\n",
              "          quickchartButtonEl.disabled = true;  // To prevent multiple clicks.\n",
              "          quickchartButtonEl.classList.add('colab-df-spinner');\n",
              "          try {\n",
              "            const charts = await google.colab.kernel.invokeFunction(\n",
              "                'suggestCharts', [key], {});\n",
              "          } catch (error) {\n",
              "            console.error('Error during call to suggestCharts:', error);\n",
              "          }\n",
              "          quickchartButtonEl.classList.remove('colab-df-spinner');\n",
              "          quickchartButtonEl.classList.add('colab-df-quickchart-complete');\n",
              "        }\n",
              "        (() => {\n",
              "          let quickchartButtonEl =\n",
              "            document.querySelector('#df-98d0c1f9-1eb8-4d08-a217-bd9bc14edaf5 button');\n",
              "          quickchartButtonEl.style.display =\n",
              "            google.colab.kernel.accessAllowed ? 'block' : 'none';\n",
              "        })();\n",
              "      </script>\n",
              "    </div>\n",
              "\n",
              "    </div>\n",
              "  </div>\n"
            ],
            "application/vnd.google.colaboratory.intrinsic+json": {
              "type": "dataframe"
            }
          },
          "metadata": {},
          "execution_count": 6
        },
        {
          "output_type": "execute_result",
          "data": {
            "text/plain": [
              "Index(['COUNTY', 'COUNTY_LAB', 'CO', 'GNIS_NAME', 'GNIS', 'FIPSSTCO', 'FIPSCO',\n",
              "       'ACRES', 'SQ_MILES', 'POP2010', 'POP2000', 'POP1990', 'POP1980',\n",
              "       'POPDEN2010', 'POPDEN2000', 'POPDEN1990', 'POPDEN1980', 'REGION',\n",
              "       'Shape_Leng', 'Shape_Area', 'geometry'],\n",
              "      dtype='object')"
            ]
          },
          "metadata": {},
          "execution_count": 6
        },
        {
          "output_type": "execute_result",
          "data": {
            "text/plain": [
              "array([390815.404215 , 153490.275182 , 525002.68359  , 145650.507808 ,\n",
              "       183126.57424  , 321150.321572 ,  83034.8594887, 215166.893094 ,\n",
              "        32982.4007942, 279885.206384 , 146431.864374 , 310834.264884 ,\n",
              "       485078.440831 , 126926.846048 , 222158.656047 , 195127.363184 ,\n",
              "       342730.853674 ,  67438.5925946, 232061.359022 , 308084.429543 ,\n",
              "       202859.561527 ])"
            ]
          },
          "metadata": {},
          "execution_count": 6
        }
      ]
    },
    {
      "cell_type": "code",
      "source": [
        "# I want to show the map with the County' names\n",
        "fig, ax = plt.subplots(figsize=(10,10))\n",
        "\n",
        "# show the map\n",
        "nj.plot(ax=ax, edgecolor=\"black\", facecolor=\"lightgray\")\n",
        "\n",
        "# to add county' names (COUNTY)\n",
        "for idx, row in nj.iterrows():\n",
        "    plt.annotate(\n",
        "        text=row[\"COUNTY\"],              # nombre del county\n",
        "        xy=(row.geometry.centroid.x, row.geometry.centroid.y),  # coordenadas del centroide\n",
        "        ha=\"center\", fontsize=8, color=\"blue\"\n",
        "    )\n",
        "\n",
        "plt.title(\"New Jersey Counties with Labels MAP\")\n",
        "plt.axis(\"off\")\n",
        "plt.show()"
      ],
      "metadata": {
        "colab": {
          "base_uri": "https://localhost:8080/",
          "height": 1000
        },
        "id": "conhxnWFswvv",
        "outputId": "f2fa9574-0633-443f-d871-ddc387567394"
      },
      "execution_count": null,
      "outputs": [
        {
          "output_type": "execute_result",
          "data": {
            "text/plain": [
              "<Axes: >"
            ]
          },
          "metadata": {},
          "execution_count": 7
        },
        {
          "output_type": "execute_result",
          "data": {
            "text/plain": [
              "Text(446845.6710119825, 234718.67854471222, 'ATLANTIC')"
            ]
          },
          "metadata": {},
          "execution_count": 7
        },
        {
          "output_type": "execute_result",
          "data": {
            "text/plain": [
              "Text(608674.9722903798, 775344.9010704905, 'BERGEN')"
            ]
          },
          "metadata": {},
          "execution_count": 7
        },
        {
          "output_type": "execute_result",
          "data": {
            "text/plain": [
              "Text(445015.10017129, 380378.9908087645, 'BURLINGTON')"
            ]
          },
          "metadata": {},
          "execution_count": 7
        },
        {
          "output_type": "execute_result",
          "data": {
            "text/plain": [
              "Text(362977.140254135, 353705.812773536, 'CAMDEN')"
            ]
          },
          "metadata": {},
          "execution_count": 7
        },
        {
          "output_type": "execute_result",
          "data": {
            "text/plain": [
              "Text(407013.1101691078, 114992.23820242906, 'CAPE MAY')"
            ]
          },
          "metadata": {},
          "execution_count": 7
        },
        {
          "output_type": "execute_result",
          "data": {
            "text/plain": [
              "Text(319542.7506195572, 197359.46040186452, 'CUMBERLAND')"
            ]
          },
          "metadata": {},
          "execution_count": 7
        },
        {
          "output_type": "execute_result",
          "data": {
            "text/plain": [
              "Text(562253.4894992855, 711675.2449585614, 'ESSEX')"
            ]
          },
          "metadata": {},
          "execution_count": 7
        },
        {
          "output_type": "execute_result",
          "data": {
            "text/plain": [
              "Text(311851.0044582621, 322497.09146205307, 'GLOUCESTER')"
            ]
          },
          "metadata": {},
          "execution_count": 7
        },
        {
          "output_type": "execute_result",
          "data": {
            "text/plain": [
              "Text(608428.8356149012, 694107.9908801537, 'HUDSON')"
            ]
          },
          "metadata": {},
          "execution_count": 7
        },
        {
          "output_type": "execute_result",
          "data": {
            "text/plain": [
              "Text(377593.6983420124, 631791.0280015195, 'HUNTERDON')"
            ]
          },
          "metadata": {},
          "execution_count": 7
        },
        {
          "output_type": "execute_result",
          "data": {
            "text/plain": [
              "Text(435852.78759398806, 528228.3056099586, 'MERCER')"
            ]
          },
          "metadata": {},
          "execution_count": 7
        },
        {
          "output_type": "execute_result",
          "data": {
            "text/plain": [
              "Text(569736.7056196635, 519774.2489392377, 'MONMOUTH')"
            ]
          },
          "metadata": {},
          "execution_count": 7
        },
        {
          "output_type": "execute_result",
          "data": {
            "text/plain": [
              "Text(553566.9451515801, 382793.6503082437, 'OCEAN')"
            ]
          },
          "metadata": {},
          "execution_count": 7
        },
        {
          "output_type": "execute_result",
          "data": {
            "text/plain": [
              "Text(547142.4144700206, 801720.2266180195, 'PASSAIC')"
            ]
          },
          "metadata": {},
          "execution_count": 7
        },
        {
          "output_type": "execute_result",
          "data": {
            "text/plain": [
              "Text(253014.767951469, 275761.56707926694, 'SALEM')"
            ]
          },
          "metadata": {},
          "execution_count": 7
        },
        {
          "output_type": "execute_result",
          "data": {
            "text/plain": [
              "Text(459788.98517990607, 630164.5125108969, 'SOMERSET')"
            ]
          },
          "metadata": {},
          "execution_count": 7
        },
        {
          "output_type": "execute_result",
          "data": {
            "text/plain": [
              "Text(439541.23874521523, 839964.6338105244, 'SUSSEX')"
            ]
          },
          "metadata": {},
          "execution_count": 7
        },
        {
          "output_type": "execute_result",
          "data": {
            "text/plain": [
              "Text(545391.2858900087, 665430.0582508749, 'UNION')"
            ]
          },
          "metadata": {},
          "execution_count": 7
        },
        {
          "output_type": "execute_result",
          "data": {
            "text/plain": [
              "Text(354515.98946147866, 737506.369618912, 'WARREN')"
            ]
          },
          "metadata": {},
          "execution_count": 7
        },
        {
          "output_type": "execute_result",
          "data": {
            "text/plain": [
              "Text(479789.7234039994, 738913.4075906109, 'MORRIS')"
            ]
          },
          "metadata": {},
          "execution_count": 7
        },
        {
          "output_type": "execute_result",
          "data": {
            "text/plain": [
              "Text(516625.77448488685, 584830.6357102671, 'MIDDLESEX')"
            ]
          },
          "metadata": {},
          "execution_count": 7
        },
        {
          "output_type": "execute_result",
          "data": {
            "text/plain": [
              "Text(0.5, 1.0, 'New Jersey Counties with Labels MAP')"
            ]
          },
          "metadata": {},
          "execution_count": 7
        },
        {
          "output_type": "execute_result",
          "data": {
            "text/plain": [
              "(np.float64(170515.9983667597),\n",
              " np.float64(680228.4248388171),\n",
              " np.float64(-9284.43030238487),\n",
              " np.float64(963779.6277322728))"
            ]
          },
          "metadata": {},
          "execution_count": 7
        },
        {
          "output_type": "display_data",
          "data": {
            "text/plain": [
              "<Figure size 1000x1000 with 1 Axes>"
            ],
            "image/png": "[encoded data removed]"
          },
          "metadata": {}
        }
      ]
    },
    {
      "cell_type": "markdown",
      "source": [
        "#PS1"
      ],
      "metadata": {
        "id": "ypt8I_kA4AQA"
      }
    },
    {
      "cell_type": "markdown",
      "source": [
        "##Comments from PS0 (TO ADD HERE)\n",
        "##Comments from Professor (A) by email:\n",
        "A: could think about u/a or level of analysis! and actual datasets and variables--provide link to them and describe them; start getting actual data you want to use in this class\n",
        "\n",
        "S: ok, my u/a is countyes.\n",
        "\n",
        "see specific repos below, if you dont see yourself below do email me!\n",
        "\n",
        "\n",
        "https://github.com/shirleyrutgers/GIS/blob/main/PS0_FV.ipynb\n",
        "this is great, there is u/a and actual datasets\n",
        "\n",
        "S: Thank you!\n",
        "\n",
        "A: btw see what benito did https://github.com/Ben-069/GIS-Public-Sector\n",
        "\n",
        "S: Ok I did.\n",
        "\n",
        "##Comments from class\n",
        "A: Merge with Outer, not left, and show Indicator.\n",
        "Maybe use colors from blues to green to make it look nicer.\n",
        "\n",
        "S: ok, I will fix that in my PS1 code.\n",
        "\n",
        "Some additional ideas:\n",
        "Maybe you can see the number of companies per capita, but divided by the number of people in the sector.\n",
        "Note: factor in education plus Location Quotient, more income (see if there's a relationship between more location quotient and more income).\n",
        "S: I agree, maybe there is a correlationship between these variables and is important to check the business formation per capita weighted by the sector population of interest.\n",
        "\n",
        "S: Also I have these variables in my dataset, for example>\n",
        "County,\tEmployment,\tUnemployment,\tGDP per capita,\tMedian Income,\tBA2023\tEmployment Location Quotient Relative to U.S.,\tTotal Wage Location Quotient Relative to U.S.\n",
        "\n",
        "Link for PS1> https://theaok.github.io/gisPy/ps1.pdf\n",
        "\n",
        "#Instructions PS1\n",
        "joining data and producing pretty and interesting thematic map(s)\n",
        " [version: Thursday 11th September, 2025 13:38]\n",
        " due in 2 weeks; sep25\n",
        " 1. may be di cult start early!\n",
        " 2. produce a thematic map (or maps!)\n",
        " 3. you must map 2 variables (so typically youll have 2 maps, but can also have 2 vars in one map); these 2 vars must not come\n",
        " from the gis data, but you must join them from traditional data sets from 2 di erent places; if you cannot nd such data, email\n",
        " listserv; again, to repeat, regular (say csv) data has to come from 2 di erent les, say FBI and Census, or say WHO and World\n",
        " Bank, etc; the bottom line is that you have to perform join twice!!\n",
        " HINT:\n",
        " better fewer maps! if like 5 minutes presentation, have like 3 maps; max 5 maps, no more than 1 visual per 1 minute!!! (sure have\n",
        " more in ipynb but present only 1-5)\n",
        " likewise in notebooks: do slow down, think about it, better fewer quality maps than a bunch of junk maps\n"
      ],
      "metadata": {
        "id": "7Saq0eX44Cu9"
      }
    },
    {
      "cell_type": "markdown",
      "source": [
        "#Dataset\n",
        "NJ business applications https://docs.google.com/spreadsheets/d/e/2PACX-1vSzhIWXDHIusT7myBctQLeKRlPvg7V7YVIweyIMU7W3I3NKX2UjTMNKPA995O1JTQ/pub?gid=1018220772&single=true&output=csv\n",
        "\n",
        "Location Quotient variable review\n",
        "Because the impact of the level of Gross Domestic Product per capita or level of income per County is not very significant, we seek to add a new variable as a proxy for these indicators, new variable Location quotient.\n",
        "\n",
        "In the database we have the variables LQ> Employment Location Quotient Relative to U.S. and Total Wage Location Quotient Relative to U.S. The explanation> If an LQ is equal to 1, then the industry has the same share of its area employment (or total wage) as it does in the nation. An LQ greater than 1 indicates an industry with a greater share of the local area employment (or wages) than is the case nationwide. For example, Bergen 1.05 Employment Location Quotient Relative to U.S.\n",
        "\n",
        "https://docs.google.com/spreadsheets/d/e/2PACX-1vQT8hHjiM5ankNj3q3xblbotJdzpRqiZvY--AWgiGlZrSfki9T0M6kJdFZV6A5Q6A/pubhtml?gid=2115564207&single=true\n",
        "\n",
        "https://docs.google.com/spreadsheets/d/e/2PACX-1vQT8hHjiM5ankNj3q3xblbotJdzpRqiZvY--AWgiGlZrSfki9T0M6kJdFZV6A5Q6A/pub?gid=2115564207&single=true&output=csv"
      ],
      "metadata": {
        "id": "34iSPC7m4KEk"
      }
    },
    {
      "cell_type": "code",
      "source": [
        "#Install from Data Vis Class\n",
        "#---------------------------SETUP----------------------------------\n",
        "#get useful libraries\n",
        "import time, os, sys, re #basics\n",
        "import zipfile, json, datetime, string   #string for annotating points in scatter\n",
        "import numpy as np #basic math\n",
        "from statistics import * #stats\n",
        "\n",
        "import matplotlib.pyplot as plt #import pylab as plt #apparently discouraged now:\n",
        " #https://stackoverflow.com/questions/11469336/what-is-the-difference-between-pylab-and-pyplot\n",
        " #https://www.tutorialspoint.com/matplotlib/matplotlib_pylab_module.htm\n",
        "\n",
        "import pandas as pd\n",
        "import pandas_datareader as pdr\n",
        "from pandas_datareader import wb\n",
        "from pandas.io.formats.style import Styler\n",
        "#s4 = Styler(df4, uuid_len=0, cell_ids=False)\n",
        "\n",
        "import urllib  #weird, guess need to have os and pandas imported for this to work  %TODO/LATER ditch it, its weird anyway, just use wget/curl\n",
        "\n",
        "from google.colab import files\n",
        "\n",
        "#import webbrowser\n",
        "\n",
        "import seaborn as sns\n",
        "\n",
        "from google.colab import data_table\n",
        "data_table.enable_dataframe_formatter() #this enables spreadsheet view upon calling dataframe (without() )\n",
        "\n",
        "#tricks how to extend notebook functionality\n",
        "#https://coderzcolumn.com/tutorials/python/list-of-useful-magic-commands-in-jupyter-notebook-lab\n",
        "#will display all output not just last command\n",
        "from IPython.core.interactiveshell import InteractiveShell\n",
        "InteractiveShell.ast_node_interactivity = \"all\"\n",
        "\n",
        "###magics: https://ipython.readthedocs.io/en/stable/interactive/magics.html\n",
        "#most essential setup for vis: it does affect vis! careful!! stick with inline, maybe notebook; others mostly for non-notebook, eg spyder environ\n",
        "#https://jakevdp.github.io/PythonDataScienceHandbook/04.00-introduction-to-matplotlib.html recomends *inline*!\n",
        "#show current one:\n",
        "#%matplotlib\n",
        "#%matplotlib --list\n",
        "#interactive plots:\n",
        "#%matplotlib notebook\n",
        "#static images of your plot:\n",
        "%matplotlib inline\n",
        "#this one and other magics (btw default is probably agg)\n",
        "#%matplotlib nbagg\n",
        "##https://www.marktechpost.com/2023/10/20/6-magic-commands-for-jupyter-notebooks-in-python-data-science/\n",
        "#%%latex\n",
        "#%ai\n",
        "#%run\n",
        "#%writefile\n",
        "#%history -n\n",
        "\n",
        "###themes/styles: https://matplotlib.org/stable/gallery/style_sheets/style_sheets_reference.html\n",
        "#https://jakevdp.github.io/PythonDataScienceHandbook/04.11-settings-and-stylesheets.html\n",
        "#https://matplotlib.org/stable/tutorials/introductory/customizing.html\n",
        "#here more about art and style than under the hood functionality as with magics, explore and experiment\n",
        "#many may find 'default' or seaborn ones more pleasing; my fav 'classic' is back from 90s ;)\n",
        "#plt.style.available #list available styles :) may install more\n",
        "plt.style.use('default') # more delicate subtle than classic\n",
        "#plt.style.use('classic')  #  'seaborn-whitegrid' 'seaborn-white' 'seaborn-poster'\n",
        "# btw: magics v theme/style sequence matters, eg if i specify classic style before inline magic, i wouldnt get grey bounding box im getting\n",
        "\n",
        "#sometimes have to install library which you get from https://pypi.org/\n",
        "#!pip install geopandas"
      ],
      "metadata": {
        "id": "b3f170Le_qby"
      },
      "execution_count": null,
      "outputs": []
    },
    {
      "cell_type": "code",
      "source": [
        "import pandas as pd\n",
        "df1 = pd.read_csv('https://docs.google.com/spreadsheets/d/e/2PACX-1vRCnEjufrgpP0UB0Quxx8nYC56Yw0C7ZuWMDjPj9H8BrUF8hPGSPBpmcGlJKc0xhA/pub?gid=2071317397&single=true&output=csv')\n"
      ],
      "metadata": {
        "id": "jMJqEEmk_zOq"
      },
      "execution_count": null,
      "outputs": []
    },
    {
      "cell_type": "code",
      "source": [
        "df2=pd.read_csv('https://docs.google.com/spreadsheets/d/e/2PACX-1vSzhIWXDHIusT7myBctQLeKRlPvg7V7YVIweyIMU7W3I3NKX2UjTMNKPA995O1JTQ/pub?gid=1018220772&single=true&output=csv')\n",
        "\n"
      ],
      "metadata": {
        "id": "Kqae-3yc_1kU"
      },
      "execution_count": null,
      "outputs": []
    },
    {
      "cell_type": "code",
      "source": [
        "df3=pd.read_csv('https://docs.google.com/spreadsheets/d/e/2PACX-1vS8byZhwUGPcnozsRjz2WuI2lUIi84AweOFjg1lM0lSLpEzRQhK-NNBZdKZK9XoEw/pub?gid=69402389&single=true&output=csv')\n"
      ],
      "metadata": {
        "id": "__iBYJ81_48F"
      },
      "execution_count": null,
      "outputs": []
    },
    {
      "cell_type": "code",
      "source": [
        "df4 = pd.read_csv ('https://docs.google.com/spreadsheets/d/e/2PACX-1vQT8hHjiM5ankNj3q3xblbotJdzpRqiZvY--AWgiGlZrSfki9T0M6kJdFZV6A5Q6A/pub?gid=2115564207&single=true&output=csv')"
      ],
      "metadata": {
        "colab": {
          "base_uri": "https://localhost:8080/"
        },
        "id": "sR4fWTUf4PWn",
        "outputId": "901e7eeb-9bf1-4383-e01e-e1a540b16b6b"
      },
      "execution_count": null,
      "outputs": [
        {
          "output_type": "stream",
          "name": "stderr",
          "text": [
            "/tmp/ipython-input-3329137302.py:1: DtypeWarning: Columns (1) have mixed types. Specify dtype option on import or set low_memory=False.\n",
            "  df4 = pd.read_csv ('https://docs.google.com/spreadsheets/d/e/2PACX-1vQT8hHjiM5ankNj3q3xblbotJdzpRqiZvY--AWgiGlZrSfki9T0M6kJdFZV6A5Q6A/pub?gid=2115564207&single=true&output=csv')\n"
          ]
        }
      ]
    },
    {
      "cell_type": "code",
      "source": [
        "# Filter df4 for New Jersey, Private Ownership, and Total Industry, excluding undefined areas\n",
        "df4_filtered = df4[\n",
        "    (df4[\"Area Type\"] == \"County\") &\n",
        "    (df4[\"St Name\"] == \"New Jersey\") &\n",
        "    (df4[\"Ownership\"] == \"Private\") &\n",
        "    (df4[\"Industry\"] == \"10 Total, all industries\") &\n",
        "    (df4[\"Area\"] != \"Unknown Or Undefined, New Jersey\")\n",
        "]\n",
        "\n",
        "# Display the filtered results\n",
        "df4_filtered.head()"
      ],
      "metadata": {
        "colab": {
          "base_uri": "https://localhost:8080/",
          "height": 502
        },
        "id": "ALwOwYUO-slF",
        "outputId": "302abecf-0ed8-4484-ca5a-ce1ae660c413"
      },
      "execution_count": null,
      "outputs": [
        {
          "output_type": "execute_result",
          "data": {
            "text/plain": [
              "      Area\\nCode  St  Cnty  Own  NAICS  Year Qtr Area Type     St Name  \\\n",
              "31851      34001  34   1.0    5     10  2023   A    County  New Jersey   \n",
              "31869      34003  34   3.0    5     10  2023   A    County  New Jersey   \n",
              "31887      34005  34   5.0    5     10  2023   A    County  New Jersey   \n",
              "31905      34007  34   7.0    5     10  2023   A    County  New Jersey   \n",
              "31923      34009  34   9.0    5     10  2023   A    County  New Jersey   \n",
              "\n",
              "                                Area Ownership                  Industry  \\\n",
              "31851    Atlantic County, New Jersey   Private  10 Total, all industries   \n",
              "31869      Bergen County, New Jersey   Private  10 Total, all industries   \n",
              "31887  Burlington County, New Jersey   Private  10 Total, all industries   \n",
              "31905      Camden County, New Jersey   Private  10 Total, all industries   \n",
              "31923    Cape May County, New Jersey   Private  10 Total, all industries   \n",
              "\n",
              "      Annual Average Status Code Annual Average Establishment Count  \\\n",
              "31851                        NaN                              6,911   \n",
              "31869                        NaN                             35,098   \n",
              "31887                        NaN                             11,926   \n",
              "31905                        NaN                             13,387   \n",
              "31923                        NaN                              3,877   \n",
              "\n",
              "      Annual Average Employment Annual Total Wages Annual Average Weekly Wage  \\\n",
              "31851                   105,030      5,692,663,077                      1,042   \n",
              "31869                   392,497     31,115,189,292                      1,525   \n",
              "31887                   183,809     12,681,241,373                      1,327   \n",
              "31905                   176,138     11,421,783,386                      1,247   \n",
              "31923                    34,725      1,535,183,337                        850   \n",
              "\n",
              "      Annual Average Pay  Employment Location Quotient Relative to U.S.  \\\n",
              "31851             54,200                                           0.98   \n",
              "31869             79,275                                           1.05   \n",
              "31887             68,992                                           1.03   \n",
              "31905             64,845                                           1.01   \n",
              "31923             44,209                                           0.96   \n",
              "\n",
              "       Total Wage Location Quotient Relative to U.S.  \n",
              "31851                                           0.92  \n",
              "31869                                           1.05  \n",
              "31887                                           1.02  \n",
              "31905                                           0.98  \n",
              "31923                                           0.89  "
            ],
            "text/html": [
              "\n",
              "  <div id=\"df-5654991d-4a10-4955-bc5b-4831bde86f28\" class=\"colab-df-container\">\n",
              "    <div>\n",
              "<style scoped>\n",
              "    .dataframe tbody tr th:only-of-type {\n",
              "        vertical-align: middle;\n",
              "    }\n",
              "\n",
              "    .dataframe tbody tr th {\n",
              "        vertical-align: top;\n",
              "    }\n",
              "\n",
              "    .dataframe thead th {\n",
              "        text-align: right;\n",
              "    }\n",
              "</style>\n",
              "<table border=\"1\" class=\"dataframe\">\n",
              "  <thead>\n",
              "    <tr style=\"text-align: right;\">\n",
              "      <th></th>\n",
              "      <th>Area\\nCode</th>\n",
              "      <th>St</th>\n",
              "      <th>Cnty</th>\n",
              "      <th>Own</th>\n",
              "      <th>NAICS</th>\n",
              "      <th>Year</th>\n",
              "      <th>Qtr</th>\n",
              "      <th>Area Type</th>\n",
              "      <th>St Name</th>\n",
              "      <th>Area</th>\n",
              "      <th>Ownership</th>\n",
              "      <th>Industry</th>\n",
              "      <th>Annual Average Status Code</th>\n",
              "      <th>Annual Average Establishment Count</th>\n",
              "      <th>Annual Average Employment</th>\n",
              "      <th>Annual Total Wages</th>\n",
              "      <th>Annual Average Weekly Wage</th>\n",
              "      <th>Annual Average Pay</th>\n",
              "      <th>Employment Location Quotient Relative to U.S.</th>\n",
              "      <th>Total Wage Location Quotient Relative to U.S.</th>\n",
              "    </tr>\n",
              "  </thead>\n",
              "  <tbody>\n",
              "    <tr>\n",
              "      <th>31851</th>\n",
              "      <td>34001</td>\n",
              "      <td>34</td>\n",
              "      <td>1.0</td>\n",
              "      <td>5</td>\n",
              "      <td>10</td>\n",
              "      <td>2023</td>\n",
              "      <td>A</td>\n",
              "      <td>County</td>\n",
              "      <td>New Jersey</td>\n",
              "      <td>Atlantic County, New Jersey</td>\n",
              "      <td>Private</td>\n",
              "      <td>10 Total, all industries</td>\n",
              "      <td>NaN</td>\n",
              "      <td>6,911</td>\n",
              "      <td>105,030</td>\n",
              "      <td>5,692,663,077</td>\n",
              "      <td>1,042</td>\n",
              "      <td>54,200</td>\n",
              "      <td>0.98</td>\n",
              "      <td>0.92</td>\n",
              "    </tr>\n",
              "    <tr>\n",
              "      <th>31869</th>\n",
              "      <td>34003</td>\n",
              "      <td>34</td>\n",
              "      <td>3.0</td>\n",
              "      <td>5</td>\n",
              "      <td>10</td>\n",
              "      <td>2023</td>\n",
              "      <td>A</td>\n",
              "      <td>County</td>\n",
              "      <td>New Jersey</td>\n",
              "      <td>Bergen County, New Jersey</td>\n",
              "      <td>Private</td>\n",
              "      <td>10 Total, all industries</td>\n",
              "      <td>NaN</td>\n",
              "      <td>35,098</td>\n",
              "      <td>392,497</td>\n",
              "      <td>31,115,189,292</td>\n",
              "      <td>1,525</td>\n",
              "      <td>79,275</td>\n",
              "      <td>1.05</td>\n",
              "      <td>1.05</td>\n",
              "    </tr>\n",
              "    <tr>\n",
              "      <th>31887</th>\n",
              "      <td>34005</td>\n",
              "      <td>34</td>\n",
              "      <td>5.0</td>\n",
              "      <td>5</td>\n",
              "      <td>10</td>\n",
              "      <td>2023</td>\n",
              "      <td>A</td>\n",
              "      <td>County</td>\n",
              "      <td>New Jersey</td>\n",
              "      <td>Burlington County, New Jersey</td>\n",
              "      <td>Private</td>\n",
              "      <td>10 Total, all industries</td>\n",
              "      <td>NaN</td>\n",
              "      <td>11,926</td>\n",
              "      <td>183,809</td>\n",
              "      <td>12,681,241,373</td>\n",
              "      <td>1,327</td>\n",
              "      <td>68,992</td>\n",
              "      <td>1.03</td>\n",
              "      <td>1.02</td>\n",
              "    </tr>\n",
              "    <tr>\n",
              "      <th>31905</th>\n",
              "      <td>34007</td>\n",
              "      <td>34</td>\n",
              "      <td>7.0</td>\n",
              "      <td>5</td>\n",
              "      <td>10</td>\n",
              "      <td>2023</td>\n",
              "      <td>A</td>\n",
              "      <td>County</td>\n",
              "      <td>New Jersey</td>\n",
              "      <td>Camden County, New Jersey</td>\n",
              "      <td>Private</td>\n",
              "      <td>10 Total, all industries</td>\n",
              "      <td>NaN</td>\n",
              "      <td>13,387</td>\n",
              "      <td>176,138</td>\n",
              "      <td>11,421,783,386</td>\n",
              "      <td>1,247</td>\n",
              "      <td>64,845</td>\n",
              "      <td>1.01</td>\n",
              "      <td>0.98</td>\n",
              "    </tr>\n",
              "    <tr>\n",
              "      <th>31923</th>\n",
              "      <td>34009</td>\n",
              "      <td>34</td>\n",
              "      <td>9.0</td>\n",
              "      <td>5</td>\n",
              "      <td>10</td>\n",
              "      <td>2023</td>\n",
              "      <td>A</td>\n",
              "      <td>County</td>\n",
              "      <td>New Jersey</td>\n",
              "      <td>Cape May County, New Jersey</td>\n",
              "      <td>Private</td>\n",
              "      <td>10 Total, all industries</td>\n",
              "      <td>NaN</td>\n",
              "      <td>3,877</td>\n",
              "      <td>34,725</td>\n",
              "      <td>1,535,183,337</td>\n",
              "      <td>850</td>\n",
              "      <td>44,209</td>\n",
              "      <td>0.96</td>\n",
              "      <td>0.89</td>\n",
              "    </tr>\n",
              "  </tbody>\n",
              "</table>\n",
              "</div>\n",
              "    <div class=\"colab-df-buttons\">\n",
              "\n",
              "  <div class=\"colab-df-container\">\n",
              "    <button class=\"colab-df-convert\" onclick=\"convertToInteractive('df-5654991d-4a10-4955-bc5b-4831bde86f28')\"\n",
              "            title=\"Convert this dataframe to an interactive table.\"\n",
              "            style=\"display:none;\">\n",
              "\n",
              "  <svg xmlns=\"http://www.w3.org/2000/svg\" height=\"24px\" viewBox=\"0 -960 960 960\">\n",
              "    <path d=\"M120-120v-720h720v720H120Zm60-500h600v-160H180v160Zm220 220h160v-160H400v160Zm0 220h160v-160H400v160ZM180-400h160v-160H180v160Zm440 0h160v-160H620v160ZM180-180h160v-160H180v160Zm440 0h160v-160H620v160Z\"/>\n",
              "  </svg>\n",
              "    </button>\n",
              "\n",
              "  <style>\n",
              "    .colab-df-container {\n",
              "      display:flex;\n",
              "      gap: 12px;\n",
              "    }\n",
              "\n",
              "    .colab-df-convert {\n",
              "      background-color: #E8F0FE;\n",
              "      border: none;\n",
              "      border-radius: 50%;\n",
              "      cursor: pointer;\n",
              "      display: none;\n",
              "      fill: #1967D2;\n",
              "      height: 32px;\n",
              "      padding: 0 0 0 0;\n",
              "      width: 32px;\n",
              "    }\n",
              "\n",
              "    .colab-df-convert:hover {\n",
              "      background-color: #E2EBFA;\n",
              "      box-shadow: 0px 1px 2px rgba(60, 64, 67, 0.3), 0px 1px 3px 1px rgba(60, 64, 67, 0.15);\n",
              "      fill: #174EA6;\n",
              "    }\n",
              "\n",
              "    .colab-df-buttons div {\n",
              "      margin-bottom: 4px;\n",
              "    }\n",
              "\n",
              "    [theme=dark] .colab-df-convert {\n",
              "      background-color: #3B4455;\n",
              "      fill: #D2E3FC;\n",
              "    }\n",
              "\n",
              "    [theme=dark] .colab-df-convert:hover {\n",
              "      background-color: #434B5C;\n",
              "      box-shadow: 0px 1px 3px 1px rgba(0, 0, 0, 0.15);\n",
              "      filter: drop-shadow(0px 1px 2px rgba(0, 0, 0, 0.3));\n",
              "      fill: #FFFFFF;\n",
              "    }\n",
              "  </style>\n",
              "\n",
              "    <script>\n",
              "      const buttonEl =\n",
              "        document.querySelector('#df-5654991d-4a10-4955-bc5b-4831bde86f28 button.colab-df-convert');\n",
              "      buttonEl.style.display =\n",
              "        google.colab.kernel.accessAllowed ? 'block' : 'none';\n",
              "\n",
              "      async function convertToInteractive(key) {\n",
              "        const element = document.querySelector('#df-5654991d-4a10-4955-bc5b-4831bde86f28');\n",
              "        const dataTable =\n",
              "          await google.colab.kernel.invokeFunction('convertToInteractive',\n",
              "                                                    [key], {});\n",
              "        if (!dataTable) return;\n",
              "\n",
              "        const docLinkHtml = 'Like what you see? Visit the ' +\n",
              "          '<a target=\"_blank\" href=https://colab.research.google.com/notebooks/data_table.ipynb>data table notebook</a>'\n",
              "          + ' to learn more about interactive tables.';\n",
              "        element.innerHTML = '';\n",
              "        dataTable['output_type'] = 'display_data';\n",
              "        await google.colab.output.renderOutput(dataTable, element);\n",
              "        const docLink = document.createElement('div');\n",
              "        docLink.innerHTML = docLinkHtml;\n",
              "        element.appendChild(docLink);\n",
              "      }\n",
              "    </script>\n",
              "  </div>\n",
              "\n",
              "\n",
              "    <div id=\"df-70ba6890-33c7-4301-89c6-354b08e670e8\">\n",
              "      <button class=\"colab-df-quickchart\" onclick=\"quickchart('df-70ba6890-33c7-4301-89c6-354b08e670e8')\"\n",
              "                title=\"Suggest charts\"\n",
              "                style=\"display:none;\">\n",
              "\n",
              "<svg xmlns=\"http://www.w3.org/2000/svg\" height=\"24px\"viewBox=\"0 0 24 24\"\n",
              "     width=\"24px\">\n",
              "    <g>\n",
              "        <path d=\"M19 3H5c-1.1 0-2 .9-2 2v14c0 1.1.9 2 2 2h14c1.1 0 2-.9 2-2V5c0-1.1-.9-2-2-2zM9 17H7v-7h2v7zm4 0h-2V7h2v10zm4 0h-2v-4h2v4z\"/>\n",
              "    </g>\n",
              "</svg>\n",
              "      </button>\n",
              "\n",
              "<style>\n",
              "  .colab-df-quickchart {\n",
              "      --bg-color: #E8F0FE;\n",
              "      --fill-color: #1967D2;\n",
              "      --hover-bg-color: #E2EBFA;\n",
              "      --hover-fill-color: #174EA6;\n",
              "      --disabled-fill-color: #AAA;\n",
              "      --disabled-bg-color: #DDD;\n",
              "  }\n",
              "\n",
              "  [theme=dark] .colab-df-quickchart {\n",
              "      --bg-color: #3B4455;\n",
              "      --fill-color: #D2E3FC;\n",
              "      --hover-bg-color: #434B5C;\n",
              "      --hover-fill-color: #FFFFFF;\n",
              "      --disabled-bg-color: #3B4455;\n",
              "      --disabled-fill-color: #666;\n",
              "  }\n",
              "\n",
              "  .colab-df-quickchart {\n",
              "    background-color: var(--bg-color);\n",
              "    border: none;\n",
              "    border-radius: 50%;\n",
              "    cursor: pointer;\n",
              "    display: none;\n",
              "    fill: var(--fill-color);\n",
              "    height: 32px;\n",
              "    padding: 0;\n",
              "    width: 32px;\n",
              "  }\n",
              "\n",
              "  .colab-df-quickchart:hover {\n",
              "    background-color: var(--hover-bg-color);\n",
              "    box-shadow: 0 1px 2px rgba(60, 64, 67, 0.3), 0 1px 3px 1px rgba(60, 64, 67, 0.15);\n",
              "    fill: var(--button-hover-fill-color);\n",
              "  }\n",
              "\n",
              "  .colab-df-quickchart-complete:disabled,\n",
              "  .colab-df-quickchart-complete:disabled:hover {\n",
              "    background-color: var(--disabled-bg-color);\n",
              "    fill: var(--disabled-fill-color);\n",
              "    box-shadow: none;\n",
              "  }\n",
              "\n",
              "  .colab-df-spinner {\n",
              "    border: 2px solid var(--fill-color);\n",
              "    border-color: transparent;\n",
              "    border-bottom-color: var(--fill-color);\n",
              "    animation:\n",
              "      spin 1s steps(1) infinite;\n",
              "  }\n",
              "\n",
              "  @keyframes spin {\n",
              "    0% {\n",
              "      border-color: transparent;\n",
              "      border-bottom-color: var(--fill-color);\n",
              "      border-left-color: var(--fill-color);\n",
              "    }\n",
              "    20% {\n",
              "      border-color: transparent;\n",
              "      border-left-color: var(--fill-color);\n",
              "      border-top-color: var(--fill-color);\n",
              "    }\n",
              "    30% {\n",
              "      border-color: transparent;\n",
              "      border-left-color: var(--fill-color);\n",
              "      border-top-color: var(--fill-color);\n",
              "      border-right-color: var(--fill-color);\n",
              "    }\n",
              "    40% {\n",
              "      border-color: transparent;\n",
              "      border-right-color: var(--fill-color);\n",
              "      border-top-color: var(--fill-color);\n",
              "    }\n",
              "    60% {\n",
              "      border-color: transparent;\n",
              "      border-right-color: var(--fill-color);\n",
              "    }\n",
              "    80% {\n",
              "      border-color: transparent;\n",
              "      border-right-color: var(--fill-color);\n",
              "      border-bottom-color: var(--fill-color);\n",
              "    }\n",
              "    90% {\n",
              "      border-color: transparent;\n",
              "      border-bottom-color: var(--fill-color);\n",
              "    }\n",
              "  }\n",
              "</style>\n",
              "\n",
              "      <script>\n",
              "        async function quickchart(key) {\n",
              "          const quickchartButtonEl =\n",
              "            document.querySelector('#' + key + ' button');\n",
              "          quickchartButtonEl.disabled = true;  // To prevent multiple clicks.\n",
              "          quickchartButtonEl.classList.add('colab-df-spinner');\n",
              "          try {\n",
              "            const charts = await google.colab.kernel.invokeFunction(\n",
              "                'suggestCharts', [key], {});\n",
              "          } catch (error) {\n",
              "            console.error('Error during call to suggestCharts:', error);\n",
              "          }\n",
              "          quickchartButtonEl.classList.remove('colab-df-spinner');\n",
              "          quickchartButtonEl.classList.add('colab-df-quickchart-complete');\n",
              "        }\n",
              "        (() => {\n",
              "          let quickchartButtonEl =\n",
              "            document.querySelector('#df-70ba6890-33c7-4301-89c6-354b08e670e8 button');\n",
              "          quickchartButtonEl.style.display =\n",
              "            google.colab.kernel.accessAllowed ? 'block' : 'none';\n",
              "        })();\n",
              "      </script>\n",
              "    </div>\n",
              "\n",
              "    </div>\n",
              "  </div>\n"
            ],
            "application/vnd.google.colaboratory.intrinsic+json": {
              "type": "dataframe",
              "variable_name": "df4_filtered",
              "repr_error": "0"
            },
            "application/vnd.google.colaboratory.module+javascript": "\n      import \"https://ssl.gstatic.com/colaboratory/data_table/9e65f7085e7ffcb7/data_table.js\";\n\n      const table = window.createDataTable({\n        data: [[{\n            'v': 31851,\n            'f': \"31851\",\n        },\n\"34001\",\n\"34\",\n{\n            'v': 1.0,\n            'f': \"1.0\",\n        },\n{\n            'v': 5,\n            'f': \"5\",\n        },\n{\n            'v': 10,\n            'f': \"10\",\n        },\n{\n            'v': 2023,\n            'f': \"2023\",\n        },\n\"A\",\n\"County\",\n\"New Jersey\",\n\"Atlantic County, New Jersey\",\n\"Private\",\n\"10 Total, all industries\",\n{\n            'v': NaN,\n            'f': \"NaN\",\n        },\n\"6,911\",\n\"105,030\",\n\"5,692,663,077\",\n\"1,042\",\n\"54,200\",\n{\n            'v': 0.98,\n            'f': \"0.98\",\n        },\n{\n            'v': 0.92,\n            'f': \"0.92\",\n        }],\n [{\n            'v': 31869,\n            'f': \"31869\",\n        },\n\"34003\",\n\"34\",\n{\n            'v': 3.0,\n            'f': \"3.0\",\n        },\n{\n            'v': 5,\n            'f': \"5\",\n        },\n{\n            'v': 10,\n            'f': \"10\",\n        },\n{\n            'v': 2023,\n            'f': \"2023\",\n        },\n\"A\",\n\"County\",\n\"New Jersey\",\n\"Bergen County, New Jersey\",\n\"Private\",\n\"10 Total, all industries\",\n{\n            'v': NaN,\n            'f': \"NaN\",\n        },\n\"35,098\",\n\"392,497\",\n\"31,115,189,292\",\n\"1,525\",\n\"79,275\",\n{\n            'v': 1.05,\n            'f': \"1.05\",\n        },\n{\n            'v': 1.05,\n            'f': \"1.05\",\n        }],\n [{\n            'v': 31887,\n            'f': \"31887\",\n        },\n\"34005\",\n\"34\",\n{\n            'v': 5.0,\n            'f': \"5.0\",\n        },\n{\n            'v': 5,\n            'f': \"5\",\n        },\n{\n            'v': 10,\n            'f': \"10\",\n        },\n{\n            'v': 2023,\n            'f': \"2023\",\n        },\n\"A\",\n\"County\",\n\"New Jersey\",\n\"Burlington County, New Jersey\",\n\"Private\",\n\"10 Total, all industries\",\n{\n            'v': NaN,\n            'f': \"NaN\",\n        },\n\"11,926\",\n\"183,809\",\n\"12,681,241,373\",\n\"1,327\",\n\"68,992\",\n{\n            'v': 1.03,\n            'f': \"1.03\",\n        },\n{\n            'v': 1.02,\n            'f': \"1.02\",\n        }],\n [{\n            'v': 31905,\n            'f': \"31905\",\n        },\n\"34007\",\n\"34\",\n{\n            'v': 7.0,\n            'f': \"7.0\",\n        },\n{\n            'v': 5,\n            'f': \"5\",\n        },\n{\n            'v': 10,\n            'f': \"10\",\n        },\n{\n            'v': 2023,\n            'f': \"2023\",\n        },\n\"A\",\n\"County\",\n\"New Jersey\",\n\"Camden County, New Jersey\",\n\"Private\",\n\"10 Total, all industries\",\n{\n            'v': NaN,\n            'f': \"NaN\",\n        },\n\"13,387\",\n\"176,138\",\n\"11,421,783,386\",\n\"1,247\",\n\"64,845\",\n{\n            'v': 1.01,\n            'f': \"1.01\",\n        },\n{\n            'v': 0.98,\n            'f': \"0.98\",\n        }],\n [{\n            'v': 31923,\n            'f': \"31923\",\n        },\n\"34009\",\n\"34\",\n{\n            'v': 9.0,\n            'f': \"9.0\",\n        },\n{\n            'v': 5,\n            'f': \"5\",\n        },\n{\n            'v': 10,\n            'f': \"10\",\n        },\n{\n            'v': 2023,\n            'f': \"2023\",\n        },\n\"A\",\n\"County\",\n\"New Jersey\",\n\"Cape May County, New Jersey\",\n\"Private\",\n\"10 Total, all industries\",\n{\n            'v': NaN,\n            'f': \"NaN\",\n        },\n\"3,877\",\n\"34,725\",\n\"1,535,183,337\",\n\"850\",\n\"44,209\",\n{\n            'v': 0.96,\n            'f': \"0.96\",\n        },\n{\n            'v': 0.89,\n            'f': \"0.89\",\n        }]],\n        columns: [[\"number\", \"index\"], [\"string\", \"Area\\nCode\"], [\"string\", \"St\"], [\"number\", \"Cnty\"], [\"number\", \"Own\"], [\"number\", \"NAICS\"], [\"number\", \"Year\"], [\"string\", \"Qtr\"], [\"string\", \"Area Type\"], [\"string\", \"St Name\"], [\"string\", \"Area\"], [\"string\", \"Ownership\"], [\"string\", \"Industry\"], [\"number\", \"Annual Average Status Code\"], [\"string\", \"Annual Average Establishment Count\"], [\"string\", \"Annual Average Employment\"], [\"string\", \"Annual Total Wages\"], [\"string\", \"Annual Average Weekly Wage\"], [\"string\", \"Annual Average Pay\"], [\"number\", \"Employment Location Quotient Relative to U.S.\"], [\"number\", \"Total Wage Location Quotient Relative to U.S.\"]],\n        columnOptions: [{\"width\": \"1px\", \"className\": \"index_column\"}],\n        rowsPerPage: 25,\n        helpUrl: \"https://colab.research.google.com/notebooks/data_table.ipynb\",\n        suppressOutputScrolling: true,\n        minimumWidth: undefined,\n      });\n\n      function appendQuickchartButton(parentElement) {\n        let quickchartButtonContainerElement = document.createElement('div');\n        quickchartButtonContainerElement.innerHTML = `\n    <div id=\"df-173a1d85-c6b4-408d-8bb3-1db6f89a5925\">\n      <button class=\"colab-df-quickchart\" onclick=\"quickchart('df-173a1d85-c6b4-408d-8bb3-1db6f89a5925')\"\n                title=\"Suggest charts\"\n                style=\"display:none;\">\n\n<svg xmlns=\"http://www.w3.org/2000/svg\" height=\"24px\"viewBox=\"0 0 24 24\"\n     width=\"24px\">\n    <g>\n        <path d=\"M19 3H5c-1.1 0-2 .9-2 2v14c0 1.1.9 2 2 2h14c1.1 0 2-.9 2-2V5c0-1.1-.9-2-2-2zM9 17H7v-7h2v7zm4 0h-2V7h2v10zm4 0h-2v-4h2v4z\"/>\n    </g>\n</svg>\n      </button>\n\n<style>\n  .colab-df-quickchart {\n      --bg-color: #E8F0FE;\n      --fill-color: #1967D2;\n      --hover-bg-color: #E2EBFA;\n      --hover-fill-color: #174EA6;\n      --disabled-fill-color: #AAA;\n      --disabled-bg-color: #DDD;\n  }\n\n  [theme=dark] .colab-df-quickchart {\n      --bg-color: #3B4455;\n      --fill-color: #D2E3FC;\n      --hover-bg-color: #434B5C;\n      --hover-fill-color: #FFFFFF;\n      --disabled-bg-color: #3B4455;\n      --disabled-fill-color: #666;\n  }\n\n  .colab-df-quickchart {\n    background-color: var(--bg-color);\n    border: none;\n    border-radius: 50%;\n    cursor: pointer;\n    display: none;\n    fill: var(--fill-color);\n    height: 32px;\n    padding: 0;\n    width: 32px;\n  }\n\n  .colab-df-quickchart:hover {\n    background-color: var(--hover-bg-color);\n    box-shadow: 0 1px 2px rgba(60, 64, 67, 0.3), 0 1px 3px 1px rgba(60, 64, 67, 0.15);\n    fill: var(--button-hover-fill-color);\n  }\n\n  .colab-df-quickchart-complete:disabled,\n  .colab-df-quickchart-complete:disabled:hover {\n    background-color: var(--disabled-bg-color);\n    fill: var(--disabled-fill-color);\n    box-shadow: none;\n  }\n\n  .colab-df-spinner {\n    border: 2px solid var(--fill-color);\n    border-color: transparent;\n    border-bottom-color: var(--fill-color);\n    animation:\n      spin 1s steps(1) infinite;\n  }\n\n  @keyframes spin {\n    0% {\n      border-color: transparent;\n      border-bottom-color: var(--fill-color);\n      border-left-color: var(--fill-color);\n    }\n    20% {\n      border-color: transparent;\n      border-left-color: var(--fill-color);\n      border-top-color: var(--fill-color);\n    }\n    30% {\n      border-color: transparent;\n      border-left-color: var(--fill-color);\n      border-top-color: var(--fill-color);\n      border-right-color: var(--fill-color);\n    }\n    40% {\n      border-color: transparent;\n      border-right-color: var(--fill-color);\n      border-top-color: var(--fill-color);\n    }\n    60% {\n      border-color: transparent;\n      border-right-color: var(--fill-color);\n    }\n    80% {\n      border-color: transparent;\n      border-right-color: var(--fill-color);\n      border-bottom-color: var(--fill-color);\n    }\n    90% {\n      border-color: transparent;\n      border-bottom-color: var(--fill-color);\n    }\n  }\n</style>\n\n      <script>\n        async function quickchart(key) {\n          const quickchartButtonEl =\n            document.querySelector('#' + key + ' button');\n          quickchartButtonEl.disabled = true;  // To prevent multiple clicks.\n          quickchartButtonEl.classList.add('colab-df-spinner');\n          try {\n            const charts = await google.colab.kernel.invokeFunction(\n                'suggestCharts', [key], {});\n          } catch (error) {\n            console.error('Error during call to suggestCharts:', error);\n          }\n          quickchartButtonEl.classList.remove('colab-df-spinner');\n          quickchartButtonEl.classList.add('colab-df-quickchart-complete');\n        }\n        (() => {\n          let quickchartButtonEl =\n            document.querySelector('#df-173a1d85-c6b4-408d-8bb3-1db6f89a5925 button');\n          quickchartButtonEl.style.display =\n            google.colab.kernel.accessAllowed ? 'block' : 'none';\n        })();\n      </script>\n    </div>`;\n        parentElement.appendChild(quickchartButtonContainerElement);\n      }\n\n      appendQuickchartButton(table);\n    "
          },
          "metadata": {},
          "execution_count": 13
        }
      ]
    },
    {
      "cell_type": "code",
      "source": [
        "# Rename the column\n",
        "df4_filtered = df4_filtered.rename(columns={\"Area\": \"County\"})\n",
        "\n",
        "# Replace full county names with simplified ones\n",
        "df4_filtered[\"County\"] = df4_filtered[\"County\"].replace({\n",
        "    \"Atlantic County, New Jersey\": \"Atlantic\",\n",
        "    \"Bergen County, New Jersey\": \"Bergen\",\n",
        "    \"Burlington County, New Jersey\": \"Burlington\",\n",
        "    \"Camden County, New Jersey\": \"Camden\",\n",
        "    \"Cape May County, New Jersey\": \"Cape May\",\n",
        "    \"Cumberland County, New Jersey\": \"Cumberland\",\n",
        "    \"Essex County, New Jersey\": \"Essex\",\n",
        "    \"Gloucester County, New Jersey\": \"Gloucester\",\n",
        "    \"Hudson County, New Jersey\": \"Hudson\",\n",
        "    \"Hunterdon County, New Jersey\": \"Hunterdon\",\n",
        "    \"Mercer County, New Jersey\": \"Mercer\",\n",
        "    \"Middlesex County, New Jersey\": \"Middlesex\",\n",
        "    \"Monmouth County, New Jersey\": \"Monmouth\",\n",
        "    \"Morris County, New Jersey\": \"Morris\",\n",
        "    \"Ocean County, New Jersey\": \"Ocean\",\n",
        "    \"Passaic County, New Jersey\": \"Passaic\",\n",
        "    \"Salem County, New Jersey\": \"Salem\",\n",
        "    \"Somerset County, New Jersey\": \"Somerset\",\n",
        "    \"Sussex County, New Jersey\": \"Sussex\",\n",
        "    \"Union County, New Jersey\": \"Union\",\n",
        "    \"Warren County, New Jersey\": \"Warren\"\n",
        "})\n"
      ],
      "metadata": {
        "id": "1VfTdMb--z0R"
      },
      "execution_count": null,
      "outputs": []
    },
    {
      "cell_type": "code",
      "source": [
        "df4_filtered"
      ],
      "metadata": {
        "colab": {
          "base_uri": "https://localhost:8080/",
          "height": 1271
        },
        "id": "8WBIAETJ-2wV",
        "outputId": "0d4d3da4-bd40-43e6-93bc-1516ab0e743f"
      },
      "execution_count": null,
      "outputs": [
        {
          "output_type": "execute_result",
          "data": {
            "text/plain": [
              "      Area\\nCode  St  Cnty  Own  NAICS  Year Qtr Area Type     St Name  \\\n",
              "31851      34001  34   1.0    5     10  2023   A    County  New Jersey   \n",
              "31869      34003  34   3.0    5     10  2023   A    County  New Jersey   \n",
              "31887      34005  34   5.0    5     10  2023   A    County  New Jersey   \n",
              "31905      34007  34   7.0    5     10  2023   A    County  New Jersey   \n",
              "31923      34009  34   9.0    5     10  2023   A    County  New Jersey   \n",
              "31941      34011  34  11.0    5     10  2023   A    County  New Jersey   \n",
              "31959      34013  34  13.0    5     10  2023   A    County  New Jersey   \n",
              "31977      34015  34  15.0    5     10  2023   A    County  New Jersey   \n",
              "31995      34017  34  17.0    5     10  2023   A    County  New Jersey   \n",
              "32013      34019  34  19.0    5     10  2023   A    County  New Jersey   \n",
              "32031      34021  34  21.0    5     10  2023   A    County  New Jersey   \n",
              "32049      34023  34  23.0    5     10  2023   A    County  New Jersey   \n",
              "32067      34025  34  25.0    5     10  2023   A    County  New Jersey   \n",
              "32085      34027  34  27.0    5     10  2023   A    County  New Jersey   \n",
              "32103      34029  34  29.0    5     10  2023   A    County  New Jersey   \n",
              "32121      34031  34  31.0    5     10  2023   A    County  New Jersey   \n",
              "32139      34033  34  33.0    5     10  2023   A    County  New Jersey   \n",
              "32157      34035  34  35.0    5     10  2023   A    County  New Jersey   \n",
              "32175      34037  34  37.0    5     10  2023   A    County  New Jersey   \n",
              "32193      34039  34  39.0    5     10  2023   A    County  New Jersey   \n",
              "32211      34041  34  41.0    5     10  2023   A    County  New Jersey   \n",
              "\n",
              "           County Ownership                  Industry  \\\n",
              "31851    Atlantic   Private  10 Total, all industries   \n",
              "31869      Bergen   Private  10 Total, all industries   \n",
              "31887  Burlington   Private  10 Total, all industries   \n",
              "31905      Camden   Private  10 Total, all industries   \n",
              "31923    Cape May   Private  10 Total, all industries   \n",
              "31941  Cumberland   Private  10 Total, all industries   \n",
              "31959       Essex   Private  10 Total, all industries   \n",
              "31977  Gloucester   Private  10 Total, all industries   \n",
              "31995      Hudson   Private  10 Total, all industries   \n",
              "32013   Hunterdon   Private  10 Total, all industries   \n",
              "32031      Mercer   Private  10 Total, all industries   \n",
              "32049   Middlesex   Private  10 Total, all industries   \n",
              "32067    Monmouth   Private  10 Total, all industries   \n",
              "32085      Morris   Private  10 Total, all industries   \n",
              "32103       Ocean   Private  10 Total, all industries   \n",
              "32121     Passaic   Private  10 Total, all industries   \n",
              "32139       Salem   Private  10 Total, all industries   \n",
              "32157    Somerset   Private  10 Total, all industries   \n",
              "32175      Sussex   Private  10 Total, all industries   \n",
              "32193       Union   Private  10 Total, all industries   \n",
              "32211      Warren   Private  10 Total, all industries   \n",
              "\n",
              "      Annual Average Status Code Annual Average Establishment Count  \\\n",
              "31851                        NaN                              6,911   \n",
              "31869                        NaN                             35,098   \n",
              "31887                        NaN                             11,926   \n",
              "31905                        NaN                             13,387   \n",
              "31923                        NaN                              3,877   \n",
              "31941                        NaN                              3,504   \n",
              "31959                        NaN                             22,761   \n",
              "31977                        NaN                              7,073   \n",
              "31995                        NaN                             18,452   \n",
              "32013                        NaN                              3,913   \n",
              "32031                        NaN                             11,244   \n",
              "32049                        NaN                             24,669   \n",
              "32067                        NaN                             21,334   \n",
              "32085                        NaN                             17,543   \n",
              "32103                        NaN                             15,308   \n",
              "32121                        NaN                             14,584   \n",
              "32139                        NaN                              1,345   \n",
              "32157                        NaN                             10,651   \n",
              "32175                        NaN                              3,481   \n",
              "32193                        NaN                             16,072   \n",
              "32211                        NaN                              2,695   \n",
              "\n",
              "      Annual Average Employment Annual Total Wages Annual Average Weekly Wage  \\\n",
              "31851                   105,030      5,692,663,077                      1,042   \n",
              "31869                   392,497     31,115,189,292                      1,525   \n",
              "31887                   183,809     12,681,241,373                      1,327   \n",
              "31905                   176,138     11,421,783,386                      1,247   \n",
              "31923                    34,725      1,535,183,337                        850   \n",
              "31941                    50,513      2,688,191,335                      1,023   \n",
              "31959                   273,240     22,632,352,264                      1,593   \n",
              "31977                   103,725      5,649,915,013                      1,047   \n",
              "31995                   234,547     22,144,155,454                      1,816   \n",
              "32013                    39,616      2,885,773,955                      1,401   \n",
              "32031                   187,294     17,381,820,304                      1,785   \n",
              "32049                   376,864     29,587,960,898                      1,510   \n",
              "32067                   239,227     16,151,582,447                      1,298   \n",
              "32085                   268,704     27,181,019,249                      1,945   \n",
              "32103                   159,471      8,485,467,640                      1,023   \n",
              "32121                   146,196      8,743,432,175                      1,150   \n",
              "32139                    18,391      1,218,883,214                      1,275   \n",
              "32157                   175,080     18,287,083,738                      2,009   \n",
              "32175                    31,300      1,756,866,916                      1,079   \n",
              "32193                   199,693     16,390,311,914                      1,578   \n",
              "32211                    27,899      1,722,259,720                      1,187   \n",
              "\n",
              "      Annual Average Pay  Employment Location Quotient Relative to U.S.  \\\n",
              "31851             54,200                                           0.98   \n",
              "31869             79,275                                           1.05   \n",
              "31887             68,992                                           1.03   \n",
              "31905             64,845                                           1.01   \n",
              "31923             44,209                                           0.96   \n",
              "31941             53,218                                           0.98   \n",
              "31959             82,829                                           0.93   \n",
              "31977             54,470                                           0.99   \n",
              "31995             94,412                                           1.00   \n",
              "32013             72,843                                           1.01   \n",
              "32031             92,805                                           0.83   \n",
              "32049             78,511                                           1.02   \n",
              "32067             67,516                                           1.04   \n",
              "32085            101,156                                           1.06   \n",
              "32103             53,210                                           1.01   \n",
              "32121             59,806                                           0.99   \n",
              "32139             66,277                                           0.97   \n",
              "32157            104,450                                           1.07   \n",
              "32175             56,130                                           0.96   \n",
              "32193             82,077                                           1.02   \n",
              "32211             61,732                                           1.00   \n",
              "\n",
              "       Total Wage Location Quotient Relative to U.S.  \n",
              "31851                                           0.92  \n",
              "31869                                           1.05  \n",
              "31887                                           1.02  \n",
              "31905                                           0.98  \n",
              "31923                                           0.89  \n",
              "31941                                           0.94  \n",
              "31959                                           0.91  \n",
              "31977                                           0.95  \n",
              "31995                                           1.02  \n",
              "32013                                           1.01  \n",
              "32031                                           0.87  \n",
              "32049                                           1.01  \n",
              "32067                                           1.02  \n",
              "32085                                           1.07  \n",
              "32103                                           0.96  \n",
              "32121                                           0.95  \n",
              "32139                                           0.98  \n",
              "32157                                           1.09  \n",
              "32175                                           0.93  \n",
              "32193                                           1.02  \n",
              "32211                                           0.98  "
            ],
            "text/html": [
              "\n",
              "  <div id=\"df-b0cfddae-9575-4dde-902c-29f64d0ea90b\" class=\"colab-df-container\">\n",
              "    <div>\n",
              "<style scoped>\n",
              "    .dataframe tbody tr th:only-of-type {\n",
              "        vertical-align: middle;\n",
              "    }\n",
              "\n",
              "    .dataframe tbody tr th {\n",
              "        vertical-align: top;\n",
              "    }\n",
              "\n",
              "    .dataframe thead th {\n",
              "        text-align: right;\n",
              "    }\n",
              "</style>\n",
              "<table border=\"1\" class=\"dataframe\">\n",
              "  <thead>\n",
              "    <tr style=\"text-align: right;\">\n",
              "      <th></th>\n",
              "      <th>Area\\nCode</th>\n",
              "      <th>St</th>\n",
              "      <th>Cnty</th>\n",
              "      <th>Own</th>\n",
              "      <th>NAICS</th>\n",
              "      <th>Year</th>\n",
              "      <th>Qtr</th>\n",
              "      <th>Area Type</th>\n",
              "      <th>St Name</th>\n",
              "      <th>County</th>\n",
              "      <th>Ownership</th>\n",
              "      <th>Industry</th>\n",
              "      <th>Annual Average Status Code</th>\n",
              "      <th>Annual Average Establishment Count</th>\n",
              "      <th>Annual Average Employment</th>\n",
              "      <th>Annual Total Wages</th>\n",
              "      <th>Annual Average Weekly Wage</th>\n",
              "      <th>Annual Average Pay</th>\n",
              "      <th>Employment Location Quotient Relative to U.S.</th>\n",
              "      <th>Total Wage Location Quotient Relative to U.S.</th>\n",
              "    </tr>\n",
              "  </thead>\n",
              "  <tbody>\n",
              "    <tr>\n",
              "      <th>31851</th>\n",
              "      <td>34001</td>\n",
              "      <td>34</td>\n",
              "      <td>1.0</td>\n",
              "      <td>5</td>\n",
              "      <td>10</td>\n",
              "      <td>2023</td>\n",
              "      <td>A</td>\n",
              "      <td>County</td>\n",
              "      <td>New Jersey</td>\n",
              "      <td>Atlantic</td>\n",
              "      <td>Private</td>\n",
              "      <td>10 Total, all industries</td>\n",
              "      <td>NaN</td>\n",
              "      <td>6,911</td>\n",
              "      <td>105,030</td>\n",
              "      <td>5,692,663,077</td>\n",
              "      <td>1,042</td>\n",
              "      <td>54,200</td>\n",
              "      <td>0.98</td>\n",
              "      <td>0.92</td>\n",
              "    </tr>\n",
              "    <tr>\n",
              "      <th>31869</th>\n",
              "      <td>34003</td>\n",
              "      <td>34</td>\n",
              "      <td>3.0</td>\n",
              "      <td>5</td>\n",
              "      <td>10</td>\n",
              "      <td>2023</td>\n",
              "      <td>A</td>\n",
              "      <td>County</td>\n",
              "      <td>New Jersey</td>\n",
              "      <td>Bergen</td>\n",
              "      <td>Private</td>\n",
              "      <td>10 Total, all industries</td>\n",
              "      <td>NaN</td>\n",
              "      <td>35,098</td>\n",
              "      <td>392,497</td>\n",
              "      <td>31,115,189,292</td>\n",
              "      <td>1,525</td>\n",
              "      <td>79,275</td>\n",
              "      <td>1.05</td>\n",
              "      <td>1.05</td>\n",
              "    </tr>\n",
              "    <tr>\n",
              "      <th>31887</th>\n",
              "      <td>34005</td>\n",
              "      <td>34</td>\n",
              "      <td>5.0</td>\n",
              "      <td>5</td>\n",
              "      <td>10</td>\n",
              "      <td>2023</td>\n",
              "      <td>A</td>\n",
              "      <td>County</td>\n",
              "      <td>New Jersey</td>\n",
              "      <td>Burlington</td>\n",
              "      <td>Private</td>\n",
              "      <td>10 Total, all industries</td>\n",
              "      <td>NaN</td>\n",
              "      <td>11,926</td>\n",
              "      <td>183,809</td>\n",
              "      <td>12,681,241,373</td>\n",
              "      <td>1,327</td>\n",
              "      <td>68,992</td>\n",
              "      <td>1.03</td>\n",
              "      <td>1.02</td>\n",
              "    </tr>\n",
              "    <tr>\n",
              "      <th>31905</th>\n",
              "      <td>34007</td>\n",
              "      <td>34</td>\n",
              "      <td>7.0</td>\n",
              "      <td>5</td>\n",
              "      <td>10</td>\n",
              "      <td>2023</td>\n",
              "      <td>A</td>\n",
              "      <td>County</td>\n",
              "      <td>New Jersey</td>\n",
              "      <td>Camden</td>\n",
              "      <td>Private</td>\n",
              "      <td>10 Total, all industries</td>\n",
              "      <td>NaN</td>\n",
              "      <td>13,387</td>\n",
              "      <td>176,138</td>\n",
              "      <td>11,421,783,386</td>\n",
              "      <td>1,247</td>\n",
              "      <td>64,845</td>\n",
              "      <td>1.01</td>\n",
              "      <td>0.98</td>\n",
              "    </tr>\n",
              "    <tr>\n",
              "      <th>31923</th>\n",
              "      <td>34009</td>\n",
              "      <td>34</td>\n",
              "      <td>9.0</td>\n",
              "      <td>5</td>\n",
              "      <td>10</td>\n",
              "      <td>2023</td>\n",
              "      <td>A</td>\n",
              "      <td>County</td>\n",
              "      <td>New Jersey</td>\n",
              "      <td>Cape May</td>\n",
              "      <td>Private</td>\n",
              "      <td>10 Total, all industries</td>\n",
              "      <td>NaN</td>\n",
              "      <td>3,877</td>\n",
              "      <td>34,725</td>\n",
              "      <td>1,535,183,337</td>\n",
              "      <td>850</td>\n",
              "      <td>44,209</td>\n",
              "      <td>0.96</td>\n",
              "      <td>0.89</td>\n",
              "    </tr>\n",
              "    <tr>\n",
              "      <th>31941</th>\n",
              "      <td>34011</td>\n",
              "      <td>34</td>\n",
              "      <td>11.0</td>\n",
              "      <td>5</td>\n",
              "      <td>10</td>\n",
              "      <td>2023</td>\n",
              "      <td>A</td>\n",
              "      <td>County</td>\n",
              "      <td>New Jersey</td>\n",
              "      <td>Cumberland</td>\n",
              "      <td>Private</td>\n",
              "      <td>10 Total, all industries</td>\n",
              "      <td>NaN</td>\n",
              "      <td>3,504</td>\n",
              "      <td>50,513</td>\n",
              "      <td>2,688,191,335</td>\n",
              "      <td>1,023</td>\n",
              "      <td>53,218</td>\n",
              "      <td>0.98</td>\n",
              "      <td>0.94</td>\n",
              "    </tr>\n",
              "    <tr>\n",
              "      <th>31959</th>\n",
              "      <td>34013</td>\n",
              "      <td>34</td>\n",
              "      <td>13.0</td>\n",
              "      <td>5</td>\n",
              "      <td>10</td>\n",
              "      <td>2023</td>\n",
              "      <td>A</td>\n",
              "      <td>County</td>\n",
              "      <td>New Jersey</td>\n",
              "      <td>Essex</td>\n",
              "      <td>Private</td>\n",
              "      <td>10 Total, all industries</td>\n",
              "      <td>NaN</td>\n",
              "      <td>22,761</td>\n",
              "      <td>273,240</td>\n",
              "      <td>22,632,352,264</td>\n",
              "      <td>1,593</td>\n",
              "      <td>82,829</td>\n",
              "      <td>0.93</td>\n",
              "      <td>0.91</td>\n",
              "    </tr>\n",
              "    <tr>\n",
              "      <th>31977</th>\n",
              "      <td>34015</td>\n",
              "      <td>34</td>\n",
              "      <td>15.0</td>\n",
              "      <td>5</td>\n",
              "      <td>10</td>\n",
              "      <td>2023</td>\n",
              "      <td>A</td>\n",
              "      <td>County</td>\n",
              "      <td>New Jersey</td>\n",
              "      <td>Gloucester</td>\n",
              "      <td>Private</td>\n",
              "      <td>10 Total, all industries</td>\n",
              "      <td>NaN</td>\n",
              "      <td>7,073</td>\n",
              "      <td>103,725</td>\n",
              "      <td>5,649,915,013</td>\n",
              "      <td>1,047</td>\n",
              "      <td>54,470</td>\n",
              "      <td>0.99</td>\n",
              "      <td>0.95</td>\n",
              "    </tr>\n",
              "    <tr>\n",
              "      <th>31995</th>\n",
              "      <td>34017</td>\n",
              "      <td>34</td>\n",
              "      <td>17.0</td>\n",
              "      <td>5</td>\n",
              "      <td>10</td>\n",
              "      <td>2023</td>\n",
              "      <td>A</td>\n",
              "      <td>County</td>\n",
              "      <td>New Jersey</td>\n",
              "      <td>Hudson</td>\n",
              "      <td>Private</td>\n",
              "      <td>10 Total, all industries</td>\n",
              "      <td>NaN</td>\n",
              "      <td>18,452</td>\n",
              "      <td>234,547</td>\n",
              "      <td>22,144,155,454</td>\n",
              "      <td>1,816</td>\n",
              "      <td>94,412</td>\n",
              "      <td>1.00</td>\n",
              "      <td>1.02</td>\n",
              "    </tr>\n",
              "    <tr>\n",
              "      <th>32013</th>\n",
              "      <td>34019</td>\n",
              "      <td>34</td>\n",
              "      <td>19.0</td>\n",
              "      <td>5</td>\n",
              "      <td>10</td>\n",
              "      <td>2023</td>\n",
              "      <td>A</td>\n",
              "      <td>County</td>\n",
              "      <td>New Jersey</td>\n",
              "      <td>Hunterdon</td>\n",
              "      <td>Private</td>\n",
              "      <td>10 Total, all industries</td>\n",
              "      <td>NaN</td>\n",
              "      <td>3,913</td>\n",
              "      <td>39,616</td>\n",
              "      <td>2,885,773,955</td>\n",
              "      <td>1,401</td>\n",
              "      <td>72,843</td>\n",
              "      <td>1.01</td>\n",
              "      <td>1.01</td>\n",
              "    </tr>\n",
              "    <tr>\n",
              "      <th>32031</th>\n",
              "      <td>34021</td>\n",
              "      <td>34</td>\n",
              "      <td>21.0</td>\n",
              "      <td>5</td>\n",
              "      <td>10</td>\n",
              "      <td>2023</td>\n",
              "      <td>A</td>\n",
              "      <td>County</td>\n",
              "      <td>New Jersey</td>\n",
              "      <td>Mercer</td>\n",
              "      <td>Private</td>\n",
              "      <td>10 Total, all industries</td>\n",
              "      <td>NaN</td>\n",
              "      <td>11,244</td>\n",
              "      <td>187,294</td>\n",
              "      <td>17,381,820,304</td>\n",
              "      <td>1,785</td>\n",
              "      <td>92,805</td>\n",
              "      <td>0.83</td>\n",
              "      <td>0.87</td>\n",
              "    </tr>\n",
              "    <tr>\n",
              "      <th>32049</th>\n",
              "      <td>34023</td>\n",
              "      <td>34</td>\n",
              "      <td>23.0</td>\n",
              "      <td>5</td>\n",
              "      <td>10</td>\n",
              "      <td>2023</td>\n",
              "      <td>A</td>\n",
              "      <td>County</td>\n",
              "      <td>New Jersey</td>\n",
              "      <td>Middlesex</td>\n",
              "      <td>Private</td>\n",
              "      <td>10 Total, all industries</td>\n",
              "      <td>NaN</td>\n",
              "      <td>24,669</td>\n",
              "      <td>376,864</td>\n",
              "      <td>29,587,960,898</td>\n",
              "      <td>1,510</td>\n",
              "      <td>78,511</td>\n",
              "      <td>1.02</td>\n",
              "      <td>1.01</td>\n",
              "    </tr>\n",
              "    <tr>\n",
              "      <th>32067</th>\n",
              "      <td>34025</td>\n",
              "      <td>34</td>\n",
              "      <td>25.0</td>\n",
              "      <td>5</td>\n",
              "      <td>10</td>\n",
              "      <td>2023</td>\n",
              "      <td>A</td>\n",
              "      <td>County</td>\n",
              "      <td>New Jersey</td>\n",
              "      <td>Monmouth</td>\n",
              "      <td>Private</td>\n",
              "      <td>10 Total, all industries</td>\n",
              "      <td>NaN</td>\n",
              "      <td>21,334</td>\n",
              "      <td>239,227</td>\n",
              "      <td>16,151,582,447</td>\n",
              "      <td>1,298</td>\n",
              "      <td>67,516</td>\n",
              "      <td>1.04</td>\n",
              "      <td>1.02</td>\n",
              "    </tr>\n",
              "    <tr>\n",
              "      <th>32085</th>\n",
              "      <td>34027</td>\n",
              "      <td>34</td>\n",
              "      <td>27.0</td>\n",
              "      <td>5</td>\n",
              "      <td>10</td>\n",
              "      <td>2023</td>\n",
              "      <td>A</td>\n",
              "      <td>County</td>\n",
              "      <td>New Jersey</td>\n",
              "      <td>Morris</td>\n",
              "      <td>Private</td>\n",
              "      <td>10 Total, all industries</td>\n",
              "      <td>NaN</td>\n",
              "      <td>17,543</td>\n",
              "      <td>268,704</td>\n",
              "      <td>27,181,019,249</td>\n",
              "      <td>1,945</td>\n",
              "      <td>101,156</td>\n",
              "      <td>1.06</td>\n",
              "      <td>1.07</td>\n",
              "    </tr>\n",
              "    <tr>\n",
              "      <th>32103</th>\n",
              "      <td>34029</td>\n",
              "      <td>34</td>\n",
              "      <td>29.0</td>\n",
              "      <td>5</td>\n",
              "      <td>10</td>\n",
              "      <td>2023</td>\n",
              "      <td>A</td>\n",
              "      <td>County</td>\n",
              "      <td>New Jersey</td>\n",
              "      <td>Ocean</td>\n",
              "      <td>Private</td>\n",
              "      <td>10 Total, all industries</td>\n",
              "      <td>NaN</td>\n",
              "      <td>15,308</td>\n",
              "      <td>159,471</td>\n",
              "      <td>8,485,467,640</td>\n",
              "      <td>1,023</td>\n",
              "      <td>53,210</td>\n",
              "      <td>1.01</td>\n",
              "      <td>0.96</td>\n",
              "    </tr>\n",
              "    <tr>\n",
              "      <th>32121</th>\n",
              "      <td>34031</td>\n",
              "      <td>34</td>\n",
              "      <td>31.0</td>\n",
              "      <td>5</td>\n",
              "      <td>10</td>\n",
              "      <td>2023</td>\n",
              "      <td>A</td>\n",
              "      <td>County</td>\n",
              "      <td>New Jersey</td>\n",
              "      <td>Passaic</td>\n",
              "      <td>Private</td>\n",
              "      <td>10 Total, all industries</td>\n",
              "      <td>NaN</td>\n",
              "      <td>14,584</td>\n",
              "      <td>146,196</td>\n",
              "      <td>8,743,432,175</td>\n",
              "      <td>1,150</td>\n",
              "      <td>59,806</td>\n",
              "      <td>0.99</td>\n",
              "      <td>0.95</td>\n",
              "    </tr>\n",
              "    <tr>\n",
              "      <th>32139</th>\n",
              "      <td>34033</td>\n",
              "      <td>34</td>\n",
              "      <td>33.0</td>\n",
              "      <td>5</td>\n",
              "      <td>10</td>\n",
              "      <td>2023</td>\n",
              "      <td>A</td>\n",
              "      <td>County</td>\n",
              "      <td>New Jersey</td>\n",
              "      <td>Salem</td>\n",
              "      <td>Private</td>\n",
              "      <td>10 Total, all industries</td>\n",
              "      <td>NaN</td>\n",
              "      <td>1,345</td>\n",
              "      <td>18,391</td>\n",
              "      <td>1,218,883,214</td>\n",
              "      <td>1,275</td>\n",
              "      <td>66,277</td>\n",
              "      <td>0.97</td>\n",
              "      <td>0.98</td>\n",
              "    </tr>\n",
              "    <tr>\n",
              "      <th>32157</th>\n",
              "      <td>34035</td>\n",
              "      <td>34</td>\n",
              "      <td>35.0</td>\n",
              "      <td>5</td>\n",
              "      <td>10</td>\n",
              "      <td>2023</td>\n",
              "      <td>A</td>\n",
              "      <td>County</td>\n",
              "      <td>New Jersey</td>\n",
              "      <td>Somerset</td>\n",
              "      <td>Private</td>\n",
              "      <td>10 Total, all industries</td>\n",
              "      <td>NaN</td>\n",
              "      <td>10,651</td>\n",
              "      <td>175,080</td>\n",
              "      <td>18,287,083,738</td>\n",
              "      <td>2,009</td>\n",
              "      <td>104,450</td>\n",
              "      <td>1.07</td>\n",
              "      <td>1.09</td>\n",
              "    </tr>\n",
              "    <tr>\n",
              "      <th>32175</th>\n",
              "      <td>34037</td>\n",
              "      <td>34</td>\n",
              "      <td>37.0</td>\n",
              "      <td>5</td>\n",
              "      <td>10</td>\n",
              "      <td>2023</td>\n",
              "      <td>A</td>\n",
              "      <td>County</td>\n",
              "      <td>New Jersey</td>\n",
              "      <td>Sussex</td>\n",
              "      <td>Private</td>\n",
              "      <td>10 Total, all industries</td>\n",
              "      <td>NaN</td>\n",
              "      <td>3,481</td>\n",
              "      <td>31,300</td>\n",
              "      <td>1,756,866,916</td>\n",
              "      <td>1,079</td>\n",
              "      <td>56,130</td>\n",
              "      <td>0.96</td>\n",
              "      <td>0.93</td>\n",
              "    </tr>\n",
              "    <tr>\n",
              "      <th>32193</th>\n",
              "      <td>34039</td>\n",
              "      <td>34</td>\n",
              "      <td>39.0</td>\n",
              "      <td>5</td>\n",
              "      <td>10</td>\n",
              "      <td>2023</td>\n",
              "      <td>A</td>\n",
              "      <td>County</td>\n",
              "      <td>New Jersey</td>\n",
              "      <td>Union</td>\n",
              "      <td>Private</td>\n",
              "      <td>10 Total, all industries</td>\n",
              "      <td>NaN</td>\n",
              "      <td>16,072</td>\n",
              "      <td>199,693</td>\n",
              "      <td>16,390,311,914</td>\n",
              "      <td>1,578</td>\n",
              "      <td>82,077</td>\n",
              "      <td>1.02</td>\n",
              "      <td>1.02</td>\n",
              "    </tr>\n",
              "    <tr>\n",
              "      <th>32211</th>\n",
              "      <td>34041</td>\n",
              "      <td>34</td>\n",
              "      <td>41.0</td>\n",
              "      <td>5</td>\n",
              "      <td>10</td>\n",
              "      <td>2023</td>\n",
              "      <td>A</td>\n",
              "      <td>County</td>\n",
              "      <td>New Jersey</td>\n",
              "      <td>Warren</td>\n",
              "      <td>Private</td>\n",
              "      <td>10 Total, all industries</td>\n",
              "      <td>NaN</td>\n",
              "      <td>2,695</td>\n",
              "      <td>27,899</td>\n",
              "      <td>1,722,259,720</td>\n",
              "      <td>1,187</td>\n",
              "      <td>61,732</td>\n",
              "      <td>1.00</td>\n",
              "      <td>0.98</td>\n",
              "    </tr>\n",
              "  </tbody>\n",
              "</table>\n",
              "</div>\n",
              "    <div class=\"colab-df-buttons\">\n",
              "\n",
              "  <div class=\"colab-df-container\">\n",
              "    <button class=\"colab-df-convert\" onclick=\"convertToInteractive('df-b0cfddae-9575-4dde-902c-29f64d0ea90b')\"\n",
              "            title=\"Convert this dataframe to an interactive table.\"\n",
              "            style=\"display:none;\">\n",
              "\n",
              "  <svg xmlns=\"http://www.w3.org/2000/svg\" height=\"24px\" viewBox=\"0 -960 960 960\">\n",
              "    <path d=\"M120-120v-720h720v720H120Zm60-500h600v-160H180v160Zm220 220h160v-160H400v160Zm0 220h160v-160H400v160ZM180-400h160v-160H180v160Zm440 0h160v-160H620v160ZM180-180h160v-160H180v160Zm440 0h160v-160H620v160Z\"/>\n",
              "  </svg>\n",
              "    </button>\n",
              "\n",
              "  <style>\n",
              "    .colab-df-container {\n",
              "      display:flex;\n",
              "      gap: 12px;\n",
              "    }\n",
              "\n",
              "    .colab-df-convert {\n",
              "      background-color: #E8F0FE;\n",
              "      border: none;\n",
              "      border-radius: 50%;\n",
              "      cursor: pointer;\n",
              "      display: none;\n",
              "      fill: #1967D2;\n",
              "      height: 32px;\n",
              "      padding: 0 0 0 0;\n",
              "      width: 32px;\n",
              "    }\n",
              "\n",
              "    .colab-df-convert:hover {\n",
              "      background-color: #E2EBFA;\n",
              "      box-shadow: 0px 1px 2px rgba(60, 64, 67, 0.3), 0px 1px 3px 1px rgba(60, 64, 67, 0.15);\n",
              "      fill: #174EA6;\n",
              "    }\n",
              "\n",
              "    .colab-df-buttons div {\n",
              "      margin-bottom: 4px;\n",
              "    }\n",
              "\n",
              "    [theme=dark] .colab-df-convert {\n",
              "      background-color: #3B4455;\n",
              "      fill: #D2E3FC;\n",
              "    }\n",
              "\n",
              "    [theme=dark] .colab-df-convert:hover {\n",
              "      background-color: #434B5C;\n",
              "      box-shadow: 0px 1px 3px 1px rgba(0, 0, 0, 0.15);\n",
              "      filter: drop-shadow(0px 1px 2px rgba(0, 0, 0, 0.3));\n",
              "      fill: #FFFFFF;\n",
              "    }\n",
              "  </style>\n",
              "\n",
              "    <script>\n",
              "      const buttonEl =\n",
              "        document.querySelector('#df-b0cfddae-9575-4dde-902c-29f64d0ea90b button.colab-df-convert');\n",
              "      buttonEl.style.display =\n",
              "        google.colab.kernel.accessAllowed ? 'block' : 'none';\n",
              "\n",
              "      async function convertToInteractive(key) {\n",
              "        const element = document.querySelector('#df-b0cfddae-9575-4dde-902c-29f64d0ea90b');\n",
              "        const dataTable =\n",
              "          await google.colab.kernel.invokeFunction('convertToInteractive',\n",
              "                                                    [key], {});\n",
              "        if (!dataTable) return;\n",
              "\n",
              "        const docLinkHtml = 'Like what you see? Visit the ' +\n",
              "          '<a target=\"_blank\" href=https://colab.research.google.com/notebooks/data_table.ipynb>data table notebook</a>'\n",
              "          + ' to learn more about interactive tables.';\n",
              "        element.innerHTML = '';\n",
              "        dataTable['output_type'] = 'display_data';\n",
              "        await google.colab.output.renderOutput(dataTable, element);\n",
              "        const docLink = document.createElement('div');\n",
              "        docLink.innerHTML = docLinkHtml;\n",
              "        element.appendChild(docLink);\n",
              "      }\n",
              "    </script>\n",
              "  </div>\n",
              "\n",
              "\n",
              "    <div id=\"df-2ad139ba-d3ea-4348-8a0b-7ba5e100d66a\">\n",
              "      <button class=\"colab-df-quickchart\" onclick=\"quickchart('df-2ad139ba-d3ea-4348-8a0b-7ba5e100d66a')\"\n",
              "                title=\"Suggest charts\"\n",
              "                style=\"display:none;\">\n",
              "\n",
              "<svg xmlns=\"http://www.w3.org/2000/svg\" height=\"24px\"viewBox=\"0 0 24 24\"\n",
              "     width=\"24px\">\n",
              "    <g>\n",
              "        <path d=\"M19 3H5c-1.1 0-2 .9-2 2v14c0 1.1.9 2 2 2h14c1.1 0 2-.9 2-2V5c0-1.1-.9-2-2-2zM9 17H7v-7h2v7zm4 0h-2V7h2v10zm4 0h-2v-4h2v4z\"/>\n",
              "    </g>\n",
              "</svg>\n",
              "      </button>\n",
              "\n",
              "<style>\n",
              "  .colab-df-quickchart {\n",
              "      --bg-color: #E8F0FE;\n",
              "      --fill-color: #1967D2;\n",
              "      --hover-bg-color: #E2EBFA;\n",
              "      --hover-fill-color: #174EA6;\n",
              "      --disabled-fill-color: #AAA;\n",
              "      --disabled-bg-color: #DDD;\n",
              "  }\n",
              "\n",
              "  [theme=dark] .colab-df-quickchart {\n",
              "      --bg-color: #3B4455;\n",
              "      --fill-color: #D2E3FC;\n",
              "      --hover-bg-color: #434B5C;\n",
              "      --hover-fill-color: #FFFFFF;\n",
              "      --disabled-bg-color: #3B4455;\n",
              "      --disabled-fill-color: #666;\n",
              "  }\n",
              "\n",
              "  .colab-df-quickchart {\n",
              "    background-color: var(--bg-color);\n",
              "    border: none;\n",
              "    border-radius: 50%;\n",
              "    cursor: pointer;\n",
              "    display: none;\n",
              "    fill: var(--fill-color);\n",
              "    height: 32px;\n",
              "    padding: 0;\n",
              "    width: 32px;\n",
              "  }\n",
              "\n",
              "  .colab-df-quickchart:hover {\n",
              "    background-color: var(--hover-bg-color);\n",
              "    box-shadow: 0 1px 2px rgba(60, 64, 67, 0.3), 0 1px 3px 1px rgba(60, 64, 67, 0.15);\n",
              "    fill: var(--button-hover-fill-color);\n",
              "  }\n",
              "\n",
              "  .colab-df-quickchart-complete:disabled,\n",
              "  .colab-df-quickchart-complete:disabled:hover {\n",
              "    background-color: var(--disabled-bg-color);\n",
              "    fill: var(--disabled-fill-color);\n",
              "    box-shadow: none;\n",
              "  }\n",
              "\n",
              "  .colab-df-spinner {\n",
              "    border: 2px solid var(--fill-color);\n",
              "    border-color: transparent;\n",
              "    border-bottom-color: var(--fill-color);\n",
              "    animation:\n",
              "      spin 1s steps(1) infinite;\n",
              "  }\n",
              "\n",
              "  @keyframes spin {\n",
              "    0% {\n",
              "      border-color: transparent;\n",
              "      border-bottom-color: var(--fill-color);\n",
              "      border-left-color: var(--fill-color);\n",
              "    }\n",
              "    20% {\n",
              "      border-color: transparent;\n",
              "      border-left-color: var(--fill-color);\n",
              "      border-top-color: var(--fill-color);\n",
              "    }\n",
              "    30% {\n",
              "      border-color: transparent;\n",
              "      border-left-color: var(--fill-color);\n",
              "      border-top-color: var(--fill-color);\n",
              "      border-right-color: var(--fill-color);\n",
              "    }\n",
              "    40% {\n",
              "      border-color: transparent;\n",
              "      border-right-color: var(--fill-color);\n",
              "      border-top-color: var(--fill-color);\n",
              "    }\n",
              "    60% {\n",
              "      border-color: transparent;\n",
              "      border-right-color: var(--fill-color);\n",
              "    }\n",
              "    80% {\n",
              "      border-color: transparent;\n",
              "      border-right-color: var(--fill-color);\n",
              "      border-bottom-color: var(--fill-color);\n",
              "    }\n",
              "    90% {\n",
              "      border-color: transparent;\n",
              "      border-bottom-color: var(--fill-color);\n",
              "    }\n",
              "  }\n",
              "</style>\n",
              "\n",
              "      <script>\n",
              "        async function quickchart(key) {\n",
              "          const quickchartButtonEl =\n",
              "            document.querySelector('#' + key + ' button');\n",
              "          quickchartButtonEl.disabled = true;  // To prevent multiple clicks.\n",
              "          quickchartButtonEl.classList.add('colab-df-spinner');\n",
              "          try {\n",
              "            const charts = await google.colab.kernel.invokeFunction(\n",
              "                'suggestCharts', [key], {});\n",
              "          } catch (error) {\n",
              "            console.error('Error during call to suggestCharts:', error);\n",
              "          }\n",
              "          quickchartButtonEl.classList.remove('colab-df-spinner');\n",
              "          quickchartButtonEl.classList.add('colab-df-quickchart-complete');\n",
              "        }\n",
              "        (() => {\n",
              "          let quickchartButtonEl =\n",
              "            document.querySelector('#df-2ad139ba-d3ea-4348-8a0b-7ba5e100d66a button');\n",
              "          quickchartButtonEl.style.display =\n",
              "            google.colab.kernel.accessAllowed ? 'block' : 'none';\n",
              "        })();\n",
              "      </script>\n",
              "    </div>\n",
              "\n",
              "  <div id=\"id_9dd5eeff-52eb-4e72-8429-5cb2a2888578\">\n",
              "    <style>\n",
              "      .colab-df-generate {\n",
              "        background-color: #E8F0FE;\n",
              "        border: none;\n",
              "        border-radius: 50%;\n",
              "        cursor: pointer;\n",
              "        display: none;\n",
              "        fill: #1967D2;\n",
              "        height: 32px;\n",
              "        padding: 0 0 0 0;\n",
              "        width: 32px;\n",
              "      }\n",
              "\n",
              "      .colab-df-generate:hover {\n",
              "        background-color: #E2EBFA;\n",
              "        box-shadow: 0px 1px 2px rgba(60, 64, 67, 0.3), 0px 1px 3px 1px rgba(60, 64, 67, 0.15);\n",
              "        fill: #174EA6;\n",
              "      }\n",
              "\n",
              "      [theme=dark] .colab-df-generate {\n",
              "        background-color: #3B4455;\n",
              "        fill: #D2E3FC;\n",
              "      }\n",
              "\n",
              "      [theme=dark] .colab-df-generate:hover {\n",
              "        background-color: #434B5C;\n",
              "        box-shadow: 0px 1px 3px 1px rgba(0, 0, 0, 0.15);\n",
              "        filter: drop-shadow(0px 1px 2px rgba(0, 0, 0, 0.3));\n",
              "        fill: #FFFFFF;\n",
              "      }\n",
              "    </style>\n",
              "    <button class=\"colab-df-generate\" onclick=\"generateWithVariable('df4_filtered')\"\n",
              "            title=\"Generate code using this dataframe.\"\n",
              "            style=\"display:none;\">\n",
              "\n",
              "  <svg xmlns=\"http://www.w3.org/2000/svg\" height=\"24px\"viewBox=\"0 0 24 24\"\n",
              "       width=\"24px\">\n",
              "    <path d=\"M7,19H8.4L18.45,9,17,7.55,7,17.6ZM5,21V16.75L18.45,3.32a2,2,0,0,1,2.83,0l1.4,1.43a1.91,1.91,0,0,1,.58,1.4,1.91,1.91,0,0,1-.58,1.4L9.25,21ZM18.45,9,17,7.55Zm-12,3A5.31,5.31,0,0,0,4.9,8.1,5.31,5.31,0,0,0,1,6.5,5.31,5.31,0,0,0,4.9,4.9,5.31,5.31,0,0,0,6.5,1,5.31,5.31,0,0,0,8.1,4.9,5.31,5.31,0,0,0,12,6.5,5.46,5.46,0,0,0,6.5,12Z\"/>\n",
              "  </svg>\n",
              "    </button>\n",
              "    <script>\n",
              "      (() => {\n",
              "      const buttonEl =\n",
              "        document.querySelector('#id_9dd5eeff-52eb-4e72-8429-5cb2a2888578 button.colab-df-generate');\n",
              "      buttonEl.style.display =\n",
              "        google.colab.kernel.accessAllowed ? 'block' : 'none';\n",
              "\n",
              "      buttonEl.onclick = () => {\n",
              "        google.colab.notebook.generateWithVariable('df4_filtered');\n",
              "      }\n",
              "      })();\n",
              "    </script>\n",
              "  </div>\n",
              "\n",
              "    </div>\n",
              "  </div>\n"
            ],
            "application/vnd.google.colaboratory.intrinsic+json": {
              "type": "dataframe",
              "variable_name": "df4_filtered",
              "repr_error": "0"
            },
            "application/vnd.google.colaboratory.module+javascript": "\n      import \"https://ssl.gstatic.com/colaboratory/data_table/9e65f7085e7ffcb7/data_table.js\";\n\n      const table = window.createDataTable({\n        data: [[{\n            'v': 31851,\n            'f': \"31851\",\n        },\n\"34001\",\n\"34\",\n{\n            'v': 1.0,\n            'f': \"1.0\",\n        },\n{\n            'v': 5,\n            'f': \"5\",\n        },\n{\n            'v': 10,\n            'f': \"10\",\n        },\n{\n            'v': 2023,\n            'f': \"2023\",\n        },\n\"A\",\n\"County\",\n\"New Jersey\",\n\"Atlantic\",\n\"Private\",\n\"10 Total, all industries\",\n{\n            'v': NaN,\n            'f': \"NaN\",\n        },\n\"6,911\",\n\"105,030\",\n\"5,692,663,077\",\n\"1,042\",\n\"54,200\",\n{\n            'v': 0.98,\n            'f': \"0.98\",\n        },\n{\n            'v': 0.92,\n            'f': \"0.92\",\n        }],\n [{\n            'v': 31869,\n            'f': \"31869\",\n        },\n\"34003\",\n\"34\",\n{\n            'v': 3.0,\n            'f': \"3.0\",\n        },\n{\n            'v': 5,\n            'f': \"5\",\n        },\n{\n            'v': 10,\n            'f': \"10\",\n        },\n{\n            'v': 2023,\n            'f': \"2023\",\n        },\n\"A\",\n\"County\",\n\"New Jersey\",\n\"Bergen\",\n\"Private\",\n\"10 Total, all industries\",\n{\n            'v': NaN,\n            'f': \"NaN\",\n        },\n\"35,098\",\n\"392,497\",\n\"31,115,189,292\",\n\"1,525\",\n\"79,275\",\n{\n            'v': 1.05,\n            'f': \"1.05\",\n        },\n{\n            'v': 1.05,\n            'f': \"1.05\",\n        }],\n [{\n            'v': 31887,\n            'f': \"31887\",\n        },\n\"34005\",\n\"34\",\n{\n            'v': 5.0,\n            'f': \"5.0\",\n        },\n{\n            'v': 5,\n            'f': \"5\",\n        },\n{\n            'v': 10,\n            'f': \"10\",\n        },\n{\n            'v': 2023,\n            'f': \"2023\",\n        },\n\"A\",\n\"County\",\n\"New Jersey\",\n\"Burlington\",\n\"Private\",\n\"10 Total, all industries\",\n{\n            'v': NaN,\n            'f': \"NaN\",\n        },\n\"11,926\",\n\"183,809\",\n\"12,681,241,373\",\n\"1,327\",\n\"68,992\",\n{\n            'v': 1.03,\n            'f': \"1.03\",\n        },\n{\n            'v': 1.02,\n            'f': \"1.02\",\n        }],\n [{\n            'v': 31905,\n            'f': \"31905\",\n        },\n\"34007\",\n\"34\",\n{\n            'v': 7.0,\n            'f': \"7.0\",\n        },\n{\n            'v': 5,\n            'f': \"5\",\n        },\n{\n            'v': 10,\n            'f': \"10\",\n        },\n{\n            'v': 2023,\n            'f': \"2023\",\n        },\n\"A\",\n\"County\",\n\"New Jersey\",\n\"Camden\",\n\"Private\",\n\"10 Total, all industries\",\n{\n            'v': NaN,\n            'f': \"NaN\",\n        },\n\"13,387\",\n\"176,138\",\n\"11,421,783,386\",\n\"1,247\",\n\"64,845\",\n{\n            'v': 1.01,\n            'f': \"1.01\",\n        },\n{\n            'v': 0.98,\n            'f': \"0.98\",\n        }],\n [{\n            'v': 31923,\n            'f': \"31923\",\n        },\n\"34009\",\n\"34\",\n{\n            'v': 9.0,\n            'f': \"9.0\",\n        },\n{\n            'v': 5,\n            'f': \"5\",\n        },\n{\n            'v': 10,\n            'f': \"10\",\n        },\n{\n            'v': 2023,\n            'f': \"2023\",\n        },\n\"A\",\n\"County\",\n\"New Jersey\",\n\"Cape May\",\n\"Private\",\n\"10 Total, all industries\",\n{\n            'v': NaN,\n            'f': \"NaN\",\n        },\n\"3,877\",\n\"34,725\",\n\"1,535,183,337\",\n\"850\",\n\"44,209\",\n{\n            'v': 0.96,\n            'f': \"0.96\",\n        },\n{\n            'v': 0.89,\n            'f': \"0.89\",\n        }],\n [{\n            'v': 31941,\n            'f': \"31941\",\n        },\n\"34011\",\n\"34\",\n{\n            'v': 11.0,\n            'f': \"11.0\",\n        },\n{\n            'v': 5,\n            'f': \"5\",\n        },\n{\n            'v': 10,\n            'f': \"10\",\n        },\n{\n            'v': 2023,\n            'f': \"2023\",\n        },\n\"A\",\n\"County\",\n\"New Jersey\",\n\"Cumberland\",\n\"Private\",\n\"10 Total, all industries\",\n{\n            'v': NaN,\n            'f': \"NaN\",\n        },\n\"3,504\",\n\"50,513\",\n\"2,688,191,335\",\n\"1,023\",\n\"53,218\",\n{\n            'v': 0.98,\n            'f': \"0.98\",\n        },\n{\n            'v': 0.94,\n            'f': \"0.94\",\n        }],\n [{\n            'v': 31959,\n            'f': \"31959\",\n        },\n\"34013\",\n\"34\",\n{\n            'v': 13.0,\n            'f': \"13.0\",\n        },\n{\n            'v': 5,\n            'f': \"5\",\n        },\n{\n            'v': 10,\n            'f': \"10\",\n        },\n{\n            'v': 2023,\n            'f': \"2023\",\n        },\n\"A\",\n\"County\",\n\"New Jersey\",\n\"Essex\",\n\"Private\",\n\"10 Total, all industries\",\n{\n            'v': NaN,\n            'f': \"NaN\",\n        },\n\"22,761\",\n\"273,240\",\n\"22,632,352,264\",\n\"1,593\",\n\"82,829\",\n{\n            'v': 0.93,\n            'f': \"0.93\",\n        },\n{\n            'v': 0.91,\n            'f': \"0.91\",\n        }],\n [{\n            'v': 31977,\n            'f': \"31977\",\n        },\n\"34015\",\n\"34\",\n{\n            'v': 15.0,\n            'f': \"15.0\",\n        },\n{\n            'v': 5,\n            'f': \"5\",\n        },\n{\n            'v': 10,\n            'f': \"10\",\n        },\n{\n            'v': 2023,\n            'f': \"2023\",\n        },\n\"A\",\n\"County\",\n\"New Jersey\",\n\"Gloucester\",\n\"Private\",\n\"10 Total, all industries\",\n{\n            'v': NaN,\n            'f': \"NaN\",\n        },\n\"7,073\",\n\"103,725\",\n\"5,649,915,013\",\n\"1,047\",\n\"54,470\",\n{\n            'v': 0.99,\n            'f': \"0.99\",\n        },\n{\n            'v': 0.95,\n            'f': \"0.95\",\n        }],\n [{\n            'v': 31995,\n            'f': \"31995\",\n        },\n\"34017\",\n\"34\",\n{\n            'v': 17.0,\n            'f': \"17.0\",\n        },\n{\n            'v': 5,\n            'f': \"5\",\n        },\n{\n            'v': 10,\n            'f': \"10\",\n        },\n{\n            'v': 2023,\n            'f': \"2023\",\n        },\n\"A\",\n\"County\",\n\"New Jersey\",\n\"Hudson\",\n\"Private\",\n\"10 Total, all industries\",\n{\n            'v': NaN,\n            'f': \"NaN\",\n        },\n\"18,452\",\n\"234,547\",\n\"22,144,155,454\",\n\"1,816\",\n\"94,412\",\n{\n            'v': 1.0,\n            'f': \"1.0\",\n        },\n{\n            'v': 1.02,\n            'f': \"1.02\",\n        }],\n [{\n            'v': 32013,\n            'f': \"32013\",\n        },\n\"34019\",\n\"34\",\n{\n            'v': 19.0,\n            'f': \"19.0\",\n        },\n{\n            'v': 5,\n            'f': \"5\",\n        },\n{\n            'v': 10,\n            'f': \"10\",\n        },\n{\n            'v': 2023,\n            'f': \"2023\",\n        },\n\"A\",\n\"County\",\n\"New Jersey\",\n\"Hunterdon\",\n\"Private\",\n\"10 Total, all industries\",\n{\n            'v': NaN,\n            'f': \"NaN\",\n        },\n\"3,913\",\n\"39,616\",\n\"2,885,773,955\",\n\"1,401\",\n\"72,843\",\n{\n            'v': 1.01,\n            'f': \"1.01\",\n        },\n{\n            'v': 1.01,\n            'f': \"1.01\",\n        }],\n [{\n            'v': 32031,\n            'f': \"32031\",\n        },\n\"34021\",\n\"34\",\n{\n            'v': 21.0,\n            'f': \"21.0\",\n        },\n{\n            'v': 5,\n            'f': \"5\",\n        },\n{\n            'v': 10,\n            'f': \"10\",\n        },\n{\n            'v': 2023,\n            'f': \"2023\",\n        },\n\"A\",\n\"County\",\n\"New Jersey\",\n\"Mercer\",\n\"Private\",\n\"10 Total, all industries\",\n{\n            'v': NaN,\n            'f': \"NaN\",\n        },\n\"11,244\",\n\"187,294\",\n\"17,381,820,304\",\n\"1,785\",\n\"92,805\",\n{\n            'v': 0.83,\n            'f': \"0.83\",\n        },\n{\n            'v': 0.87,\n            'f': \"0.87\",\n        }],\n [{\n            'v': 32049,\n            'f': \"32049\",\n        },\n\"34023\",\n\"34\",\n{\n            'v': 23.0,\n            'f': \"23.0\",\n        },\n{\n            'v': 5,\n            'f': \"5\",\n        },\n{\n            'v': 10,\n            'f': \"10\",\n        },\n{\n            'v': 2023,\n            'f': \"2023\",\n        },\n\"A\",\n\"County\",\n\"New Jersey\",\n\"Middlesex\",\n\"Private\",\n\"10 Total, all industries\",\n{\n            'v': NaN,\n            'f': \"NaN\",\n        },\n\"24,669\",\n\"376,864\",\n\"29,587,960,898\",\n\"1,510\",\n\"78,511\",\n{\n            'v': 1.02,\n            'f': \"1.02\",\n        },\n{\n            'v': 1.01,\n            'f': \"1.01\",\n        }],\n [{\n            'v': 32067,\n            'f': \"32067\",\n        },\n\"34025\",\n\"34\",\n{\n            'v': 25.0,\n            'f': \"25.0\",\n        },\n{\n            'v': 5,\n            'f': \"5\",\n        },\n{\n            'v': 10,\n            'f': \"10\",\n        },\n{\n            'v': 2023,\n            'f': \"2023\",\n        },\n\"A\",\n\"County\",\n\"New Jersey\",\n\"Monmouth\",\n\"Private\",\n\"10 Total, all industries\",\n{\n            'v': NaN,\n            'f': \"NaN\",\n        },\n\"21,334\",\n\"239,227\",\n\"16,151,582,447\",\n\"1,298\",\n\"67,516\",\n{\n            'v': 1.04,\n            'f': \"1.04\",\n        },\n{\n            'v': 1.02,\n            'f': \"1.02\",\n        }],\n [{\n            'v': 32085,\n            'f': \"32085\",\n        },\n\"34027\",\n\"34\",\n{\n            'v': 27.0,\n            'f': \"27.0\",\n        },\n{\n            'v': 5,\n            'f': \"5\",\n        },\n{\n            'v': 10,\n            'f': \"10\",\n        },\n{\n            'v': 2023,\n            'f': \"2023\",\n        },\n\"A\",\n\"County\",\n\"New Jersey\",\n\"Morris\",\n\"Private\",\n\"10 Total, all industries\",\n{\n            'v': NaN,\n            'f': \"NaN\",\n        },\n\"17,543\",\n\"268,704\",\n\"27,181,019,249\",\n\"1,945\",\n\"101,156\",\n{\n            'v': 1.06,\n            'f': \"1.06\",\n        },\n{\n            'v': 1.07,\n            'f': \"1.07\",\n        }],\n [{\n            'v': 32103,\n            'f': \"32103\",\n        },\n\"34029\",\n\"34\",\n{\n            'v': 29.0,\n            'f': \"29.0\",\n        },\n{\n            'v': 5,\n            'f': \"5\",\n        },\n{\n            'v': 10,\n            'f': \"10\",\n        },\n{\n            'v': 2023,\n            'f': \"2023\",\n        },\n\"A\",\n\"County\",\n\"New Jersey\",\n\"Ocean\",\n\"Private\",\n\"10 Total, all industries\",\n{\n            'v': NaN,\n            'f': \"NaN\",\n        },\n\"15,308\",\n\"159,471\",\n\"8,485,467,640\",\n\"1,023\",\n\"53,210\",\n{\n            'v': 1.01,\n            'f': \"1.01\",\n        },\n{\n            'v': 0.96,\n            'f': \"0.96\",\n        }],\n [{\n            'v': 32121,\n            'f': \"32121\",\n        },\n\"34031\",\n\"34\",\n{\n            'v': 31.0,\n            'f': \"31.0\",\n        },\n{\n            'v': 5,\n            'f': \"5\",\n        },\n{\n            'v': 10,\n            'f': \"10\",\n        },\n{\n            'v': 2023,\n            'f': \"2023\",\n        },\n\"A\",\n\"County\",\n\"New Jersey\",\n\"Passaic\",\n\"Private\",\n\"10 Total, all industries\",\n{\n            'v': NaN,\n            'f': \"NaN\",\n        },\n\"14,584\",\n\"146,196\",\n\"8,743,432,175\",\n\"1,150\",\n\"59,806\",\n{\n            'v': 0.99,\n            'f': \"0.99\",\n        },\n{\n            'v': 0.95,\n            'f': \"0.95\",\n        }],\n [{\n            'v': 32139,\n            'f': \"32139\",\n        },\n\"34033\",\n\"34\",\n{\n            'v': 33.0,\n            'f': \"33.0\",\n        },\n{\n            'v': 5,\n            'f': \"5\",\n        },\n{\n            'v': 10,\n            'f': \"10\",\n        },\n{\n            'v': 2023,\n            'f': \"2023\",\n        },\n\"A\",\n\"County\",\n\"New Jersey\",\n\"Salem\",\n\"Private\",\n\"10 Total, all industries\",\n{\n            'v': NaN,\n            'f': \"NaN\",\n        },\n\"1,345\",\n\"18,391\",\n\"1,218,883,214\",\n\"1,275\",\n\"66,277\",\n{\n            'v': 0.97,\n            'f': \"0.97\",\n        },\n{\n            'v': 0.98,\n            'f': \"0.98\",\n        }],\n [{\n            'v': 32157,\n            'f': \"32157\",\n        },\n\"34035\",\n\"34\",\n{\n            'v': 35.0,\n            'f': \"35.0\",\n        },\n{\n            'v': 5,\n            'f': \"5\",\n        },\n{\n            'v': 10,\n            'f': \"10\",\n        },\n{\n            'v': 2023,\n            'f': \"2023\",\n        },\n\"A\",\n\"County\",\n\"New Jersey\",\n\"Somerset\",\n\"Private\",\n\"10 Total, all industries\",\n{\n            'v': NaN,\n            'f': \"NaN\",\n        },\n\"10,651\",\n\"175,080\",\n\"18,287,083,738\",\n\"2,009\",\n\"104,450\",\n{\n            'v': 1.07,\n            'f': \"1.07\",\n        },\n{\n            'v': 1.09,\n            'f': \"1.09\",\n        }],\n [{\n            'v': 32175,\n            'f': \"32175\",\n        },\n\"34037\",\n\"34\",\n{\n            'v': 37.0,\n            'f': \"37.0\",\n        },\n{\n            'v': 5,\n            'f': \"5\",\n        },\n{\n            'v': 10,\n            'f': \"10\",\n        },\n{\n            'v': 2023,\n            'f': \"2023\",\n        },\n\"A\",\n\"County\",\n\"New Jersey\",\n\"Sussex\",\n\"Private\",\n\"10 Total, all industries\",\n{\n            'v': NaN,\n            'f': \"NaN\",\n        },\n\"3,481\",\n\"31,300\",\n\"1,756,866,916\",\n\"1,079\",\n\"56,130\",\n{\n            'v': 0.96,\n            'f': \"0.96\",\n        },\n{\n            'v': 0.93,\n            'f': \"0.93\",\n        }],\n [{\n            'v': 32193,\n            'f': \"32193\",\n        },\n\"34039\",\n\"34\",\n{\n            'v': 39.0,\n            'f': \"39.0\",\n        },\n{\n            'v': 5,\n            'f': \"5\",\n        },\n{\n            'v': 10,\n            'f': \"10\",\n        },\n{\n            'v': 2023,\n            'f': \"2023\",\n        },\n\"A\",\n\"County\",\n\"New Jersey\",\n\"Union\",\n\"Private\",\n\"10 Total, all industries\",\n{\n            'v': NaN,\n            'f': \"NaN\",\n        },\n\"16,072\",\n\"199,693\",\n\"16,390,311,914\",\n\"1,578\",\n\"82,077\",\n{\n            'v': 1.02,\n            'f': \"1.02\",\n        },\n{\n            'v': 1.02,\n            'f': \"1.02\",\n        }],\n [{\n            'v': 32211,\n            'f': \"32211\",\n        },\n\"34041\",\n\"34\",\n{\n            'v': 41.0,\n            'f': \"41.0\",\n        },\n{\n            'v': 5,\n            'f': \"5\",\n        },\n{\n            'v': 10,\n            'f': \"10\",\n        },\n{\n            'v': 2023,\n            'f': \"2023\",\n        },\n\"A\",\n\"County\",\n\"New Jersey\",\n\"Warren\",\n\"Private\",\n\"10 Total, all industries\",\n{\n            'v': NaN,\n            'f': \"NaN\",\n        },\n\"2,695\",\n\"27,899\",\n\"1,722,259,720\",\n\"1,187\",\n\"61,732\",\n{\n            'v': 1.0,\n            'f': \"1.0\",\n        },\n{\n            'v': 0.98,\n            'f': \"0.98\",\n        }]],\n        columns: [[\"number\", \"index\"], [\"string\", \"Area\\nCode\"], [\"string\", \"St\"], [\"number\", \"Cnty\"], [\"number\", \"Own\"], [\"number\", \"NAICS\"], [\"number\", \"Year\"], [\"string\", \"Qtr\"], [\"string\", \"Area Type\"], [\"string\", \"St Name\"], [\"string\", \"County\"], [\"string\", \"Ownership\"], [\"string\", \"Industry\"], [\"number\", \"Annual Average Status Code\"], [\"string\", \"Annual Average Establishment Count\"], [\"string\", \"Annual Average Employment\"], [\"string\", \"Annual Total Wages\"], [\"string\", \"Annual Average Weekly Wage\"], [\"string\", \"Annual Average Pay\"], [\"number\", \"Employment Location Quotient Relative to U.S.\"], [\"number\", \"Total Wage Location Quotient Relative to U.S.\"]],\n        columnOptions: [{\"width\": \"1px\", \"className\": \"index_column\"}],\n        rowsPerPage: 25,\n        helpUrl: \"https://colab.research.google.com/notebooks/data_table.ipynb\",\n        suppressOutputScrolling: true,\n        minimumWidth: undefined,\n      });\n\n      function appendQuickchartButton(parentElement) {\n        let quickchartButtonContainerElement = document.createElement('div');\n        quickchartButtonContainerElement.innerHTML = `\n    <div id=\"df-ea46086c-58fc-4f71-8bc9-bf2203b499b6\">\n      <button class=\"colab-df-quickchart\" onclick=\"quickchart('df-ea46086c-58fc-4f71-8bc9-bf2203b499b6')\"\n                title=\"Suggest charts\"\n                style=\"display:none;\">\n\n<svg xmlns=\"http://www.w3.org/2000/svg\" height=\"24px\"viewBox=\"0 0 24 24\"\n     width=\"24px\">\n    <g>\n        <path d=\"M19 3H5c-1.1 0-2 .9-2 2v14c0 1.1.9 2 2 2h14c1.1 0 2-.9 2-2V5c0-1.1-.9-2-2-2zM9 17H7v-7h2v7zm4 0h-2V7h2v10zm4 0h-2v-4h2v4z\"/>\n    </g>\n</svg>\n      </button>\n\n<style>\n  .colab-df-quickchart {\n      --bg-color: #E8F0FE;\n      --fill-color: #1967D2;\n      --hover-bg-color: #E2EBFA;\n      --hover-fill-color: #174EA6;\n      --disabled-fill-color: #AAA;\n      --disabled-bg-color: #DDD;\n  }\n\n  [theme=dark] .colab-df-quickchart {\n      --bg-color: #3B4455;\n      --fill-color: #D2E3FC;\n      --hover-bg-color: #434B5C;\n      --hover-fill-color: #FFFFFF;\n      --disabled-bg-color: #3B4455;\n      --disabled-fill-color: #666;\n  }\n\n  .colab-df-quickchart {\n    background-color: var(--bg-color);\n    border: none;\n    border-radius: 50%;\n    cursor: pointer;\n    display: none;\n    fill: var(--fill-color);\n    height: 32px;\n    padding: 0;\n    width: 32px;\n  }\n\n  .colab-df-quickchart:hover {\n    background-color: var(--hover-bg-color);\n    box-shadow: 0 1px 2px rgba(60, 64, 67, 0.3), 0 1px 3px 1px rgba(60, 64, 67, 0.15);\n    fill: var(--button-hover-fill-color);\n  }\n\n  .colab-df-quickchart-complete:disabled,\n  .colab-df-quickchart-complete:disabled:hover {\n    background-color: var(--disabled-bg-color);\n    fill: var(--disabled-fill-color);\n    box-shadow: none;\n  }\n\n  .colab-df-spinner {\n    border: 2px solid var(--fill-color);\n    border-color: transparent;\n    border-bottom-color: var(--fill-color);\n    animation:\n      spin 1s steps(1) infinite;\n  }\n\n  @keyframes spin {\n    0% {\n      border-color: transparent;\n      border-bottom-color: var(--fill-color);\n      border-left-color: var(--fill-color);\n    }\n    20% {\n      border-color: transparent;\n      border-left-color: var(--fill-color);\n      border-top-color: var(--fill-color);\n    }\n    30% {\n      border-color: transparent;\n      border-left-color: var(--fill-color);\n      border-top-color: var(--fill-color);\n      border-right-color: var(--fill-color);\n    }\n    40% {\n      border-color: transparent;\n      border-right-color: var(--fill-color);\n      border-top-color: var(--fill-color);\n    }\n    60% {\n      border-color: transparent;\n      border-right-color: var(--fill-color);\n    }\n    80% {\n      border-color: transparent;\n      border-right-color: var(--fill-color);\n      border-bottom-color: var(--fill-color);\n    }\n    90% {\n      border-color: transparent;\n      border-bottom-color: var(--fill-color);\n    }\n  }\n</style>\n\n      <script>\n        async function quickchart(key) {\n          const quickchartButtonEl =\n            document.querySelector('#' + key + ' button');\n          quickchartButtonEl.disabled = true;  // To prevent multiple clicks.\n          quickchartButtonEl.classList.add('colab-df-spinner');\n          try {\n            const charts = await google.colab.kernel.invokeFunction(\n                'suggestCharts', [key], {});\n          } catch (error) {\n            console.error('Error during call to suggestCharts:', error);\n          }\n          quickchartButtonEl.classList.remove('colab-df-spinner');\n          quickchartButtonEl.classList.add('colab-df-quickchart-complete');\n        }\n        (() => {\n          let quickchartButtonEl =\n            document.querySelector('#df-ea46086c-58fc-4f71-8bc9-bf2203b499b6 button');\n          quickchartButtonEl.style.display =\n            google.colab.kernel.accessAllowed ? 'block' : 'none';\n        })();\n      </script>\n    </div>`;\n        parentElement.appendChild(quickchartButtonContainerElement);\n      }\n\n      appendQuickchartButton(table);\n    "
          },
          "metadata": {},
          "execution_count": 15
        }
      ]
    },
    {
      "cell_type": "code",
      "source": [
        "\n",
        "df4_table = df4_filtered[[\n",
        "    \"County\",\n",
        "    \"Annual Average Establishment Count\",\n",
        "    \"Annual Average Employment\",\n",
        "    \"Annual Total Wages\",\n",
        "    \"Annual Average Weekly Wage\",\n",
        "    \"Annual Average Pay\",\n",
        "    \"Employment Location Quotient Relative to U.S.\",\n",
        "    \"Total Wage Location Quotient Relative to U.S.\"\n",
        "]]\n",
        "\n",
        "# Mostrar la tabla\n",
        "df4_table.head()"
      ],
      "metadata": {
        "colab": {
          "base_uri": "https://localhost:8080/",
          "height": 254
        },
        "id": "VHvMYf8B--MF",
        "outputId": "40ff2dfb-6e24-451b-871d-aa7b22eb97a9"
      },
      "execution_count": null,
      "outputs": [
        {
          "output_type": "execute_result",
          "data": {
            "text/plain": [
              "           County Annual Average Establishment Count  \\\n",
              "31851    Atlantic                              6,911   \n",
              "31869      Bergen                             35,098   \n",
              "31887  Burlington                             11,926   \n",
              "31905      Camden                             13,387   \n",
              "31923    Cape May                              3,877   \n",
              "\n",
              "      Annual Average Employment Annual Total Wages Annual Average Weekly Wage  \\\n",
              "31851                   105,030      5,692,663,077                      1,042   \n",
              "31869                   392,497     31,115,189,292                      1,525   \n",
              "31887                   183,809     12,681,241,373                      1,327   \n",
              "31905                   176,138     11,421,783,386                      1,247   \n",
              "31923                    34,725      1,535,183,337                        850   \n",
              "\n",
              "      Annual Average Pay  Employment Location Quotient Relative to U.S.  \\\n",
              "31851             54,200                                           0.98   \n",
              "31869             79,275                                           1.05   \n",
              "31887             68,992                                           1.03   \n",
              "31905             64,845                                           1.01   \n",
              "31923             44,209                                           0.96   \n",
              "\n",
              "       Total Wage Location Quotient Relative to U.S.  \n",
              "31851                                           0.92  \n",
              "31869                                           1.05  \n",
              "31887                                           1.02  \n",
              "31905                                           0.98  \n",
              "31923                                           0.89  "
            ],
            "text/html": [
              "\n",
              "  <div id=\"df-e896a0fb-8ef5-4eff-b2c2-0777efab2b28\" class=\"colab-df-container\">\n",
              "    <div>\n",
              "<style scoped>\n",
              "    .dataframe tbody tr th:only-of-type {\n",
              "        vertical-align: middle;\n",
              "    }\n",
              "\n",
              "    .dataframe tbody tr th {\n",
              "        vertical-align: top;\n",
              "    }\n",
              "\n",
              "    .dataframe thead th {\n",
              "        text-align: right;\n",
              "    }\n",
              "</style>\n",
              "<table border=\"1\" class=\"dataframe\">\n",
              "  <thead>\n",
              "    <tr style=\"text-align: right;\">\n",
              "      <th></th>\n",
              "      <th>County</th>\n",
              "      <th>Annual Average Establishment Count</th>\n",
              "      <th>Annual Average Employment</th>\n",
              "      <th>Annual Total Wages</th>\n",
              "      <th>Annual Average Weekly Wage</th>\n",
              "      <th>Annual Average Pay</th>\n",
              "      <th>Employment Location Quotient Relative to U.S.</th>\n",
              "      <th>Total Wage Location Quotient Relative to U.S.</th>\n",
              "    </tr>\n",
              "  </thead>\n",
              "  <tbody>\n",
              "    <tr>\n",
              "      <th>31851</th>\n",
              "      <td>Atlantic</td>\n",
              "      <td>6,911</td>\n",
              "      <td>105,030</td>\n",
              "      <td>5,692,663,077</td>\n",
              "      <td>1,042</td>\n",
              "      <td>54,200</td>\n",
              "      <td>0.98</td>\n",
              "      <td>0.92</td>\n",
              "    </tr>\n",
              "    <tr>\n",
              "      <th>31869</th>\n",
              "      <td>Bergen</td>\n",
              "      <td>35,098</td>\n",
              "      <td>392,497</td>\n",
              "      <td>31,115,189,292</td>\n",
              "      <td>1,525</td>\n",
              "      <td>79,275</td>\n",
              "      <td>1.05</td>\n",
              "      <td>1.05</td>\n",
              "    </tr>\n",
              "    <tr>\n",
              "      <th>31887</th>\n",
              "      <td>Burlington</td>\n",
              "      <td>11,926</td>\n",
              "      <td>183,809</td>\n",
              "      <td>12,681,241,373</td>\n",
              "      <td>1,327</td>\n",
              "      <td>68,992</td>\n",
              "      <td>1.03</td>\n",
              "      <td>1.02</td>\n",
              "    </tr>\n",
              "    <tr>\n",
              "      <th>31905</th>\n",
              "      <td>Camden</td>\n",
              "      <td>13,387</td>\n",
              "      <td>176,138</td>\n",
              "      <td>11,421,783,386</td>\n",
              "      <td>1,247</td>\n",
              "      <td>64,845</td>\n",
              "      <td>1.01</td>\n",
              "      <td>0.98</td>\n",
              "    </tr>\n",
              "    <tr>\n",
              "      <th>31923</th>\n",
              "      <td>Cape May</td>\n",
              "      <td>3,877</td>\n",
              "      <td>34,725</td>\n",
              "      <td>1,535,183,337</td>\n",
              "      <td>850</td>\n",
              "      <td>44,209</td>\n",
              "      <td>0.96</td>\n",
              "      <td>0.89</td>\n",
              "    </tr>\n",
              "  </tbody>\n",
              "</table>\n",
              "</div>\n",
              "    <div class=\"colab-df-buttons\">\n",
              "\n",
              "  <div class=\"colab-df-container\">\n",
              "    <button class=\"colab-df-convert\" onclick=\"convertToInteractive('df-e896a0fb-8ef5-4eff-b2c2-0777efab2b28')\"\n",
              "            title=\"Convert this dataframe to an interactive table.\"\n",
              "            style=\"display:none;\">\n",
              "\n",
              "  <svg xmlns=\"http://www.w3.org/2000/svg\" height=\"24px\" viewBox=\"0 -960 960 960\">\n",
              "    <path d=\"M120-120v-720h720v720H120Zm60-500h600v-160H180v160Zm220 220h160v-160H400v160Zm0 220h160v-160H400v160ZM180-400h160v-160H180v160Zm440 0h160v-160H620v160ZM180-180h160v-160H180v160Zm440 0h160v-160H620v160Z\"/>\n",
              "  </svg>\n",
              "    </button>\n",
              "\n",
              "  <style>\n",
              "    .colab-df-container {\n",
              "      display:flex;\n",
              "      gap: 12px;\n",
              "    }\n",
              "\n",
              "    .colab-df-convert {\n",
              "      background-color: #E8F0FE;\n",
              "      border: none;\n",
              "      border-radius: 50%;\n",
              "      cursor: pointer;\n",
              "      display: none;\n",
              "      fill: #1967D2;\n",
              "      height: 32px;\n",
              "      padding: 0 0 0 0;\n",
              "      width: 32px;\n",
              "    }\n",
              "\n",
              "    .colab-df-convert:hover {\n",
              "      background-color: #E2EBFA;\n",
              "      box-shadow: 0px 1px 2px rgba(60, 64, 67, 0.3), 0px 1px 3px 1px rgba(60, 64, 67, 0.15);\n",
              "      fill: #174EA6;\n",
              "    }\n",
              "\n",
              "    .colab-df-buttons div {\n",
              "      margin-bottom: 4px;\n",
              "    }\n",
              "\n",
              "    [theme=dark] .colab-df-convert {\n",
              "      background-color: #3B4455;\n",
              "      fill: #D2E3FC;\n",
              "    }\n",
              "\n",
              "    [theme=dark] .colab-df-convert:hover {\n",
              "      background-color: #434B5C;\n",
              "      box-shadow: 0px 1px 3px 1px rgba(0, 0, 0, 0.15);\n",
              "      filter: drop-shadow(0px 1px 2px rgba(0, 0, 0, 0.3));\n",
              "      fill: #FFFFFF;\n",
              "    }\n",
              "  </style>\n",
              "\n",
              "    <script>\n",
              "      const buttonEl =\n",
              "        document.querySelector('#df-e896a0fb-8ef5-4eff-b2c2-0777efab2b28 button.colab-df-convert');\n",
              "      buttonEl.style.display =\n",
              "        google.colab.kernel.accessAllowed ? 'block' : 'none';\n",
              "\n",
              "      async function convertToInteractive(key) {\n",
              "        const element = document.querySelector('#df-e896a0fb-8ef5-4eff-b2c2-0777efab2b28');\n",
              "        const dataTable =\n",
              "          await google.colab.kernel.invokeFunction('convertToInteractive',\n",
              "                                                    [key], {});\n",
              "        if (!dataTable) return;\n",
              "\n",
              "        const docLinkHtml = 'Like what you see? Visit the ' +\n",
              "          '<a target=\"_blank\" href=https://colab.research.google.com/notebooks/data_table.ipynb>data table notebook</a>'\n",
              "          + ' to learn more about interactive tables.';\n",
              "        element.innerHTML = '';\n",
              "        dataTable['output_type'] = 'display_data';\n",
              "        await google.colab.output.renderOutput(dataTable, element);\n",
              "        const docLink = document.createElement('div');\n",
              "        docLink.innerHTML = docLinkHtml;\n",
              "        element.appendChild(docLink);\n",
              "      }\n",
              "    </script>\n",
              "  </div>\n",
              "\n",
              "\n",
              "    <div id=\"df-516d4b43-ae96-46de-a2d4-0bbf3ce92dc2\">\n",
              "      <button class=\"colab-df-quickchart\" onclick=\"quickchart('df-516d4b43-ae96-46de-a2d4-0bbf3ce92dc2')\"\n",
              "                title=\"Suggest charts\"\n",
              "                style=\"display:none;\">\n",
              "\n",
              "<svg xmlns=\"http://www.w3.org/2000/svg\" height=\"24px\"viewBox=\"0 0 24 24\"\n",
              "     width=\"24px\">\n",
              "    <g>\n",
              "        <path d=\"M19 3H5c-1.1 0-2 .9-2 2v14c0 1.1.9 2 2 2h14c1.1 0 2-.9 2-2V5c0-1.1-.9-2-2-2zM9 17H7v-7h2v7zm4 0h-2V7h2v10zm4 0h-2v-4h2v4z\"/>\n",
              "    </g>\n",
              "</svg>\n",
              "      </button>\n",
              "\n",
              "<style>\n",
              "  .colab-df-quickchart {\n",
              "      --bg-color: #E8F0FE;\n",
              "      --fill-color: #1967D2;\n",
              "      --hover-bg-color: #E2EBFA;\n",
              "      --hover-fill-color: #174EA6;\n",
              "      --disabled-fill-color: #AAA;\n",
              "      --disabled-bg-color: #DDD;\n",
              "  }\n",
              "\n",
              "  [theme=dark] .colab-df-quickchart {\n",
              "      --bg-color: #3B4455;\n",
              "      --fill-color: #D2E3FC;\n",
              "      --hover-bg-color: #434B5C;\n",
              "      --hover-fill-color: #FFFFFF;\n",
              "      --disabled-bg-color: #3B4455;\n",
              "      --disabled-fill-color: #666;\n",
              "  }\n",
              "\n",
              "  .colab-df-quickchart {\n",
              "    background-color: var(--bg-color);\n",
              "    border: none;\n",
              "    border-radius: 50%;\n",
              "    cursor: pointer;\n",
              "    display: none;\n",
              "    fill: var(--fill-color);\n",
              "    height: 32px;\n",
              "    padding: 0;\n",
              "    width: 32px;\n",
              "  }\n",
              "\n",
              "  .colab-df-quickchart:hover {\n",
              "    background-color: var(--hover-bg-color);\n",
              "    box-shadow: 0 1px 2px rgba(60, 64, 67, 0.3), 0 1px 3px 1px rgba(60, 64, 67, 0.15);\n",
              "    fill: var(--button-hover-fill-color);\n",
              "  }\n",
              "\n",
              "  .colab-df-quickchart-complete:disabled,\n",
              "  .colab-df-quickchart-complete:disabled:hover {\n",
              "    background-color: var(--disabled-bg-color);\n",
              "    fill: var(--disabled-fill-color);\n",
              "    box-shadow: none;\n",
              "  }\n",
              "\n",
              "  .colab-df-spinner {\n",
              "    border: 2px solid var(--fill-color);\n",
              "    border-color: transparent;\n",
              "    border-bottom-color: var(--fill-color);\n",
              "    animation:\n",
              "      spin 1s steps(1) infinite;\n",
              "  }\n",
              "\n",
              "  @keyframes spin {\n",
              "    0% {\n",
              "      border-color: transparent;\n",
              "      border-bottom-color: var(--fill-color);\n",
              "      border-left-color: var(--fill-color);\n",
              "    }\n",
              "    20% {\n",
              "      border-color: transparent;\n",
              "      border-left-color: var(--fill-color);\n",
              "      border-top-color: var(--fill-color);\n",
              "    }\n",
              "    30% {\n",
              "      border-color: transparent;\n",
              "      border-left-color: var(--fill-color);\n",
              "      border-top-color: var(--fill-color);\n",
              "      border-right-color: var(--fill-color);\n",
              "    }\n",
              "    40% {\n",
              "      border-color: transparent;\n",
              "      border-right-color: var(--fill-color);\n",
              "      border-top-color: var(--fill-color);\n",
              "    }\n",
              "    60% {\n",
              "      border-color: transparent;\n",
              "      border-right-color: var(--fill-color);\n",
              "    }\n",
              "    80% {\n",
              "      border-color: transparent;\n",
              "      border-right-color: var(--fill-color);\n",
              "      border-bottom-color: var(--fill-color);\n",
              "    }\n",
              "    90% {\n",
              "      border-color: transparent;\n",
              "      border-bottom-color: var(--fill-color);\n",
              "    }\n",
              "  }\n",
              "</style>\n",
              "\n",
              "      <script>\n",
              "        async function quickchart(key) {\n",
              "          const quickchartButtonEl =\n",
              "            document.querySelector('#' + key + ' button');\n",
              "          quickchartButtonEl.disabled = true;  // To prevent multiple clicks.\n",
              "          quickchartButtonEl.classList.add('colab-df-spinner');\n",
              "          try {\n",
              "            const charts = await google.colab.kernel.invokeFunction(\n",
              "                'suggestCharts', [key], {});\n",
              "          } catch (error) {\n",
              "            console.error('Error during call to suggestCharts:', error);\n",
              "          }\n",
              "          quickchartButtonEl.classList.remove('colab-df-spinner');\n",
              "          quickchartButtonEl.classList.add('colab-df-quickchart-complete');\n",
              "        }\n",
              "        (() => {\n",
              "          let quickchartButtonEl =\n",
              "            document.querySelector('#df-516d4b43-ae96-46de-a2d4-0bbf3ce92dc2 button');\n",
              "          quickchartButtonEl.style.display =\n",
              "            google.colab.kernel.accessAllowed ? 'block' : 'none';\n",
              "        })();\n",
              "      </script>\n",
              "    </div>\n",
              "\n",
              "    </div>\n",
              "  </div>\n"
            ],
            "application/vnd.google.colaboratory.intrinsic+json": {
              "type": "dataframe",
              "variable_name": "df4_table",
              "summary": "{\n  \"name\": \"df4_table\",\n  \"rows\": 21,\n  \"fields\": [\n    {\n      \"column\": \"County\",\n      \"properties\": {\n        \"dtype\": \"string\",\n        \"num_unique_values\": 21,\n        \"samples\": [\n          \"Atlantic\",\n          \"Somerset\",\n          \"Passaic\"\n        ],\n        \"semantic_type\": \"\",\n        \"description\": \"\"\n      }\n    },\n    {\n      \"column\": \"Annual Average Establishment Count\",\n      \"properties\": {\n        \"dtype\": \"string\",\n        \"num_unique_values\": 21,\n        \"samples\": [\n          \"6,911\",\n          \"10,651\",\n          \"14,584\"\n        ],\n        \"semantic_type\": \"\",\n        \"description\": \"\"\n      }\n    },\n    {\n      \"column\": \"Annual Average Employment\",\n      \"properties\": {\n        \"dtype\": \"string\",\n        \"num_unique_values\": 21,\n        \"samples\": [\n          \"105,030\",\n          \"175,080\",\n          \"146,196\"\n        ],\n        \"semantic_type\": \"\",\n        \"description\": \"\"\n      }\n    },\n    {\n      \"column\": \"Annual Total Wages\",\n      \"properties\": {\n        \"dtype\": \"string\",\n        \"num_unique_values\": 21,\n        \"samples\": [\n          \"5,692,663,077\",\n          \"18,287,083,738\",\n          \"8,743,432,175\"\n        ],\n        \"semantic_type\": \"\",\n        \"description\": \"\"\n      }\n    },\n    {\n      \"column\": \"Annual Average Weekly Wage\",\n      \"properties\": {\n        \"dtype\": \"string\",\n        \"num_unique_values\": 20,\n        \"samples\": [\n          \"1,042\",\n          \"1,079\",\n          \"1,275\"\n        ],\n        \"semantic_type\": \"\",\n        \"description\": \"\"\n      }\n    },\n    {\n      \"column\": \"Annual Average Pay\",\n      \"properties\": {\n        \"dtype\": \"string\",\n        \"num_unique_values\": 21,\n        \"samples\": [\n          \"54,200\",\n          \"104,450\",\n          \"59,806\"\n        ],\n        \"semantic_type\": \"\",\n        \"description\": \"\"\n      }\n    },\n    {\n      \"column\": \"Employment Location Quotient Relative to U.S.\",\n      \"properties\": {\n        \"dtype\": \"number\",\n        \"std\": 0.051533622866186,\n        \"min\": 0.83,\n        \"max\": 1.07,\n        \"num_unique_values\": 14,\n        \"samples\": [\n          1.02,\n          1.06,\n          0.98\n        ],\n        \"semantic_type\": \"\",\n        \"description\": \"\"\n      }\n    },\n    {\n      \"column\": \"Total Wage Location Quotient Relative to U.S.\",\n      \"properties\": {\n        \"dtype\": \"number\",\n        \"std\": 0.05843596413820779,\n        \"min\": 0.87,\n        \"max\": 1.09,\n        \"num_unique_values\": 14,\n        \"samples\": [\n          0.87,\n          0.96,\n          0.92\n        ],\n        \"semantic_type\": \"\",\n        \"description\": \"\"\n      }\n    }\n  ]\n}"
            },
            "application/vnd.google.colaboratory.module+javascript": "\n      import \"https://ssl.gstatic.com/colaboratory/data_table/9e65f7085e7ffcb7/data_table.js\";\n\n      const table = window.createDataTable({\n        data: [[{\n            'v': 31851,\n            'f': \"31851\",\n        },\n\"Atlantic\",\n\"6,911\",\n\"105,030\",\n\"5,692,663,077\",\n\"1,042\",\n\"54,200\",\n{\n            'v': 0.98,\n            'f': \"0.98\",\n        },\n{\n            'v': 0.92,\n            'f': \"0.92\",\n        }],\n [{\n            'v': 31869,\n            'f': \"31869\",\n        },\n\"Bergen\",\n\"35,098\",\n\"392,497\",\n\"31,115,189,292\",\n\"1,525\",\n\"79,275\",\n{\n            'v': 1.05,\n            'f': \"1.05\",\n        },\n{\n            'v': 1.05,\n            'f': \"1.05\",\n        }],\n [{\n            'v': 31887,\n            'f': \"31887\",\n        },\n\"Burlington\",\n\"11,926\",\n\"183,809\",\n\"12,681,241,373\",\n\"1,327\",\n\"68,992\",\n{\n            'v': 1.03,\n            'f': \"1.03\",\n        },\n{\n            'v': 1.02,\n            'f': \"1.02\",\n        }],\n [{\n            'v': 31905,\n            'f': \"31905\",\n        },\n\"Camden\",\n\"13,387\",\n\"176,138\",\n\"11,421,783,386\",\n\"1,247\",\n\"64,845\",\n{\n            'v': 1.01,\n            'f': \"1.01\",\n        },\n{\n            'v': 0.98,\n            'f': \"0.98\",\n        }],\n [{\n            'v': 31923,\n            'f': \"31923\",\n        },\n\"Cape May\",\n\"3,877\",\n\"34,725\",\n\"1,535,183,337\",\n\"850\",\n\"44,209\",\n{\n            'v': 0.96,\n            'f': \"0.96\",\n        },\n{\n            'v': 0.89,\n            'f': \"0.89\",\n        }]],\n        columns: [[\"number\", \"index\"], [\"string\", \"County\"], [\"string\", \"Annual Average Establishment Count\"], [\"string\", \"Annual Average Employment\"], [\"string\", \"Annual Total Wages\"], [\"string\", \"Annual Average Weekly Wage\"], [\"string\", \"Annual Average Pay\"], [\"number\", \"Employment Location Quotient Relative to U.S.\"], [\"number\", \"Total Wage Location Quotient Relative to U.S.\"]],\n        columnOptions: [{\"width\": \"1px\", \"className\": \"index_column\"}],\n        rowsPerPage: 25,\n        helpUrl: \"https://colab.research.google.com/notebooks/data_table.ipynb\",\n        suppressOutputScrolling: true,\n        minimumWidth: undefined,\n      });\n\n      function appendQuickchartButton(parentElement) {\n        let quickchartButtonContainerElement = document.createElement('div');\n        quickchartButtonContainerElement.innerHTML = `\n    <div id=\"df-27726616-8838-4767-90c1-54c90eddaa5e\">\n      <button class=\"colab-df-quickchart\" onclick=\"quickchart('df-27726616-8838-4767-90c1-54c90eddaa5e')\"\n                title=\"Suggest charts\"\n                style=\"display:none;\">\n\n<svg xmlns=\"http://www.w3.org/2000/svg\" height=\"24px\"viewBox=\"0 0 24 24\"\n     width=\"24px\">\n    <g>\n        <path d=\"M19 3H5c-1.1 0-2 .9-2 2v14c0 1.1.9 2 2 2h14c1.1 0 2-.9 2-2V5c0-1.1-.9-2-2-2zM9 17H7v-7h2v7zm4 0h-2V7h2v10zm4 0h-2v-4h2v4z\"/>\n    </g>\n</svg>\n      </button>\n\n<style>\n  .colab-df-quickchart {\n      --bg-color: #E8F0FE;\n      --fill-color: #1967D2;\n      --hover-bg-color: #E2EBFA;\n      --hover-fill-color: #174EA6;\n      --disabled-fill-color: #AAA;\n      --disabled-bg-color: #DDD;\n  }\n\n  [theme=dark] .colab-df-quickchart {\n      --bg-color: #3B4455;\n      --fill-color: #D2E3FC;\n      --hover-bg-color: #434B5C;\n      --hover-fill-color: #FFFFFF;\n      --disabled-bg-color: #3B4455;\n      --disabled-fill-color: #666;\n  }\n\n  .colab-df-quickchart {\n    background-color: var(--bg-color);\n    border: none;\n    border-radius: 50%;\n    cursor: pointer;\n    display: none;\n    fill: var(--fill-color);\n    height: 32px;\n    padding: 0;\n    width: 32px;\n  }\n\n  .colab-df-quickchart:hover {\n    background-color: var(--hover-bg-color);\n    box-shadow: 0 1px 2px rgba(60, 64, 67, 0.3), 0 1px 3px 1px rgba(60, 64, 67, 0.15);\n    fill: var(--button-hover-fill-color);\n  }\n\n  .colab-df-quickchart-complete:disabled,\n  .colab-df-quickchart-complete:disabled:hover {\n    background-color: var(--disabled-bg-color);\n    fill: var(--disabled-fill-color);\n    box-shadow: none;\n  }\n\n  .colab-df-spinner {\n    border: 2px solid var(--fill-color);\n    border-color: transparent;\n    border-bottom-color: var(--fill-color);\n    animation:\n      spin 1s steps(1) infinite;\n  }\n\n  @keyframes spin {\n    0% {\n      border-color: transparent;\n      border-bottom-color: var(--fill-color);\n      border-left-color: var(--fill-color);\n    }\n    20% {\n      border-color: transparent;\n      border-left-color: var(--fill-color);\n      border-top-color: var(--fill-color);\n    }\n    30% {\n      border-color: transparent;\n      border-left-color: var(--fill-color);\n      border-top-color: var(--fill-color);\n      border-right-color: var(--fill-color);\n    }\n    40% {\n      border-color: transparent;\n      border-right-color: var(--fill-color);\n      border-top-color: var(--fill-color);\n    }\n    60% {\n      border-color: transparent;\n      border-right-color: var(--fill-color);\n    }\n    80% {\n      border-color: transparent;\n      border-right-color: var(--fill-color);\n      border-bottom-color: var(--fill-color);\n    }\n    90% {\n      border-color: transparent;\n      border-bottom-color: var(--fill-color);\n    }\n  }\n</style>\n\n      <script>\n        async function quickchart(key) {\n          const quickchartButtonEl =\n            document.querySelector('#' + key + ' button');\n          quickchartButtonEl.disabled = true;  // To prevent multiple clicks.\n          quickchartButtonEl.classList.add('colab-df-spinner');\n          try {\n            const charts = await google.colab.kernel.invokeFunction(\n                'suggestCharts', [key], {});\n          } catch (error) {\n            console.error('Error during call to suggestCharts:', error);\n          }\n          quickchartButtonEl.classList.remove('colab-df-spinner');\n          quickchartButtonEl.classList.add('colab-df-quickchart-complete');\n        }\n        (() => {\n          let quickchartButtonEl =\n            document.querySelector('#df-27726616-8838-4767-90c1-54c90eddaa5e button');\n          quickchartButtonEl.style.display =\n            google.colab.kernel.accessAllowed ? 'block' : 'none';\n        })();\n      </script>\n    </div>`;\n        parentElement.appendChild(quickchartButtonContainerElement);\n      }\n\n      appendQuickchartButton(table);\n    "
          },
          "metadata": {},
          "execution_count": 16
        }
      ]
    },
    {
      "cell_type": "code",
      "source": [
        "#From Data Vis Class\n",
        "# Employment Location Quotient Relative to U.S. vs Total Wage Location Quotient Relative to U.S.\n",
        "\n",
        "#from matplotlib import pyplot as plt\n",
        "#df4_table.plot(kind='scatter', x='Employment Location Quotient Relative to U.S.', y='Total Wage Location Quotient Relative to U.S.', s=32, alpha=.8)\n",
        "#plt.gca().spines[['top', 'right',]].set_visible(False)\n",
        "\n",
        "from matplotlib import pyplot as plt\n",
        "\n",
        "ax = df4_table.plot(kind='scatter', x='Employment Location Quotient Relative to U.S.', y='Total Wage Location Quotient Relative to U.S.', s=32, alpha=.8)\n",
        "\n",
        "# Add county labels\n",
        "for i, row in df4_table.iterrows():\n",
        "    plt.text(row['Employment Location Quotient Relative to U.S.'], row['Total Wage Location Quotient Relative to U.S.']+ 0.01, row['County'], fontsize=8, ha='center')\n",
        "\n",
        "plt.gca().spines[['top', 'right']].set_visible(False)\n",
        "plt.show()"
      ],
      "metadata": {
        "colab": {
          "base_uri": "https://localhost:8080/",
          "height": 820
        },
        "id": "Sel_rlnD_Ys-",
        "outputId": "dff2d8f8-82d0-450b-9bc1-6288f044abfc"
      },
      "execution_count": null,
      "outputs": [
        {
          "output_type": "execute_result",
          "data": {
            "text/plain": [
              "Text(0.98, 0.93, 'ATLANTIC')"
            ]
          },
          "metadata": {},
          "execution_count": 32
        },
        {
          "output_type": "execute_result",
          "data": {
            "text/plain": [
              "Text(1.05, 1.06, 'BERGEN')"
            ]
          },
          "metadata": {},
          "execution_count": 32
        },
        {
          "output_type": "execute_result",
          "data": {
            "text/plain": [
              "Text(1.03, 1.03, 'BURLINGTON')"
            ]
          },
          "metadata": {},
          "execution_count": 32
        },
        {
          "output_type": "execute_result",
          "data": {
            "text/plain": [
              "Text(1.01, 0.99, 'CAMDEN')"
            ]
          },
          "metadata": {},
          "execution_count": 32
        },
        {
          "output_type": "execute_result",
          "data": {
            "text/plain": [
              "Text(0.96, 0.9, 'CAPE MAY')"
            ]
          },
          "metadata": {},
          "execution_count": 32
        },
        {
          "output_type": "execute_result",
          "data": {
            "text/plain": [
              "Text(0.98, 0.95, 'CUMBERLAND')"
            ]
          },
          "metadata": {},
          "execution_count": 32
        },
        {
          "output_type": "execute_result",
          "data": {
            "text/plain": [
              "Text(0.93, 0.92, 'ESSEX')"
            ]
          },
          "metadata": {},
          "execution_count": 32
        },
        {
          "output_type": "execute_result",
          "data": {
            "text/plain": [
              "Text(0.99, 0.96, 'GLOUCESTER')"
            ]
          },
          "metadata": {},
          "execution_count": 32
        },
        {
          "output_type": "execute_result",
          "data": {
            "text/plain": [
              "Text(1.0, 1.03, 'HUDSON')"
            ]
          },
          "metadata": {},
          "execution_count": 32
        },
        {
          "output_type": "execute_result",
          "data": {
            "text/plain": [
              "Text(1.01, 1.02, 'HUNTERDON')"
            ]
          },
          "metadata": {},
          "execution_count": 32
        },
        {
          "output_type": "execute_result",
          "data": {
            "text/plain": [
              "Text(0.83, 0.88, 'MERCER')"
            ]
          },
          "metadata": {},
          "execution_count": 32
        },
        {
          "output_type": "execute_result",
          "data": {
            "text/plain": [
              "Text(1.02, 1.02, 'MIDDLESEX')"
            ]
          },
          "metadata": {},
          "execution_count": 32
        },
        {
          "output_type": "execute_result",
          "data": {
            "text/plain": [
              "Text(1.04, 1.03, 'MONMOUTH')"
            ]
          },
          "metadata": {},
          "execution_count": 32
        },
        {
          "output_type": "execute_result",
          "data": {
            "text/plain": [
              "Text(1.06, 1.08, 'MORRIS')"
            ]
          },
          "metadata": {},
          "execution_count": 32
        },
        {
          "output_type": "execute_result",
          "data": {
            "text/plain": [
              "Text(1.01, 0.97, 'OCEAN')"
            ]
          },
          "metadata": {},
          "execution_count": 32
        },
        {
          "output_type": "execute_result",
          "data": {
            "text/plain": [
              "Text(0.99, 0.96, 'PASSAIC')"
            ]
          },
          "metadata": {},
          "execution_count": 32
        },
        {
          "output_type": "execute_result",
          "data": {
            "text/plain": [
              "Text(0.97, 0.99, 'SALEM')"
            ]
          },
          "metadata": {},
          "execution_count": 32
        },
        {
          "output_type": "execute_result",
          "data": {
            "text/plain": [
              "Text(1.07, 1.1, 'SOMERSET')"
            ]
          },
          "metadata": {},
          "execution_count": 32
        },
        {
          "output_type": "execute_result",
          "data": {
            "text/plain": [
              "Text(0.96, 0.9400000000000001, 'SUSSEX')"
            ]
          },
          "metadata": {},
          "execution_count": 32
        },
        {
          "output_type": "execute_result",
          "data": {
            "text/plain": [
              "Text(1.02, 1.03, 'UNION')"
            ]
          },
          "metadata": {},
          "execution_count": 32
        },
        {
          "output_type": "execute_result",
          "data": {
            "text/plain": [
              "Text(1.0, 0.99, 'WARREN')"
            ]
          },
          "metadata": {},
          "execution_count": 32
        },
        {
          "output_type": "display_data",
          "data": {
            "text/plain": [
              "<Figure size 640x480 with 1 Axes>"
            ],
            "image/png": "[encoded data removed]"
          },
          "metadata": {}
        }
      ]
    },
    {
      "cell_type": "code",
      "source": [
        "df4_table[\"COUNTY\"] = df4_table[\"County\"].str.upper()"
      ],
      "metadata": {
        "colab": {
          "base_uri": "https://localhost:8080/"
        },
        "id": "gQx_a43MBxfp",
        "outputId": "78a4f6ec-ec67-40ad-f8cb-5ff0eca27fde"
      },
      "execution_count": null,
      "outputs": [
        {
          "output_type": "stream",
          "name": "stderr",
          "text": [
            "/tmp/ipython-input-1707717170.py:1: SettingWithCopyWarning: \n",
            "A value is trying to be set on a copy of a slice from a DataFrame.\n",
            "Try using .loc[row_indexer,col_indexer] = value instead\n",
            "\n",
            "See the caveats in the documentation: https://pandas.pydata.org/pandas-docs/stable/user_guide/indexing.html#returning-a-view-versus-a-copy\n",
            "  df4_table[\"COUNTY\"] = df4_table[\"County\"].str.upper()\n"
          ]
        }
      ]
    },
    {
      "cell_type": "code",
      "source": [
        "nj_merged = nj.merge(df4_table, on=\"COUNTY\", how=\"left\")\n",
        "#nj_merged.head()"
      ],
      "metadata": {
        "id": "kuLl-W8fBgje"
      },
      "execution_count": null,
      "outputs": []
    },
    {
      "cell_type": "code",
      "source": [
        "# Create maps\n",
        "fig, ax = plt.subplots(1, 1, figsize=(12, 8))\n",
        "\n",
        "# Maps with colors by Employment LQ\n",
        "nj_merged.plot(\n",
        "    column=\"Employment Location Quotient Relative to U.S.\",\n",
        "    cmap=\"viridis\",  # other 'plasma', 'OrRd', 'Blues'\n",
        "    linewidth=0.8,\n",
        "    edgecolor=\"0.8\",\n",
        "    legend=True,\n",
        "    ax=ax\n",
        ")\n",
        "\n",
        "# Name of counties at center\n",
        "for idx, row in nj_merged.iterrows():\n",
        "    plt.annotate(\n",
        "        text=row[\"COUNTY\"],\n",
        "        xy=(row[\"geometry\"].centroid.x, row[\"geometry\"].centroid.y),\n",
        "        horizontalalignment=\"center\",\n",
        "        fontsize=6,\n",
        "        color=\"black\"\n",
        "    )\n",
        "\n",
        "ax.set_title(\"Employment Location Quotient Relative to U.S. by County in New Jersey\", fontsize=14)\n",
        "ax.axis(\"off\")\n",
        "\n",
        "plt.show()"
      ],
      "metadata": {
        "colab": {
          "base_uri": "https://localhost:8080/",
          "height": 1000
        },
        "id": "D4o05qWLCMZ7",
        "outputId": "46471b1f-5f6a-4c65-d79a-70355acb25a7"
      },
      "execution_count": null,
      "outputs": [
        {
          "output_type": "execute_result",
          "data": {
            "text/plain": [
              "<Axes: >"
            ]
          },
          "metadata": {},
          "execution_count": 31
        },
        {
          "output_type": "execute_result",
          "data": {
            "text/plain": [
              "Text(446845.6710119825, 234718.67854471222, 'ATLANTIC')"
            ]
          },
          "metadata": {},
          "execution_count": 31
        },
        {
          "output_type": "execute_result",
          "data": {
            "text/plain": [
              "Text(608674.9722903798, 775344.9010704905, 'BERGEN')"
            ]
          },
          "metadata": {},
          "execution_count": 31
        },
        {
          "output_type": "execute_result",
          "data": {
            "text/plain": [
              "Text(445015.10017129, 380378.9908087645, 'BURLINGTON')"
            ]
          },
          "metadata": {},
          "execution_count": 31
        },
        {
          "output_type": "execute_result",
          "data": {
            "text/plain": [
              "Text(362977.140254135, 353705.812773536, 'CAMDEN')"
            ]
          },
          "metadata": {},
          "execution_count": 31
        },
        {
          "output_type": "execute_result",
          "data": {
            "text/plain": [
              "Text(407013.1101691078, 114992.23820242906, 'CAPE MAY')"
            ]
          },
          "metadata": {},
          "execution_count": 31
        },
        {
          "output_type": "execute_result",
          "data": {
            "text/plain": [
              "Text(319542.7506195572, 197359.46040186452, 'CUMBERLAND')"
            ]
          },
          "metadata": {},
          "execution_count": 31
        },
        {
          "output_type": "execute_result",
          "data": {
            "text/plain": [
              "Text(562253.4894992855, 711675.2449585614, 'ESSEX')"
            ]
          },
          "metadata": {},
          "execution_count": 31
        },
        {
          "output_type": "execute_result",
          "data": {
            "text/plain": [
              "Text(311851.0044582621, 322497.09146205307, 'GLOUCESTER')"
            ]
          },
          "metadata": {},
          "execution_count": 31
        },
        {
          "output_type": "execute_result",
          "data": {
            "text/plain": [
              "Text(608428.8356149012, 694107.9908801537, 'HUDSON')"
            ]
          },
          "metadata": {},
          "execution_count": 31
        },
        {
          "output_type": "execute_result",
          "data": {
            "text/plain": [
              "Text(377593.6983420124, 631791.0280015195, 'HUNTERDON')"
            ]
          },
          "metadata": {},
          "execution_count": 31
        },
        {
          "output_type": "execute_result",
          "data": {
            "text/plain": [
              "Text(435852.78759398806, 528228.3056099586, 'MERCER')"
            ]
          },
          "metadata": {},
          "execution_count": 31
        },
        {
          "output_type": "execute_result",
          "data": {
            "text/plain": [
              "Text(569736.7056196635, 519774.2489392377, 'MONMOUTH')"
            ]
          },
          "metadata": {},
          "execution_count": 31
        },
        {
          "output_type": "execute_result",
          "data": {
            "text/plain": [
              "Text(553566.9451515801, 382793.6503082437, 'OCEAN')"
            ]
          },
          "metadata": {},
          "execution_count": 31
        },
        {
          "output_type": "execute_result",
          "data": {
            "text/plain": [
              "Text(547142.4144700206, 801720.2266180195, 'PASSAIC')"
            ]
          },
          "metadata": {},
          "execution_count": 31
        },
        {
          "output_type": "execute_result",
          "data": {
            "text/plain": [
              "Text(253014.767951469, 275761.56707926694, 'SALEM')"
            ]
          },
          "metadata": {},
          "execution_count": 31
        },
        {
          "output_type": "execute_result",
          "data": {
            "text/plain": [
              "Text(459788.98517990607, 630164.5125108969, 'SOMERSET')"
            ]
          },
          "metadata": {},
          "execution_count": 31
        },
        {
          "output_type": "execute_result",
          "data": {
            "text/plain": [
              "Text(439541.23874521523, 839964.6338105244, 'SUSSEX')"
            ]
          },
          "metadata": {},
          "execution_count": 31
        },
        {
          "output_type": "execute_result",
          "data": {
            "text/plain": [
              "Text(545391.2858900087, 665430.0582508749, 'UNION')"
            ]
          },
          "metadata": {},
          "execution_count": 31
        },
        {
          "output_type": "execute_result",
          "data": {
            "text/plain": [
              "Text(354515.98946147866, 737506.369618912, 'WARREN')"
            ]
          },
          "metadata": {},
          "execution_count": 31
        },
        {
          "output_type": "execute_result",
          "data": {
            "text/plain": [
              "Text(479789.7234039994, 738913.4075906109, 'MORRIS')"
            ]
          },
          "metadata": {},
          "execution_count": 31
        },
        {
          "output_type": "execute_result",
          "data": {
            "text/plain": [
              "Text(516625.77448488685, 584830.6357102671, 'MIDDLESEX')"
            ]
          },
          "metadata": {},
          "execution_count": 31
        },
        {
          "output_type": "execute_result",
          "data": {
            "text/plain": [
              "Text(0.5, 1.0, 'Employment Location Quotient Relative to U.S. by County in New Jersey')"
            ]
          },
          "metadata": {},
          "execution_count": 31
        },
        {
          "output_type": "execute_result",
          "data": {
            "text/plain": [
              "(np.float64(170515.9983667597),\n",
              " np.float64(680228.4248388171),\n",
              " np.float64(-9284.43030238487),\n",
              " np.float64(963779.6277322728))"
            ]
          },
          "metadata": {},
          "execution_count": 31
        },
        {
          "output_type": "display_data",
          "data": {
            "text/plain": [
              "<Figure size 1200x800 with 2 Axes>"
            ],
            "image/png": "[encoded data removed]"
          },
          "metadata": {}
        }
      ]
    }
  ]
}